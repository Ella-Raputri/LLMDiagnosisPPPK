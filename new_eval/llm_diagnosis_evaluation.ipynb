{
  "cells": [
    {
      "cell_type": "code",
      "execution_count": 2,
      "metadata": {},
      "outputs": [],
      "source": [
        "import pandas as pd\n",
        "import numpy as np\n",
        "import json\n",
        "import os\n",
        "import re\n",
        "import warnings\n",
        "import openai\n",
        "from dotenv import load_dotenv\n",
        "warnings.filterwarnings('ignore')\n",
        "from tqdm import tqdm"
      ]
    },
    {
      "cell_type": "code",
      "execution_count": 3,
      "metadata": {},
      "outputs": [],
      "source": [
        "load_dotenv()\n",
        "client = openai.OpenAI(api_key=os.environ.get(\"OPENAI_API_KEY2\"))"
      ]
    },
    {
      "cell_type": "code",
      "execution_count": 4,
      "metadata": {},
      "outputs": [
        {
          "data": {
            "text/html": [
              "<div>\n",
              "<style scoped>\n",
              "    .dataframe tbody tr th:only-of-type {\n",
              "        vertical-align: middle;\n",
              "    }\n",
              "\n",
              "    .dataframe tbody tr th {\n",
              "        vertical-align: top;\n",
              "    }\n",
              "\n",
              "    .dataframe thead th {\n",
              "        text-align: right;\n",
              "    }\n",
              "</style>\n",
              "<table border=\"1\" class=\"dataframe\">\n",
              "  <thead>\n",
              "    <tr style=\"text-align: right;\">\n",
              "      <th></th>\n",
              "      <th>No</th>\n",
              "      <th>Question</th>\n",
              "      <th>Dr Answer</th>\n",
              "      <th>Claude Answer</th>\n",
              "      <th>Qwen Answer</th>\n",
              "      <th>GPT Answer</th>\n",
              "      <th>Deepseek RAG Answer</th>\n",
              "      <th>Deepseek non RAG Answer</th>\n",
              "      <th>Claude Full Answer</th>\n",
              "      <th>Qwen Full Answer</th>\n",
              "      <th>GPT Full Answer</th>\n",
              "      <th>Deepseek RAG Full Answer</th>\n",
              "      <th>Deepseek non RAG Full Answer</th>\n",
              "    </tr>\n",
              "  </thead>\n",
              "  <tbody>\n",
              "    <tr>\n",
              "      <th>0</th>\n",
              "      <td>1.0</td>\n",
              "      <td>Pasien mengalami demam pada waktu malam. Sebel...</td>\n",
              "      <td>Demam Tifoid 70%, Demam Berdarah Dengue 30%</td>\n",
              "      <td>Demam Tifoid, Leptospirosis, Demam Berdarah De...</td>\n",
              "      <td>Demam Biasa, Dispepsia, Asma, Infeksi Saluran ...</td>\n",
              "      <td>Demam Biasa, Demam Tifoid, Demam Berdarah Deng...</td>\n",
              "      <td>Demam Tifoid (Typhoid Fever), Malaria, Leptosp...</td>\n",
              "      <td>Malaria, Infeksi Saluran Kemih (ISK) atau Piel...</td>\n",
              "      <td>Berdasarkan gejala yang disampaikan, saya akan...</td>\n",
              "      <td>Berdasarkan gejala yang disampaikan, yaitu dem...</td>\n",
              "      <td>Berdasarkan gejala yang disampaikan, yaitu dem...</td>\n",
              "      <td>Berdasarkan gejala yang dialami pasien, yaitu ...</td>\n",
              "      <td>Berdasarkan gejala yang Anda sebutkan—demam pa...</td>\n",
              "    </tr>\n",
              "    <tr>\n",
              "      <th>1</th>\n",
              "      <td>2.0</td>\n",
              "      <td>Pasien mengalami buang air besar cair lebih da...</td>\n",
              "      <td>Gastroenteritis (GE) Akut 70%, Intoleransi Lak...</td>\n",
              "      <td>Gastroenteritis (GE) Akut, Disentri, Infeksi E...</td>\n",
              "      <td>Diare Akut, Gastroenteritis, Dispepsia, Infeks...</td>\n",
              "      <td>Gastroenteritis Akut, Infeksi Escherichia coli...</td>\n",
              "      <td>Gastroenteritis Akut, Keracunan Makanan, Infek...</td>\n",
              "      <td>Gastroenteritis Akut, Keracunan Makanan, Koler...</td>\n",
              "      <td>Berdasarkan informasi klinis yang diberikan, s...</td>\n",
              "      <td>Berdasarkan gejala yang disampaikan, yaitu bua...</td>\n",
              "      <td>Berdasarkan informasi yang diberikan, pasien m...</td>\n",
              "      <td>Berdasarkan informasi yang diberikan, pasien m...</td>\n",
              "      <td>Berdasarkan gejala yang Anda deskripsikan—diar...</td>\n",
              "    </tr>\n",
              "    <tr>\n",
              "      <th>2</th>\n",
              "      <td>3.0</td>\n",
              "      <td>Pasien datang dengan keluhan demam selama 6 ha...</td>\n",
              "      <td>DBD 80%</td>\n",
              "      <td>Demam Tifoid, Malaria, DBD, Leptospirosis, Inf...</td>\n",
              "      <td>Demam Biasa, Dispepsia, Asma, Demam Dengue, Lu...</td>\n",
              "      <td>Demam Berdarah Dengue, Demam Tifoid, Malaria, ...</td>\n",
              "      <td>Demam Berdarah Dengue (DBD), Demam Tifoid, Lep...</td>\n",
              "      <td>Demam Berdarah Dengue (DBD) / Dengue Fever, Ch...</td>\n",
              "      <td>Berdasarkan informasi yang diberikan, saya aka...</td>\n",
              "      <td>Berdasarkan gejala yang disampaikan, yaitu dem...</td>\n",
              "      <td>Berdasarkan keluhan yang disampaikan oleh pasi...</td>\n",
              "      <td>Berdasarkan keluhan pasien yang meliputi demam...</td>\n",
              "      <td>Berdasarkan gejala yang Anda sebutkan—demam ≥6...</td>\n",
              "    </tr>\n",
              "    <tr>\n",
              "      <th>3</th>\n",
              "      <td>4.0</td>\n",
              "      <td>Pasien menderita demam disertai munculnya brun...</td>\n",
              "      <td>Infeksi Bakteri/Virus (Sistemik) 50%, Infeksi ...</td>\n",
              "      <td>DBD, Infeksi Bakteri/Virus (Sistemik), Infeksi...</td>\n",
              "      <td>Demam Biasa, Dispepsia, Asma, Infeksi Lokal, A...</td>\n",
              "      <td>Infeksi Kulit (Dermatitis atau Selulitis), Kej...</td>\n",
              "      <td>Infeksi Bakteri (Selulitis), Reaksi Alergi (De...</td>\n",
              "      <td>Erisipelas (Infeksi Bakteri pada Kulit dan Jar...</td>\n",
              "      <td>Berdasarkan informasi klinis yang diberikan, s...</td>\n",
              "      <td>Berdasarkan gejala yang disampaikan, yaitu dem...</td>\n",
              "      <td>Berdasarkan informasi yang diberikan, pasien m...</td>\n",
              "      <td>### Analisis Gejala dan Kemungkinan Diagnosis\\...</td>\n",
              "      <td>Berdasarkan gejala dan temuan pemeriksaan yang...</td>\n",
              "    </tr>\n",
              "    <tr>\n",
              "      <th>4</th>\n",
              "      <td>5.0</td>\n",
              "      <td>Pasien nyeri dada sejak 4 jam lalu seperti ter...</td>\n",
              "      <td>Angina Pekrotis 80%, Infark Miokard Akut (Sera...</td>\n",
              "      <td>Angina Pekrotis, Infark Miokard Akut (Serangan...</td>\n",
              "      <td>Infark Miokard Akut (Serangan Jantung), Dispep...</td>\n",
              "      <td>Angina Pekrotis, Infark Miokard, Penyakit Musk...</td>\n",
              "      <td>Angina Pectoris (Kardiovaskular), Infark Mioka...</td>\n",
              "      <td>Infark Miokard Akut (Serangan Jantung), Angina...</td>\n",
              "      <td>Berdasarkan informasi yang diberikan dalam kon...</td>\n",
              "      <td>Berdasarkan gejala yang disampaikan, yaitu nye...</td>\n",
              "      <td>Berdasarkan informasi yang diberikan, pasien m...</td>\n",
              "      <td>### Analisis Gejala\\r\\n\\r\\nPasien mengeluhkan ...</td>\n",
              "      <td>Berdasarkan gejala nyeri dada seperti terhimpi...</td>\n",
              "    </tr>\n",
              "  </tbody>\n",
              "</table>\n",
              "</div>"
            ],
            "text/plain": [
              "    No                                           Question  \\\n",
              "0  1.0  Pasien mengalami demam pada waktu malam. Sebel...   \n",
              "1  2.0  Pasien mengalami buang air besar cair lebih da...   \n",
              "2  3.0  Pasien datang dengan keluhan demam selama 6 ha...   \n",
              "3  4.0  Pasien menderita demam disertai munculnya brun...   \n",
              "4  5.0  Pasien nyeri dada sejak 4 jam lalu seperti ter...   \n",
              "\n",
              "                                           Dr Answer  \\\n",
              "0        Demam Tifoid 70%, Demam Berdarah Dengue 30%   \n",
              "1  Gastroenteritis (GE) Akut 70%, Intoleransi Lak...   \n",
              "2                                            DBD 80%   \n",
              "3  Infeksi Bakteri/Virus (Sistemik) 50%, Infeksi ...   \n",
              "4  Angina Pekrotis 80%, Infark Miokard Akut (Sera...   \n",
              "\n",
              "                                       Claude Answer  \\\n",
              "0  Demam Tifoid, Leptospirosis, Demam Berdarah De...   \n",
              "1  Gastroenteritis (GE) Akut, Disentri, Infeksi E...   \n",
              "2  Demam Tifoid, Malaria, DBD, Leptospirosis, Inf...   \n",
              "3  DBD, Infeksi Bakteri/Virus (Sistemik), Infeksi...   \n",
              "4  Angina Pekrotis, Infark Miokard Akut (Serangan...   \n",
              "\n",
              "                                         Qwen Answer  \\\n",
              "0  Demam Biasa, Dispepsia, Asma, Infeksi Saluran ...   \n",
              "1  Diare Akut, Gastroenteritis, Dispepsia, Infeks...   \n",
              "2  Demam Biasa, Dispepsia, Asma, Demam Dengue, Lu...   \n",
              "3  Demam Biasa, Dispepsia, Asma, Infeksi Lokal, A...   \n",
              "4  Infark Miokard Akut (Serangan Jantung), Dispep...   \n",
              "\n",
              "                                          GPT Answer  \\\n",
              "0  Demam Biasa, Demam Tifoid, Demam Berdarah Deng...   \n",
              "1  Gastroenteritis Akut, Infeksi Escherichia coli...   \n",
              "2  Demam Berdarah Dengue, Demam Tifoid, Malaria, ...   \n",
              "3  Infeksi Kulit (Dermatitis atau Selulitis), Kej...   \n",
              "4  Angina Pekrotis, Infark Miokard, Penyakit Musk...   \n",
              "\n",
              "                                 Deepseek RAG Answer  \\\n",
              "0  Demam Tifoid (Typhoid Fever), Malaria, Leptosp...   \n",
              "1  Gastroenteritis Akut, Keracunan Makanan, Infek...   \n",
              "2  Demam Berdarah Dengue (DBD), Demam Tifoid, Lep...   \n",
              "3  Infeksi Bakteri (Selulitis), Reaksi Alergi (De...   \n",
              "4  Angina Pectoris (Kardiovaskular), Infark Mioka...   \n",
              "\n",
              "                             Deepseek non RAG Answer  \\\n",
              "0  Malaria, Infeksi Saluran Kemih (ISK) atau Piel...   \n",
              "1  Gastroenteritis Akut, Keracunan Makanan, Koler...   \n",
              "2  Demam Berdarah Dengue (DBD) / Dengue Fever, Ch...   \n",
              "3  Erisipelas (Infeksi Bakteri pada Kulit dan Jar...   \n",
              "4  Infark Miokard Akut (Serangan Jantung), Angina...   \n",
              "\n",
              "                                  Claude Full Answer  \\\n",
              "0  Berdasarkan gejala yang disampaikan, saya akan...   \n",
              "1  Berdasarkan informasi klinis yang diberikan, s...   \n",
              "2  Berdasarkan informasi yang diberikan, saya aka...   \n",
              "3  Berdasarkan informasi klinis yang diberikan, s...   \n",
              "4  Berdasarkan informasi yang diberikan dalam kon...   \n",
              "\n",
              "                                    Qwen Full Answer  \\\n",
              "0  Berdasarkan gejala yang disampaikan, yaitu dem...   \n",
              "1  Berdasarkan gejala yang disampaikan, yaitu bua...   \n",
              "2  Berdasarkan gejala yang disampaikan, yaitu dem...   \n",
              "3  Berdasarkan gejala yang disampaikan, yaitu dem...   \n",
              "4  Berdasarkan gejala yang disampaikan, yaitu nye...   \n",
              "\n",
              "                                     GPT Full Answer  \\\n",
              "0  Berdasarkan gejala yang disampaikan, yaitu dem...   \n",
              "1  Berdasarkan informasi yang diberikan, pasien m...   \n",
              "2  Berdasarkan keluhan yang disampaikan oleh pasi...   \n",
              "3  Berdasarkan informasi yang diberikan, pasien m...   \n",
              "4  Berdasarkan informasi yang diberikan, pasien m...   \n",
              "\n",
              "                            Deepseek RAG Full Answer  \\\n",
              "0  Berdasarkan gejala yang dialami pasien, yaitu ...   \n",
              "1  Berdasarkan informasi yang diberikan, pasien m...   \n",
              "2  Berdasarkan keluhan pasien yang meliputi demam...   \n",
              "3  ### Analisis Gejala dan Kemungkinan Diagnosis\\...   \n",
              "4  ### Analisis Gejala\\r\\n\\r\\nPasien mengeluhkan ...   \n",
              "\n",
              "                        Deepseek non RAG Full Answer  \n",
              "0  Berdasarkan gejala yang Anda sebutkan—demam pa...  \n",
              "1  Berdasarkan gejala yang Anda deskripsikan—diar...  \n",
              "2  Berdasarkan gejala yang Anda sebutkan—demam ≥6...  \n",
              "3  Berdasarkan gejala dan temuan pemeriksaan yang...  \n",
              "4  Berdasarkan gejala nyeri dada seperti terhimpi...  "
            ]
          },
          "execution_count": 4,
          "metadata": {},
          "output_type": "execute_result"
        }
      ],
      "source": [
        "df = pd.read_csv('../cleaning_before_eval/ready_to_eval.csv')\n",
        "df.head()"
      ]
    },
    {
      "cell_type": "code",
      "execution_count": 5,
      "metadata": {},
      "outputs": [],
      "source": [
        "with open('kamus.json', 'r') as file:\n",
        "    SYNONYM_MAP = json.load(file)\n",
        "    \n",
        "def normalize_text(text):\n",
        "    text = text.lower()\n",
        "    text = re.sub(r'[^a-zA-Z\\s]', '', text)\n",
        "    text = re.sub(r'\\s+', ' ', text).strip()\n",
        "\n",
        "    for abbr, canonical in SYNONYM_MAP.items():\n",
        "        abb = abbr.lower()\n",
        "        canon = canonical.lower()\n",
        "\n",
        "        if (text == canon): break\n",
        "        pattern = rf'\\b{re.escape(abb)}\\b'\n",
        "        if re.search(pattern, text):\n",
        "            text = re.sub(pattern, canon, text)\n",
        "            break\n",
        "        \n",
        "    return text"
      ]
    },
    {
      "cell_type": "code",
      "execution_count": 10,
      "metadata": {},
      "outputs": [],
      "source": [
        "import time\n",
        "\n",
        "def llm_judge_answer(question, candidate_answer:str, gt_answers:str, model_name=\"gpt-3.5-turbo\", max_retries=3):\n",
        "    for attempt in range(max_retries):\n",
        "        try:\n",
        "            if attempt > 0:\n",
        "                delay = 2 ** attempt  \n",
        "                print(f\"Retrying after {delay} seconds...\")\n",
        "                time.sleep(delay)\n",
        "            \n",
        "            normalized_candidate = normalize_text(candidate_answer)\n",
        "            ground_truth_text = normalize_text(gt_answers)\n",
        "\n",
        "            prompt = f\"\"\"\n",
        "            You are a medical expert evaluating diagnosis answers. Please judge whether the candidate answer is appropriate, based on the ground truth diagnoses.\n",
        "\n",
        "            Question: {question}\n",
        "            Ground Truth Answers: {ground_truth_text}\n",
        "            Candidate Answer: {normalized_candidate}\n",
        "\n",
        "            Evaluation Instructions:\n",
        "            1. Carefully read all the ground truth diagnoses and note the probability (%) associated with each. These percentages represent subjective probabilities assigned by a human doctor.\n",
        "            2. Read the candidate answer(s). For each, determine whether it is:\n",
        "            a. Correct and matches one of the ground truth diagnoses  \n",
        "            b. Partially correct or related (e.g., a broader category, symptom-level, or similar condition)  \n",
        "            c. Incorrect or unrelated\n",
        "\n",
        "            3. If the candidate answer matches any ground truth diagnosis exactly, score it only based on the match and the probability assigned to that diagnosis. \n",
        "            - A match with a high-probability diagnosis (e.g., 70%) should result in a high score (close to 1).\n",
        "            - A match with a low-probability diagnosis (e.g., 10%) should still be credited, but with a lower score.\n",
        "\n",
        "            4. If the candidate answer is only partially related (e.g., a plausible but incorrect differential diagnosis), score accordingly with a moderate value.\n",
        "\n",
        "            5. If the answer is incorrect or unrelated, assign a low score close to 0.\n",
        "\n",
        "            6. Very important: Do NOT penalize the candidate for not mentioning all ground truth diagnoses.  \n",
        "            If the candidate matches the top diagnosis (the one with the highest percentage), give it a high score (e.g., 0.9 to 1.0), even if other diagnoses are not mentioned.  \n",
        "            Only score lower if the top diagnosis is not mentioned or the answer is incorrect.\n",
        "\n",
        "            You are only evaluating the correctness and relevance of the candidate diagnosis, not how exhaustive it is.\n",
        "\n",
        "\n",
        "            Respond with a JSON object in the following format:\n",
        "            {{\n",
        "            \"score\": <float score from 0 to 1>,\n",
        "            \"reasoning\": \"<brief explanation of your judgment>\",\n",
        "            \"category\": \"<correct|partial|incorrect>\"\n",
        "            }}\n",
        "\n",
        "            Response:\n",
        "            \"\"\"\n",
        "\n",
        "            response = client.chat.completions.create(\n",
        "                model=model_name,\n",
        "                messages=[\n",
        "                    {\"role\": \"system\", \"content\": \"You are a medical expert evaluating diagnosis accuracy.\"},\n",
        "                    {\"role\": \"user\", \"content\": prompt}\n",
        "                ],\n",
        "                temperature=0.1,\n",
        "                max_tokens=200\n",
        "            )\n",
        "\n",
        "            response_text = response.choices[0].message.content\n",
        "            # print(response_text)\n",
        "            try:\n",
        "                start_idx = response_text.find('{')\n",
        "                end_idx = response_text.rfind('}') + 1\n",
        "                json_str = response_text[start_idx:end_idx]\n",
        "                \n",
        "                result = json.loads(json_str)\n",
        "                if 'score' in result and 'reasoning' in result and 'category' in result:\n",
        "                    return result\n",
        "                else:\n",
        "                    raise ValueError(\"Invalid response structure\")\n",
        "                    \n",
        "            except Exception as parse_error:\n",
        "                print(f\"Parse error on attempt {attempt + 1}: {parse_error}\")\n",
        "                if attempt == max_retries - 1:\n",
        "                    return {\n",
        "                        \"score\": 0.5,\n",
        "                        \"reasoning\": \"Could not parse LLM response after multiple attempts\",\n",
        "                        \"category\": \"partial\"\n",
        "                    }\n",
        "                continue\n",
        "                \n",
        "        except Exception as e:\n",
        "            print(f\"API error on attempt {attempt + 1}: {e}\")\n",
        "            if \"insufficient_quota\" in str(e) or \"quota\" in str(e).lower():\n",
        "                print(\"⚠️  OpenAI API quota exceeded. Please check your billing.\")\n",
        "                return {\n",
        "                    \"score\": 0.0,\n",
        "                    \"reasoning\": \"API quota exceeded\",\n",
        "                    \"category\": \"error\"\n",
        "                }\n",
        "            elif attempt == max_retries - 1:\n",
        "                return {\n",
        "                    \"score\": 0.0,\n",
        "                    \"reasoning\": f\"API error after {max_retries} attempts: {str(e)}\",\n",
        "                    \"category\": \"error\"\n",
        "                }\n",
        "            continue\n",
        "\n",
        "    return {\n",
        "        \"score\": 0.0,\n",
        "        \"reasoning\": \"Unknown error occurred\",\n",
        "        \"category\": \"error\"\n",
        "    }"
      ]
    },
    {
      "cell_type": "code",
      "execution_count": 14,
      "metadata": {},
      "outputs": [
        {
          "name": "stdout",
          "output_type": "stream",
          "text": [
            "Test Result 3.5: {'score': 0.9, 'reasoning': \"The candidate answer correctly matches 'demam berdarah dengue' which is one of the ground truth diagnoses with a high probability.\", 'category': 'correct'}\n",
            "Test Result 4: {'score': 0.9, 'reasoning': \"The candidate answer correctly identifies two of the ground truth diagnoses: 'demam berdarah dengue' and 'demam tifoid'. However, it also includes 'demam biasa' which is not part of the ground truth diagnoses.\", 'category': 'partial'}\n"
          ]
        }
      ],
      "source": [
        "sample_question = \"Pasien mengalami demam pada waktu malam\"\n",
        "sample_candidate = \"Demam berdarah, demam tifoid, demam biasa\"\n",
        "sample_gt = \"Demam Tifoid 70%, Demam Berdarah Dengue 30%\"\n",
        "\n",
        "test_result = llm_judge_answer(sample_question, sample_candidate, sample_gt)\n",
        "print(f\"Test Result 3.5: {test_result}\")\n",
        "test_result = llm_judge_answer(sample_question, sample_candidate, sample_gt, model_name='gpt-4-0613')\n",
        "print(f\"Test Result 4: {test_result}\")\n"
      ]
    },
    {
      "cell_type": "code",
      "execution_count": 7,
      "metadata": {},
      "outputs": [],
      "source": [
        "def find_score_llm_judge(candidate_answers, question, gt_answers, model_name):\n",
        "    if not candidate_answers or not gt_answers:\n",
        "        return None, 0.0, {}\n",
        "    \n",
        "    best_score = 0.0\n",
        "    average_score = 0.0\n",
        "    \n",
        "    for candidate in tqdm(candidate_answers, desc=f'Processing cands {model_name}'):\n",
        "        judgment = llm_judge_answer(question, candidate, gt_answers, model_name)\n",
        "        score = judgment.get('score', 0.0)\n",
        "        average_score += score\n",
        "        \n",
        "        if score > best_score:\n",
        "            best_score = score\n",
        "    \n",
        "    cands = \",\".join(candidate_answers)\n",
        "    all_round_score = llm_judge_answer(question, cands, gt_answers, model_name).get('score', 0.0)\n",
        "    \n",
        "    return (average_score/len(candidate_answers)), best_score, all_round_score"
      ]
    },
    {
      "cell_type": "code",
      "execution_count": 8,
      "metadata": {},
      "outputs": [],
      "source": [
        "def find_judgement(candidate_answers, question, gt_answers, model_name):\n",
        "    if not candidate_answers or not gt_answers:\n",
        "        return None, 0.0, {}\n",
        "    \n",
        "    best_score = 0.0\n",
        "    average_score = 0.0\n",
        "    \n",
        "    for candidate in tqdm(candidate_answers, desc=f'Processing cands {model_name}'):\n",
        "        judgment = llm_judge_answer(question, candidate, gt_answers, model_name)\n",
        "        print(f\"Judgement {candidate}:\", judgment)\n",
        "        score = judgment.get('score', 0.0)\n",
        "        average_score += score\n",
        "        \n",
        "        if score > best_score:\n",
        "            best_score = score\n",
        "    \n",
        "    cands = \",\".join(candidate_answers)\n",
        "    all_judge = llm_judge_answer(question, cands, gt_answers, model_name)\n",
        "    all_round_score = all_judge.get('score', 0.0)\n",
        "    print(f'All judge: {all_judge}')\n",
        "    \n",
        "    return (average_score/len(candidate_answers)), best_score, all_round_score"
      ]
    },
    {
      "cell_type": "code",
      "execution_count": 14,
      "metadata": {},
      "outputs": [
        {
          "name": "stderr",
          "output_type": "stream",
          "text": [
            "Processing cands gpt-4-0613:  20%|██        | 1/5 [00:03<00:13,  3.37s/it]"
          ]
        },
        {
          "name": "stdout",
          "output_type": "stream",
          "text": [
            "Judgement Demam Tifoid: {'score': 0.33, 'reasoning': \"The candidate answer only mentions 'demam tifoid' which is one of the possible diagnoses listed in the ground truth answers. However, it does not mention 'demam berdarah' or 'demam berdarah dengue' which are also potential diagnoses.\", 'category': 'partial'}\n"
          ]
        },
        {
          "name": "stderr",
          "output_type": "stream",
          "text": [
            "Processing cands gpt-4-0613:  40%|████      | 2/5 [00:07<00:11,  3.71s/it]"
          ]
        },
        {
          "name": "stdout",
          "output_type": "stream",
          "text": [
            "Judgement Leptospirosis: {'score': 0.0, 'reasoning': \"The candidate answer of 'leptospirosis' does not match the ground truth answers of 'demam tifoid', 'demam berdarah', or 'demam berdarah dengue'. While all are diseases that can cause fever, nausea, and chills, they are distinct conditions with different causes and treatments.\", 'category': 'incorrect'}\n"
          ]
        },
        {
          "name": "stderr",
          "output_type": "stream",
          "text": [
            "Processing cands gpt-4-0613:  60%|██████    | 3/5 [00:09<00:06,  3.24s/it]"
          ]
        },
        {
          "name": "stdout",
          "output_type": "stream",
          "text": [
            "Judgement Demam Berdarah Dengue: {'score': 0.33, 'reasoning': 'The candidate answer is partially correct. The symptoms described could be indicative of several diseases, including dengue fever, typhoid fever, and dengue hemorrhagic fever. The candidate answer only mentions dengue hemorrhagic fever, which is one of the possible diagnoses.', 'category': 'partial'}\n"
          ]
        },
        {
          "name": "stderr",
          "output_type": "stream",
          "text": [
            "Processing cands gpt-4-0613:  80%|████████  | 4/5 [00:13<00:03,  3.38s/it]"
          ]
        },
        {
          "name": "stdout",
          "output_type": "stream",
          "text": [
            "Judgement Hepatitis A: {'score': 0, 'reasoning': \"The candidate answer of 'hepatitis a' does not match the ground truth answers of 'demam tifoid', 'demam berdarah', or 'demam berdarah dengue'. The symptoms described in the question are more consistent with the ground truth answers than with hepatitis A.\", 'category': 'incorrect'}\n"
          ]
        },
        {
          "name": "stderr",
          "output_type": "stream",
          "text": [
            "Processing cands gpt-4-0613: 100%|██████████| 5/5 [00:17<00:00,  3.45s/it]"
          ]
        },
        {
          "name": "stdout",
          "output_type": "stream",
          "text": [
            "Judgement Infeksi Saluran Kemih: {'score': 0, 'reasoning': \"The candidate answer 'isk' does not match any of the ground truth answers 'demam tifoid', 'demam berdarah', or 'demam berdarah dengue'. The symptoms described could be indicative of these diseases, but 'isk' is not related to these diagnoses.\", 'category': 'incorrect'}\n"
          ]
        },
        {
          "name": "stderr",
          "output_type": "stream",
          "text": [
            "\n"
          ]
        },
        {
          "name": "stdout",
          "output_type": "stream",
          "text": [
            "All judge: {'score': 0.4, 'reasoning': \"The candidate answer includes 'demam tifoid' and 'demam berdarah dengue' which are correct and match the ground truth. However, it also includes 'leptospirosis', 'hepatitis a', and 'infeksi saluran kemih' which are not mentioned in the ground truth answers.\", 'category': 'partial'}\n",
            "================================================\n"
          ]
        },
        {
          "name": "stderr",
          "output_type": "stream",
          "text": [
            "Processing cands gpt-3.5-turbo:  20%|██        | 1/5 [00:00<00:02,  1.42it/s]"
          ]
        },
        {
          "name": "stdout",
          "output_type": "stream",
          "text": [
            "Judgement Demam Tifoid: {'score': 1, 'reasoning': \"The candidate answer 'demam tifoid' matches one of the ground truth answers 'demam tifoid'.\", 'category': 'correct'}\n"
          ]
        },
        {
          "name": "stderr",
          "output_type": "stream",
          "text": [
            "Processing cands gpt-3.5-turbo:  40%|████      | 2/5 [00:01<00:02,  1.13it/s]"
          ]
        },
        {
          "name": "stdout",
          "output_type": "stream",
          "text": [
            "Judgement Leptospirosis: {'score': 0, 'reasoning': \"The candidate answer 'leptospirosis' does not match any of the ground truth answers provided (demam tifoid, demam berdarah, demam berdarah dengue). Leptospirosis is not a common diagnosis for the symptoms described.\", 'category': 'incorrect'}\n"
          ]
        },
        {
          "name": "stderr",
          "output_type": "stream",
          "text": [
            "Processing cands gpt-3.5-turbo:  60%|██████    | 3/5 [00:02<00:02,  1.06s/it]"
          ]
        },
        {
          "name": "stdout",
          "output_type": "stream",
          "text": [
            "Judgement Demam Berdarah Dengue: {'score': 1, 'reasoning': \"The candidate answer 'demam berdarah dengue' perfectly matches the ground truth answers 'demam berdarah dengue'.\", 'category': 'correct'}\n"
          ]
        },
        {
          "name": "stderr",
          "output_type": "stream",
          "text": [
            "Processing cands gpt-3.5-turbo:  80%|████████  | 4/5 [00:03<00:00,  1.02it/s]"
          ]
        },
        {
          "name": "stdout",
          "output_type": "stream",
          "text": [
            "Judgement Hepatitis A: {'score': 0, 'reasoning': 'Hepatitis A does not match the symptoms described in the question, which are more indicative of dengue fever or typhoid fever.', 'category': 'incorrect'}\n"
          ]
        },
        {
          "name": "stderr",
          "output_type": "stream",
          "text": [
            "Processing cands gpt-3.5-turbo: 100%|██████████| 5/5 [00:04<00:00,  1.04it/s]"
          ]
        },
        {
          "name": "stdout",
          "output_type": "stream",
          "text": [
            "Judgement Infeksi Saluran Kemih: {'score': 0, 'reasoning': \"The candidate answer 'isk' is incorrect and unrelated to the symptoms described in the question.\", 'category': 'incorrect'}\n"
          ]
        },
        {
          "name": "stderr",
          "output_type": "stream",
          "text": [
            "\n"
          ]
        },
        {
          "name": "stdout",
          "output_type": "stream",
          "text": [
            "All judge: {'score': 0.33, 'reasoning': 'The candidate answer includes demam tifoid and demam berdarah dengue, which match with the ground truth. However, the other diagnoses such as leptospirosis, hepatitis A, and urinary tract infection are unrelated to the symptoms described.', 'category': 'partial'}\n"
          ]
        }
      ],
      "source": [
        "cands = [item.strip() for item in df['Claude Answer'][0].split(',')]\n",
        "gt = df['Dr Answer'][0]\n",
        "q = df['Question'][0]\n",
        "# cands\n",
        "hasil1 = find_judgement(cands, q, gt, 'gpt-4-0613')\n",
        "print('================================================')\n",
        "hasil2 = find_judgement(cands, q, gt, 'gpt-3.5-turbo')"
      ]
    },
    {
      "cell_type": "code",
      "execution_count": 15,
      "metadata": {},
      "outputs": [
        {
          "data": {
            "text/plain": [
              "'Demam Tifoid 70%, Demam Berdarah Dengue 30%'"
            ]
          },
          "execution_count": 15,
          "metadata": {},
          "output_type": "execute_result"
        }
      ],
      "source": [
        "gt"
      ]
    },
    {
      "cell_type": "code",
      "execution_count": 8,
      "metadata": {},
      "outputs": [],
      "source": [
        "def process_row(row):\n",
        "    print(f\"Processing row {row.name}...\")\n",
        "    # truth_list = [item.strip() for item in row['Dr Answer'].split(',')]\n",
        "    model_cols = {\n",
        "        'Claude Answer': 'LLM_JUDGE_Claude',\n",
        "        'Qwen Answer': 'LLM_JUDGE_Qwen',\n",
        "        'GPT Answer': 'LLM_JUDGE_GPT',\n",
        "        'Deepseek RAG Answer': 'LLM_JUDGE_Deepseek_RAG',\n",
        "        'Deepseek non RAG Answer': 'LLM_JUDGE_Deepseek_nonRAG'\n",
        "    }\n",
        "    # gpt-3.5-turbo\n",
        "    # 'gpt-4-0613'\n",
        "    for col_name, result_col in tqdm(model_cols.items(), desc='Processing models'):\n",
        "        model_list = [item.strip() for item in row[col_name].split(',')]\n",
        "        row[f'{result_col}_avg_4'], row[f'{result_col}_best_4'], \\\n",
        "            row[f'{result_col}_all_4'] = find_score_llm_judge(model_list, row['Question'], row['Dr Answer'], model_name='gpt-4-0613')\n",
        "        row[f'{result_col}_avg_3.5'], row[f'{result_col}_best_3.5'], \\\n",
        "            row[f'{result_col}_all_3.5'] = find_score_llm_judge(model_list, row['Question'], row['Dr Answer'], model_name='gpt-3.5-turbo')\n",
        "    \n",
        "    return row"
      ]
    },
    {
      "cell_type": "code",
      "execution_count": 9,
      "metadata": {},
      "outputs": [
        {
          "name": "stdout",
          "output_type": "stream",
          "text": [
            "Processing row 0...\n"
          ]
        },
        {
          "name": "stderr",
          "output_type": "stream",
          "text": [
            "Processing cands gpt-4-0613: 100%|██████████| 5/5 [00:17<00:00,  3.49s/it]\n",
            "Processing cands gpt-3.5-turbo: 100%|██████████| 5/5 [00:04<00:00,  1.01it/s]\n",
            "Processing cands gpt-4-0613: 100%|██████████| 5/5 [00:18<00:00,  3.79s/it]\n",
            "Processing cands gpt-3.5-turbo: 100%|██████████| 5/5 [00:05<00:00,  1.06s/it]\n",
            "Processing cands gpt-4-0613: 100%|██████████| 5/5 [00:17<00:00,  3.54s/it]\n",
            "Processing cands gpt-3.5-turbo: 100%|██████████| 5/5 [00:05<00:00,  1.03s/it]\n",
            "Processing cands gpt-4-0613: 100%|██████████| 5/5 [00:17<00:00,  3.46s/it]\n",
            "Processing cands gpt-3.5-turbo: 100%|██████████| 5/5 [00:04<00:00,  1.03it/s]\n",
            "Processing cands gpt-4-0613: 100%|██████████| 7/7 [00:24<00:00,  3.44s/it]\n",
            "Processing cands gpt-3.5-turbo: 100%|██████████| 7/7 [00:07<00:00,  1.08s/it]\n",
            "Processing models: 100%|██████████| 5/5 [02:28<00:00, 29.73s/it]\n"
          ]
        },
        {
          "name": "stdout",
          "output_type": "stream",
          "text": [
            "Processing row 1...\n"
          ]
        },
        {
          "name": "stderr",
          "output_type": "stream",
          "text": [
            "Processing cands gpt-4-0613: 100%|██████████| 5/5 [00:20<00:00,  4.03s/it]\n",
            "Processing cands gpt-3.5-turbo: 100%|██████████| 5/5 [00:04<00:00,  1.04it/s]\n",
            "Processing cands gpt-4-0613: 100%|██████████| 5/5 [00:17<00:00,  3.48s/it]\n",
            "Processing cands gpt-3.5-turbo: 100%|██████████| 5/5 [00:06<00:00,  1.25s/it]\n",
            "Processing cands gpt-4-0613: 100%|██████████| 5/5 [00:17<00:00,  3.48s/it]\n",
            "Processing cands gpt-3.5-turbo: 100%|██████████| 5/5 [00:05<00:00,  1.00s/it]\n",
            "Processing cands gpt-4-0613: 100%|██████████| 5/5 [00:21<00:00,  4.22s/it]\n",
            "Processing cands gpt-3.5-turbo: 100%|██████████| 5/5 [00:05<00:00,  1.06s/it]\n",
            "Processing cands gpt-4-0613: 100%|██████████| 6/6 [00:18<00:00,  3.07s/it]\n",
            "Processing cands gpt-3.5-turbo: 100%|██████████| 6/6 [00:06<00:00,  1.06s/it]\n",
            "Processing models: 100%|██████████| 5/5 [02:30<00:00, 30.08s/it]\n"
          ]
        },
        {
          "name": "stdout",
          "output_type": "stream",
          "text": [
            "Processing row 2...\n"
          ]
        },
        {
          "name": "stderr",
          "output_type": "stream",
          "text": [
            "Processing cands gpt-4-0613: 100%|██████████| 5/5 [00:13<00:00,  2.68s/it]\n",
            "Processing cands gpt-3.5-turbo: 100%|██████████| 5/5 [00:05<00:00,  1.03s/it]\n",
            "Processing cands gpt-4-0613: 100%|██████████| 5/5 [00:14<00:00,  2.86s/it]\n",
            "Processing cands gpt-3.5-turbo: 100%|██████████| 5/5 [00:05<00:00,  1.10s/it]\n",
            "Processing cands gpt-4-0613: 100%|██████████| 6/6 [00:18<00:00,  3.00s/it]\n",
            "Processing cands gpt-3.5-turbo: 100%|██████████| 6/6 [00:05<00:00,  1.15it/s]\n",
            "Processing cands gpt-4-0613: 100%|██████████| 6/6 [00:22<00:00,  3.81s/it]\n",
            "Processing cands gpt-3.5-turbo: 100%|██████████| 6/6 [00:05<00:00,  1.03it/s]\n",
            "Processing cands gpt-4-0613: 100%|██████████| 6/6 [00:18<00:00,  3.00s/it]\n",
            "Processing cands gpt-3.5-turbo: 100%|██████████| 6/6 [00:05<00:00,  1.07it/s]\n",
            "Processing models: 100%|██████████| 5/5 [02:14<00:00, 26.94s/it]\n"
          ]
        },
        {
          "name": "stdout",
          "output_type": "stream",
          "text": [
            "Processing row 3...\n"
          ]
        },
        {
          "name": "stderr",
          "output_type": "stream",
          "text": [
            "Processing cands gpt-4-0613: 100%|██████████| 5/5 [00:18<00:00,  3.77s/it]\n",
            "Processing cands gpt-3.5-turbo: 100%|██████████| 5/5 [00:06<00:00,  1.23s/it]\n",
            "Processing cands gpt-4-0613: 100%|██████████| 5/5 [00:18<00:00,  3.64s/it]\n",
            "Processing cands gpt-3.5-turbo: 100%|██████████| 5/5 [00:07<00:00,  1.42s/it]\n",
            "Processing cands gpt-4-0613: 100%|██████████| 5/5 [00:18<00:00,  3.75s/it]\n",
            "Processing cands gpt-3.5-turbo: 100%|██████████| 5/5 [00:05<00:00,  1.06s/it]\n",
            "Processing cands gpt-4-0613: 100%|██████████| 5/5 [00:19<00:00,  3.87s/it]\n",
            "Processing cands gpt-3.5-turbo: 100%|██████████| 5/5 [00:05<00:00,  1.20s/it]\n",
            "Processing cands gpt-4-0613: 100%|██████████| 5/5 [00:20<00:00,  4.14s/it]\n",
            "Processing cands gpt-3.5-turbo: 100%|██████████| 5/5 [00:05<00:00,  1.02s/it]\n",
            "Processing models: 100%|██████████| 5/5 [02:31<00:00, 30.27s/it]\n"
          ]
        },
        {
          "name": "stdout",
          "output_type": "stream",
          "text": [
            "Processing row 4...\n"
          ]
        },
        {
          "name": "stderr",
          "output_type": "stream",
          "text": [
            "Processing cands gpt-4-0613: 100%|██████████| 5/5 [00:16<00:00,  3.23s/it]\n",
            "Processing cands gpt-3.5-turbo: 100%|██████████| 5/5 [00:04<00:00,  1.00it/s]\n",
            "Processing cands gpt-4-0613: 100%|██████████| 5/5 [00:13<00:00,  2.70s/it]\n",
            "Processing cands gpt-3.5-turbo: 100%|██████████| 5/5 [00:04<00:00,  1.03it/s]\n",
            "Processing cands gpt-4-0613: 100%|██████████| 5/5 [00:16<00:00,  3.29s/it]\n",
            "Processing cands gpt-3.5-turbo: 100%|██████████| 5/5 [00:05<00:00,  1.04s/it]\n",
            "Processing cands gpt-4-0613: 100%|██████████| 5/5 [00:14<00:00,  2.82s/it]\n",
            "Processing cands gpt-3.5-turbo: 100%|██████████| 5/5 [00:05<00:00,  1.11s/it]\n",
            "Processing cands gpt-4-0613: 100%|██████████| 6/6 [00:18<00:00,  3.09s/it]\n",
            "Processing cands gpt-3.5-turbo: 100%|██████████| 6/6 [00:06<00:00,  1.07s/it]\n",
            "Processing models: 100%|██████████| 5/5 [02:11<00:00, 26.34s/it]\n"
          ]
        },
        {
          "name": "stdout",
          "output_type": "stream",
          "text": [
            "Processing row 5...\n"
          ]
        },
        {
          "name": "stderr",
          "output_type": "stream",
          "text": [
            "Processing cands gpt-4-0613: 100%|██████████| 5/5 [00:14<00:00,  2.84s/it]\n",
            "Processing cands gpt-3.5-turbo: 100%|██████████| 5/5 [00:04<00:00,  1.01it/s]\n",
            "Processing cands gpt-4-0613: 100%|██████████| 5/5 [00:16<00:00,  3.27s/it]\n",
            "Processing cands gpt-3.5-turbo: 100%|██████████| 5/5 [00:05<00:00,  1.02s/it]\n",
            "Processing cands gpt-4-0613: 100%|██████████| 5/5 [00:17<00:00,  3.47s/it]\n",
            "Processing cands gpt-3.5-turbo: 100%|██████████| 5/5 [00:04<00:00,  1.01it/s]\n",
            "Processing cands gpt-4-0613: 100%|██████████| 5/5 [00:16<00:00,  3.26s/it]\n",
            "Processing cands gpt-3.5-turbo: 100%|██████████| 5/5 [00:04<00:00,  1.05it/s]\n",
            "Processing cands gpt-4-0613: 100%|██████████| 5/5 [00:17<00:00,  3.56s/it]\n",
            "Processing cands gpt-3.5-turbo: 100%|██████████| 5/5 [00:04<00:00,  1.08it/s]\n",
            "Processing models: 100%|██████████| 5/5 [02:10<00:00, 26.09s/it]\n"
          ]
        },
        {
          "name": "stdout",
          "output_type": "stream",
          "text": [
            "Processing row 6...\n"
          ]
        },
        {
          "name": "stderr",
          "output_type": "stream",
          "text": [
            "Processing cands gpt-4-0613: 100%|██████████| 5/5 [00:15<00:00,  3.12s/it]\n",
            "Processing cands gpt-3.5-turbo: 100%|██████████| 5/5 [00:04<00:00,  1.06it/s]\n",
            "Processing cands gpt-4-0613: 100%|██████████| 5/5 [00:16<00:00,  3.32s/it]\n",
            "Processing cands gpt-3.5-turbo: 100%|██████████| 5/5 [00:04<00:00,  1.20it/s]\n",
            "Processing cands gpt-4-0613: 100%|██████████| 5/5 [00:13<00:00,  2.68s/it]\n",
            "Processing cands gpt-3.5-turbo: 100%|██████████| 5/5 [00:05<00:00,  1.15s/it]\n",
            "Processing cands gpt-4-0613: 100%|██████████| 5/5 [00:15<00:00,  3.11s/it]\n",
            "Processing cands gpt-3.5-turbo: 100%|██████████| 5/5 [00:04<00:00,  1.04it/s]\n",
            "Processing cands gpt-4-0613: 100%|██████████| 5/5 [00:14<00:00,  2.95s/it]\n",
            "Processing cands gpt-3.5-turbo: 100%|██████████| 5/5 [00:04<00:00,  1.05it/s]\n",
            "Processing models: 100%|██████████| 5/5 [01:59<00:00, 23.82s/it]\n"
          ]
        },
        {
          "name": "stdout",
          "output_type": "stream",
          "text": [
            "Processing row 7...\n"
          ]
        },
        {
          "name": "stderr",
          "output_type": "stream",
          "text": [
            "Processing cands gpt-4-0613: 100%|██████████| 5/5 [00:15<00:00,  3.15s/it]\n",
            "Processing cands gpt-3.5-turbo: 100%|██████████| 5/5 [00:04<00:00,  1.12it/s]\n",
            "Processing cands gpt-4-0613: 100%|██████████| 5/5 [00:19<00:00,  3.97s/it]\n",
            "Processing cands gpt-3.5-turbo: 100%|██████████| 5/5 [00:04<00:00,  1.10it/s]\n",
            "Processing cands gpt-4-0613: 100%|██████████| 5/5 [00:18<00:00,  3.77s/it]\n",
            "Processing cands gpt-3.5-turbo: 100%|██████████| 5/5 [00:04<00:00,  1.03it/s]\n",
            "Processing cands gpt-4-0613: 100%|██████████| 5/5 [00:18<00:00,  3.65s/it]\n",
            "Processing cands gpt-3.5-turbo: 100%|██████████| 5/5 [00:04<00:00,  1.07it/s]\n",
            "Processing cands gpt-4-0613: 100%|██████████| 6/6 [00:19<00:00,  3.19s/it]\n",
            "Processing cands gpt-3.5-turbo: 100%|██████████| 6/6 [00:05<00:00,  1.05it/s]\n",
            "Processing models: 100%|██████████| 5/5 [02:20<00:00, 28.16s/it]\n"
          ]
        },
        {
          "name": "stdout",
          "output_type": "stream",
          "text": [
            "Processing row 8...\n"
          ]
        },
        {
          "name": "stderr",
          "output_type": "stream",
          "text": [
            "Processing cands gpt-4-0613: 100%|██████████| 5/5 [00:14<00:00,  2.83s/it]\n",
            "Processing cands gpt-3.5-turbo: 100%|██████████| 5/5 [00:05<00:00,  1.05s/it]\n",
            "Processing cands gpt-4-0613: 100%|██████████| 5/5 [00:16<00:00,  3.26s/it]\n",
            "Processing cands gpt-3.5-turbo: 100%|██████████| 5/5 [00:04<00:00,  1.07it/s]\n",
            "Processing cands gpt-4-0613: 100%|██████████| 5/5 [00:15<00:00,  3.12s/it]\n",
            "Processing cands gpt-3.5-turbo: 100%|██████████| 5/5 [00:05<00:00,  1.04s/it]\n",
            "Processing cands gpt-4-0613: 100%|██████████| 5/5 [00:17<00:00,  3.43s/it]\n",
            "Processing cands gpt-3.5-turbo: 100%|██████████| 5/5 [00:04<00:00,  1.01it/s]\n",
            "Processing cands gpt-4-0613: 100%|██████████| 5/5 [00:19<00:00,  3.94s/it]\n",
            "Processing cands gpt-3.5-turbo: 100%|██████████| 5/5 [00:06<00:00,  1.24s/it]\n",
            "Processing models: 100%|██████████| 5/5 [02:13<00:00, 26.74s/it]\n"
          ]
        },
        {
          "name": "stdout",
          "output_type": "stream",
          "text": [
            "Processing row 9...\n"
          ]
        },
        {
          "name": "stderr",
          "output_type": "stream",
          "text": [
            "Processing cands gpt-4-0613: 100%|██████████| 5/5 [00:14<00:00,  2.95s/it]\n",
            "Processing cands gpt-3.5-turbo: 100%|██████████| 5/5 [00:04<00:00,  1.09it/s]\n",
            "Processing cands gpt-4-0613: 100%|██████████| 5/5 [00:17<00:00,  3.60s/it]\n",
            "Processing cands gpt-3.5-turbo: 100%|██████████| 5/5 [00:04<00:00,  1.14it/s]\n",
            "Processing cands gpt-4-0613: 100%|██████████| 5/5 [00:17<00:00,  3.41s/it]\n",
            "Processing cands gpt-3.5-turbo: 100%|██████████| 5/5 [00:05<00:00,  1.13s/it]\n",
            "Processing cands gpt-4-0613: 100%|██████████| 5/5 [00:16<00:00,  3.38s/it]\n",
            "Processing cands gpt-3.5-turbo: 100%|██████████| 5/5 [00:04<00:00,  1.03it/s]\n",
            "Processing cands gpt-4-0613: 100%|██████████| 5/5 [00:19<00:00,  3.94s/it]\n",
            "Processing cands gpt-3.5-turbo: 100%|██████████| 5/5 [00:05<00:00,  1.02s/it]\n",
            "Processing models: 100%|██████████| 5/5 [02:10<00:00, 26.20s/it]\n"
          ]
        }
      ],
      "source": [
        "df2 = df.head(10)\n",
        "df2 = df2.apply(process_row, axis=1)"
      ]
    },
    {
      "cell_type": "code",
      "execution_count": 14,
      "metadata": {},
      "outputs": [
        {
          "name": "stdout",
          "output_type": "stream",
          "text": [
            "Processing row 10...\n"
          ]
        },
        {
          "name": "stderr",
          "output_type": "stream",
          "text": [
            "Processing cands gpt-4-0613: 100%|██████████| 5/5 [00:19<00:00,  3.85s/it]\n",
            "Processing cands gpt-3.5-turbo: 100%|██████████| 5/5 [00:05<00:00,  1.11s/it]\n",
            "Processing cands gpt-4-0613: 100%|██████████| 5/5 [00:14<00:00,  2.95s/it]\n",
            "Processing cands gpt-3.5-turbo: 100%|██████████| 5/5 [00:05<00:00,  1.10s/it]\n",
            "Processing cands gpt-4-0613: 100%|██████████| 5/5 [00:15<00:00,  3.18s/it]\n",
            "Processing cands gpt-3.5-turbo: 100%|██████████| 5/5 [00:04<00:00,  1.03it/s]\n",
            "Processing cands gpt-4-0613: 100%|██████████| 5/5 [00:15<00:00,  3.18s/it]\n",
            "Processing cands gpt-3.5-turbo: 100%|██████████| 5/5 [00:05<00:00,  1.15s/it]\n",
            "Processing cands gpt-4-0613: 100%|██████████| 5/5 [00:15<00:00,  3.02s/it]\n",
            "Processing cands gpt-3.5-turbo: 100%|██████████| 5/5 [00:04<00:00,  1.05it/s]\n",
            "Processing models: 100%|██████████| 5/5 [02:11<00:00, 26.20s/it]\n"
          ]
        },
        {
          "name": "stdout",
          "output_type": "stream",
          "text": [
            "Processing row 11...\n"
          ]
        },
        {
          "name": "stderr",
          "output_type": "stream",
          "text": [
            "Processing cands gpt-4-0613: 100%|██████████| 5/5 [00:18<00:00,  3.63s/it]\n",
            "Processing cands gpt-3.5-turbo: 100%|██████████| 5/5 [00:05<00:00,  1.04s/it]\n",
            "Processing cands gpt-4-0613: 100%|██████████| 5/5 [00:17<00:00,  3.48s/it]\n",
            "Processing cands gpt-3.5-turbo: 100%|██████████| 5/5 [00:05<00:00,  1.03s/it]\n",
            "Processing cands gpt-4-0613: 100%|██████████| 5/5 [00:18<00:00,  3.80s/it]\n",
            "Processing cands gpt-3.5-turbo: 100%|██████████| 5/5 [00:05<00:00,  1.04s/it]\n",
            "Processing cands gpt-4-0613: 100%|██████████| 5/5 [00:18<00:00,  3.75s/it]\n",
            "Processing cands gpt-3.5-turbo: 100%|██████████| 5/5 [00:05<00:00,  1.00s/it]\n",
            "Processing cands gpt-4-0613: 100%|██████████| 3/3 [00:11<00:00,  3.81s/it]\n",
            "Processing cands gpt-3.5-turbo: 100%|██████████| 3/3 [00:03<00:00,  1.10s/it]\n",
            "Processing models: 100%|██████████| 5/5 [02:18<00:00, 27.66s/it]\n"
          ]
        },
        {
          "name": "stdout",
          "output_type": "stream",
          "text": [
            "Processing row 12...\n"
          ]
        },
        {
          "name": "stderr",
          "output_type": "stream",
          "text": [
            "Processing cands gpt-4-0613: 100%|██████████| 5/5 [00:14<00:00,  2.98s/it]\n",
            "Processing cands gpt-3.5-turbo: 100%|██████████| 5/5 [00:04<00:00,  1.07it/s]\n",
            "Processing cands gpt-4-0613: 100%|██████████| 5/5 [00:17<00:00,  3.44s/it]\n",
            "Processing cands gpt-3.5-turbo: 100%|██████████| 5/5 [00:05<00:00,  1.01s/it]\n",
            "Processing cands gpt-4-0613: 100%|██████████| 5/5 [00:20<00:00,  4.20s/it]\n",
            "Processing cands gpt-3.5-turbo: 100%|██████████| 5/5 [00:04<00:00,  1.04it/s]\n",
            "Processing cands gpt-4-0613: 100%|██████████| 5/5 [00:18<00:00,  3.63s/it]\n",
            "Processing cands gpt-3.5-turbo: 100%|██████████| 5/5 [00:05<00:00,  1.10s/it]\n",
            "Processing cands gpt-4-0613: 100%|██████████| 6/6 [00:22<00:00,  3.79s/it]\n",
            "Processing cands gpt-3.5-turbo: 100%|██████████| 6/6 [00:06<00:00,  1.03s/it]\n",
            "Processing models: 100%|██████████| 5/5 [02:22<00:00, 28.55s/it]\n"
          ]
        },
        {
          "name": "stdout",
          "output_type": "stream",
          "text": [
            "Processing row 13...\n"
          ]
        },
        {
          "name": "stderr",
          "output_type": "stream",
          "text": [
            "Processing cands gpt-4-0613: 100%|██████████| 5/5 [00:17<00:00,  3.54s/it]\n",
            "Processing cands gpt-3.5-turbo: 100%|██████████| 5/5 [00:05<00:00,  1.17s/it]\n",
            "Processing cands gpt-4-0613: 100%|██████████| 5/5 [00:18<00:00,  3.69s/it]\n",
            "Processing cands gpt-3.5-turbo: 100%|██████████| 5/5 [00:04<00:00,  1.06it/s]\n",
            "Processing cands gpt-4-0613: 100%|██████████| 5/5 [00:20<00:00,  4.08s/it]\n",
            "Processing cands gpt-3.5-turbo: 100%|██████████| 5/5 [00:05<00:00,  1.08s/it]\n",
            "Processing cands gpt-4-0613: 100%|██████████| 5/5 [00:17<00:00,  3.50s/it]\n",
            "Processing cands gpt-3.5-turbo: 100%|██████████| 5/5 [00:05<00:00,  1.02s/it]\n",
            "Processing cands gpt-4-0613: 100%|██████████| 4/4 [00:16<00:00,  4.15s/it]\n",
            "Processing cands gpt-3.5-turbo: 100%|██████████| 4/4 [00:04<00:00,  1.11s/it]\n",
            "Processing models: 100%|██████████| 5/5 [02:18<00:00, 27.69s/it]\n"
          ]
        },
        {
          "name": "stdout",
          "output_type": "stream",
          "text": [
            "Processing row 14...\n"
          ]
        },
        {
          "name": "stderr",
          "output_type": "stream",
          "text": [
            "Processing cands gpt-4-0613: 100%|██████████| 5/5 [00:18<00:00,  3.68s/it]\n",
            "Processing cands gpt-3.5-turbo: 100%|██████████| 5/5 [00:04<00:00,  1.07it/s]\n",
            "Processing cands gpt-4-0613: 100%|██████████| 5/5 [00:16<00:00,  3.33s/it]\n",
            "Processing cands gpt-3.5-turbo: 100%|██████████| 5/5 [00:08<00:00,  1.61s/it]\n",
            "Processing cands gpt-4-0613: 100%|██████████| 5/5 [00:19<00:00,  3.82s/it]\n",
            "Processing cands gpt-3.5-turbo: 100%|██████████| 5/5 [00:05<00:00,  1.06s/it]\n",
            "Processing cands gpt-4-0613: 100%|██████████| 5/5 [00:18<00:00,  3.74s/it]\n",
            "Processing cands gpt-3.5-turbo: 100%|██████████| 5/5 [00:04<00:00,  1.04it/s]\n",
            "Processing cands gpt-4-0613: 100%|██████████| 4/4 [00:13<00:00,  3.48s/it]\n",
            "Processing cands gpt-3.5-turbo: 100%|██████████| 4/4 [00:03<00:00,  1.15it/s]\n",
            "Processing models: 100%|██████████| 5/5 [02:16<00:00, 27.32s/it]\n"
          ]
        },
        {
          "name": "stdout",
          "output_type": "stream",
          "text": [
            "Processing row 15...\n"
          ]
        },
        {
          "name": "stderr",
          "output_type": "stream",
          "text": [
            "Processing cands gpt-4-0613: 100%|██████████| 5/5 [00:16<00:00,  3.23s/it]\n",
            "Processing cands gpt-3.5-turbo: 100%|██████████| 5/5 [00:05<00:00,  1.10s/it]\n",
            "Processing cands gpt-4-0613: 100%|██████████| 5/5 [00:16<00:00,  3.36s/it]\n",
            "Processing cands gpt-3.5-turbo: 100%|██████████| 5/5 [00:05<00:00,  1.09s/it]\n",
            "Processing cands gpt-4-0613: 100%|██████████| 5/5 [00:17<00:00,  3.47s/it]\n",
            "Processing cands gpt-3.5-turbo: 100%|██████████| 5/5 [00:05<00:00,  1.15s/it]\n",
            "Processing cands gpt-4-0613: 100%|██████████| 5/5 [00:17<00:00,  3.44s/it]\n",
            "Processing cands gpt-3.5-turbo: 100%|██████████| 5/5 [00:05<00:00,  1.08s/it]\n",
            "Processing cands gpt-4-0613: 100%|██████████| 5/5 [00:24<00:00,  4.92s/it]\n",
            "Processing cands gpt-3.5-turbo: 100%|██████████| 5/5 [00:05<00:00,  1.11s/it]\n",
            "Processing models: 100%|██████████| 5/5 [02:22<00:00, 28.57s/it]\n"
          ]
        },
        {
          "name": "stdout",
          "output_type": "stream",
          "text": [
            "Processing row 16...\n"
          ]
        },
        {
          "name": "stderr",
          "output_type": "stream",
          "text": [
            "Processing cands gpt-4-0613: 100%|██████████| 5/5 [00:14<00:00,  2.98s/it]\n",
            "Processing cands gpt-3.5-turbo: 100%|██████████| 5/5 [00:04<00:00,  1.03it/s]\n",
            "Processing cands gpt-4-0613: 100%|██████████| 5/5 [00:14<00:00,  2.95s/it]\n",
            "Processing cands gpt-3.5-turbo: 100%|██████████| 5/5 [00:04<00:00,  1.09it/s]\n",
            "Processing cands gpt-4-0613: 100%|██████████| 5/5 [00:17<00:00,  3.41s/it]\n",
            "Processing cands gpt-3.5-turbo: 100%|██████████| 5/5 [00:04<00:00,  1.05it/s]\n",
            "Processing cands gpt-4-0613: 100%|██████████| 5/5 [00:13<00:00,  2.64s/it]\n",
            "Processing cands gpt-3.5-turbo: 100%|██████████| 5/5 [00:04<00:00,  1.11it/s]\n",
            "Processing cands gpt-4-0613: 100%|██████████| 5/5 [00:15<00:00,  3.14s/it]\n",
            "Processing cands gpt-3.5-turbo: 100%|██████████| 5/5 [00:04<00:00,  1.11it/s]\n",
            "Processing models: 100%|██████████| 5/5 [02:03<00:00, 24.79s/it]\n"
          ]
        },
        {
          "name": "stdout",
          "output_type": "stream",
          "text": [
            "Processing row 17...\n"
          ]
        },
        {
          "name": "stderr",
          "output_type": "stream",
          "text": [
            "Processing cands gpt-4-0613: 100%|██████████| 5/5 [00:15<00:00,  3.12s/it]\n",
            "Processing cands gpt-3.5-turbo: 100%|██████████| 5/5 [00:04<00:00,  1.08it/s]\n",
            "Processing cands gpt-4-0613: 100%|██████████| 5/5 [00:15<00:00,  3.11s/it]\n",
            "Processing cands gpt-3.5-turbo: 100%|██████████| 5/5 [00:04<00:00,  1.02it/s]\n",
            "Processing cands gpt-4-0613: 100%|██████████| 5/5 [00:16<00:00,  3.28s/it]\n",
            "Processing cands gpt-3.5-turbo: 100%|██████████| 5/5 [00:04<00:00,  1.07it/s]\n",
            "Processing cands gpt-4-0613: 100%|██████████| 5/5 [00:17<00:00,  3.46s/it]\n",
            "Processing cands gpt-3.5-turbo: 100%|██████████| 5/5 [00:05<00:00,  1.10s/it]\n",
            "Processing cands gpt-4-0613: 100%|██████████| 5/5 [00:19<00:00,  3.84s/it]\n",
            "Processing cands gpt-3.5-turbo: 100%|██████████| 5/5 [00:04<00:00,  1.06it/s]\n",
            "Processing models: 100%|██████████| 5/5 [02:11<00:00, 26.29s/it]\n"
          ]
        },
        {
          "name": "stdout",
          "output_type": "stream",
          "text": [
            "Processing row 18...\n"
          ]
        },
        {
          "name": "stderr",
          "output_type": "stream",
          "text": [
            "Processing cands gpt-4-0613: 100%|██████████| 5/5 [00:15<00:00,  3.17s/it]\n",
            "Processing cands gpt-3.5-turbo: 100%|██████████| 5/5 [00:04<00:00,  1.15it/s]\n",
            "Processing cands gpt-4-0613: 100%|██████████| 5/5 [00:14<00:00,  2.81s/it]\n",
            "Processing cands gpt-3.5-turbo: 100%|██████████| 5/5 [00:04<00:00,  1.09it/s]\n",
            "Processing cands gpt-4-0613: 100%|██████████| 5/5 [00:13<00:00,  2.73s/it]\n",
            "Processing cands gpt-3.5-turbo: 100%|██████████| 5/5 [00:05<00:00,  1.07s/it]\n",
            "Processing cands gpt-4-0613: 100%|██████████| 5/5 [00:14<00:00,  2.90s/it]\n",
            "Processing cands gpt-3.5-turbo: 100%|██████████| 5/5 [00:04<00:00,  1.11it/s]\n",
            "Processing cands gpt-4-0613: 100%|██████████| 4/4 [00:13<00:00,  3.37s/it]\n",
            "Processing cands gpt-3.5-turbo: 100%|██████████| 4/4 [00:03<00:00,  1.12it/s]\n",
            "Processing models: 100%|██████████| 5/5 [01:56<00:00, 23.38s/it]\n"
          ]
        },
        {
          "name": "stdout",
          "output_type": "stream",
          "text": [
            "Processing row 19...\n"
          ]
        },
        {
          "name": "stderr",
          "output_type": "stream",
          "text": [
            "Processing cands gpt-4-0613: 100%|██████████| 5/5 [00:14<00:00,  2.97s/it]\n",
            "Processing cands gpt-3.5-turbo: 100%|██████████| 5/5 [00:04<00:00,  1.04it/s]\n",
            "Processing cands gpt-4-0613: 100%|██████████| 5/5 [00:16<00:00,  3.35s/it]\n",
            "Processing cands gpt-3.5-turbo: 100%|██████████| 5/5 [00:06<00:00,  1.24s/it]\n",
            "Processing cands gpt-4-0613: 100%|██████████| 5/5 [00:17<00:00,  3.47s/it]\n",
            "Processing cands gpt-3.5-turbo: 100%|██████████| 5/5 [00:04<00:00,  1.10it/s]\n",
            "Processing cands gpt-4-0613: 100%|██████████| 5/5 [00:14<00:00,  2.94s/it]\n",
            "Processing cands gpt-3.5-turbo: 100%|██████████| 5/5 [00:05<00:00,  1.05s/it]\n",
            "Processing cands gpt-4-0613: 100%|██████████| 5/5 [00:15<00:00,  3.13s/it]\n",
            "Processing cands gpt-3.5-turbo: 100%|██████████| 5/5 [00:05<00:00,  1.03s/it]\n",
            "Processing models: 100%|██████████| 5/5 [02:04<00:00, 24.97s/it]\n"
          ]
        }
      ],
      "source": [
        "df3 = df.iloc[10:20]\n",
        "df3 = df3.apply(process_row, axis=1)"
      ]
    },
    {
      "cell_type": "code",
      "execution_count": 9,
      "metadata": {},
      "outputs": [
        {
          "name": "stdout",
          "output_type": "stream",
          "text": [
            "Processing row 20...\n"
          ]
        },
        {
          "name": "stderr",
          "output_type": "stream",
          "text": [
            "Processing cands gpt-4-0613: 100%|██████████| 5/5 [00:23<00:00,  4.65s/it]\n",
            "Processing cands gpt-3.5-turbo: 100%|██████████| 5/5 [00:06<00:00,  1.28s/it]\n",
            "Processing cands gpt-4-0613: 100%|██████████| 5/5 [00:19<00:00,  3.81s/it]\n",
            "Processing cands gpt-3.5-turbo: 100%|██████████| 5/5 [00:05<00:00,  1.15s/it]\n",
            "Processing cands gpt-4-0613: 100%|██████████| 5/5 [00:21<00:00,  4.27s/it]\n",
            "Processing cands gpt-3.5-turbo: 100%|██████████| 5/5 [00:04<00:00,  1.05it/s]\n",
            "Processing cands gpt-4-0613: 100%|██████████| 9/9 [00:29<00:00,  3.29s/it]\n",
            "Processing cands gpt-3.5-turbo: 100%|██████████| 9/9 [00:08<00:00,  1.01it/s]\n",
            "Processing cands gpt-4-0613: 100%|██████████| 2/2 [00:09<00:00,  4.68s/it]\n",
            "Processing cands gpt-3.5-turbo: 100%|██████████| 2/2 [00:02<00:00,  1.14s/it]\n",
            "Processing models: 100%|██████████| 5/5 [02:39<00:00, 31.90s/it]\n"
          ]
        },
        {
          "name": "stdout",
          "output_type": "stream",
          "text": [
            "Processing row 21...\n"
          ]
        },
        {
          "name": "stderr",
          "output_type": "stream",
          "text": [
            "Processing cands gpt-4-0613: 100%|██████████| 5/5 [00:22<00:00,  4.42s/it]\n",
            "Processing cands gpt-3.5-turbo: 100%|██████████| 5/5 [00:04<00:00,  1.12it/s]\n",
            "Processing cands gpt-4-0613: 100%|██████████| 5/5 [00:18<00:00,  3.75s/it]\n",
            "Processing cands gpt-3.5-turbo: 100%|██████████| 5/5 [00:05<00:00,  1.16s/it]\n",
            "Processing cands gpt-4-0613: 100%|██████████| 5/5 [00:22<00:00,  4.60s/it]\n",
            "Processing cands gpt-3.5-turbo: 100%|██████████| 5/5 [00:04<00:00,  1.20it/s]\n",
            "Processing cands gpt-4-0613: 100%|██████████| 5/5 [00:19<00:00,  3.95s/it]\n",
            "Processing cands gpt-3.5-turbo: 100%|██████████| 5/5 [00:04<00:00,  1.13it/s]\n",
            "Processing cands gpt-4-0613: 100%|██████████| 3/3 [00:11<00:00,  3.86s/it]\n",
            "Processing cands gpt-3.5-turbo: 100%|██████████| 3/3 [00:02<00:00,  1.13it/s]\n",
            "Processing models: 100%|██████████| 5/5 [02:21<00:00, 28.37s/it]\n"
          ]
        },
        {
          "name": "stdout",
          "output_type": "stream",
          "text": [
            "Processing row 22...\n"
          ]
        },
        {
          "name": "stderr",
          "output_type": "stream",
          "text": [
            "Processing cands gpt-4-0613: 100%|██████████| 5/5 [10:18<00:00, 123.80s/it]\n",
            "Processing cands gpt-3.5-turbo: 100%|██████████| 5/5 [00:04<00:00,  1.14it/s]\n",
            "Processing cands gpt-4-0613: 100%|██████████| 5/5 [00:17<00:00,  3.51s/it]\n",
            "Processing cands gpt-3.5-turbo: 100%|██████████| 5/5 [00:05<00:00,  1.07s/it]\n",
            "Processing cands gpt-4-0613: 100%|██████████| 5/5 [00:20<00:00,  4.06s/it]\n",
            "Processing cands gpt-3.5-turbo: 100%|██████████| 5/5 [00:04<00:00,  1.08it/s]\n",
            "Processing cands gpt-4-0613: 100%|██████████| 5/5 [00:19<00:00,  3.93s/it]\n",
            "Processing cands gpt-3.5-turbo: 100%|██████████| 5/5 [00:05<00:00,  1.08s/it]\n",
            "Processing cands gpt-4-0613: 100%|██████████| 4/4 [00:17<00:00,  4.42s/it]\n",
            "Processing cands gpt-3.5-turbo: 100%|██████████| 4/4 [00:03<00:00,  1.05it/s]\n",
            "Processing models: 100%|██████████| 5/5 [12:24<00:00, 148.90s/it]\n"
          ]
        },
        {
          "name": "stdout",
          "output_type": "stream",
          "text": [
            "Processing row 23...\n"
          ]
        },
        {
          "name": "stderr",
          "output_type": "stream",
          "text": [
            "Processing cands gpt-4-0613: 100%|██████████| 7/7 [00:28<00:00,  4.11s/it]\n",
            "Processing cands gpt-3.5-turbo: 100%|██████████| 7/7 [00:06<00:00,  1.03it/s]\n",
            "Processing cands gpt-4-0613: 100%|██████████| 5/5 [00:19<00:00,  3.83s/it]\n",
            "Processing cands gpt-3.5-turbo: 100%|██████████| 5/5 [00:04<00:00,  1.04it/s]\n",
            "Processing cands gpt-4-0613: 100%|██████████| 5/5 [00:22<00:00,  4.59s/it]\n",
            "Processing cands gpt-3.5-turbo: 100%|██████████| 5/5 [00:05<00:00,  1.20s/it]\n",
            "Processing cands gpt-4-0613: 100%|██████████| 5/5 [00:17<00:00,  3.56s/it]\n",
            "Processing cands gpt-3.5-turbo: 100%|██████████| 5/5 [00:05<00:00,  1.13s/it]\n",
            "Processing cands gpt-4-0613: 100%|██████████| 6/6 [00:23<00:00,  3.91s/it]\n",
            "Processing cands gpt-3.5-turbo: 100%|██████████| 6/6 [00:07<00:00,  1.32s/it]\n",
            "Processing models: 100%|██████████| 5/5 [03:27<00:00, 41.44s/it]\n"
          ]
        },
        {
          "name": "stdout",
          "output_type": "stream",
          "text": [
            "Processing row 24...\n"
          ]
        },
        {
          "name": "stderr",
          "output_type": "stream",
          "text": [
            "Processing cands gpt-4-0613: 100%|██████████| 5/5 [00:17<00:00,  3.59s/it]\n",
            "Processing cands gpt-3.5-turbo: 100%|██████████| 5/5 [00:06<00:00,  1.21s/it]\n",
            "Processing cands gpt-4-0613: 100%|██████████| 5/5 [00:19<00:00,  3.96s/it]\n",
            "Processing cands gpt-3.5-turbo: 100%|██████████| 5/5 [00:05<00:00,  1.15s/it]\n",
            "Processing cands gpt-4-0613: 100%|██████████| 5/5 [00:42<00:00,  8.50s/it]\n",
            "Processing cands gpt-3.5-turbo: 100%|██████████| 5/5 [00:05<00:00,  1.08s/it]\n",
            "Processing cands gpt-4-0613: 100%|██████████| 5/5 [00:21<00:00,  4.22s/it]\n",
            "Processing cands gpt-3.5-turbo: 100%|██████████| 5/5 [00:05<00:00,  1.01s/it]\n",
            "Processing cands gpt-4-0613: 100%|██████████| 2/2 [00:11<00:00,  5.84s/it]\n",
            "Processing cands gpt-3.5-turbo: 100%|██████████| 2/2 [00:02<00:00,  1.07s/it]\n",
            "Processing models: 100%|██████████| 5/5 [02:50<00:00, 34.14s/it]\n"
          ]
        },
        {
          "name": "stdout",
          "output_type": "stream",
          "text": [
            "Processing row 25...\n"
          ]
        },
        {
          "name": "stderr",
          "output_type": "stream",
          "text": [
            "Processing cands gpt-4-0613: 100%|██████████| 5/5 [00:17<00:00,  3.44s/it]\n",
            "Processing cands gpt-3.5-turbo: 100%|██████████| 5/5 [00:05<00:00,  1.04s/it]\n",
            "Processing cands gpt-4-0613: 100%|██████████| 5/5 [00:17<00:00,  3.48s/it]\n",
            "Processing cands gpt-3.5-turbo: 100%|██████████| 5/5 [00:05<00:00,  1.07s/it]\n",
            "Processing cands gpt-4-0613: 100%|██████████| 5/5 [00:18<00:00,  3.75s/it]\n",
            "Processing cands gpt-3.5-turbo: 100%|██████████| 5/5 [00:04<00:00,  1.06it/s]\n",
            "Processing cands gpt-4-0613: 100%|██████████| 5/5 [00:13<00:00,  2.78s/it]\n",
            "Processing cands gpt-3.5-turbo: 100%|██████████| 5/5 [00:05<00:00,  1.08s/it]\n",
            "Processing cands gpt-4-0613: 100%|██████████| 1/1 [00:03<00:00,  3.95s/it]\n",
            "Processing cands gpt-3.5-turbo: 100%|██████████| 1/1 [00:00<00:00,  1.10it/s]\n",
            "Processing models: 100%|██████████| 5/5 [01:58<00:00, 23.77s/it]\n"
          ]
        },
        {
          "name": "stdout",
          "output_type": "stream",
          "text": [
            "Processing row 26...\n"
          ]
        },
        {
          "name": "stderr",
          "output_type": "stream",
          "text": [
            "Processing cands gpt-4-0613: 100%|██████████| 4/4 [00:08<00:00,  2.13s/it]\n",
            "Processing cands gpt-3.5-turbo: 100%|██████████| 4/4 [00:04<00:00,  1.02s/it]\n",
            "Processing cands gpt-4-0613: 100%|██████████| 5/5 [00:18<00:00,  3.78s/it]\n",
            "Processing cands gpt-3.5-turbo: 100%|██████████| 5/5 [00:04<00:00,  1.09it/s]\n",
            "Processing cands gpt-4-0613: 100%|██████████| 5/5 [00:19<00:00,  3.87s/it]\n",
            "Processing cands gpt-3.5-turbo: 100%|██████████| 5/5 [00:05<00:00,  1.11s/it]\n",
            "Processing cands gpt-4-0613: 100%|██████████| 5/5 [00:15<00:00,  3.00s/it]\n",
            "Processing cands gpt-3.5-turbo: 100%|██████████| 5/5 [00:05<00:00,  1.09s/it]\n",
            "Processing cands gpt-4-0613: 100%|██████████| 3/3 [00:11<00:00,  3.80s/it]\n",
            "Processing cands gpt-3.5-turbo: 100%|██████████| 3/3 [00:03<00:00,  1.05s/it]\n",
            "Processing models: 100%|██████████| 5/5 [02:01<00:00, 24.31s/it]\n"
          ]
        },
        {
          "name": "stdout",
          "output_type": "stream",
          "text": [
            "Processing row 27...\n"
          ]
        },
        {
          "name": "stderr",
          "output_type": "stream",
          "text": [
            "Processing cands gpt-4-0613: 100%|██████████| 6/6 [00:22<00:00,  3.68s/it]\n",
            "Processing cands gpt-3.5-turbo: 100%|██████████| 6/6 [00:07<00:00,  1.18s/it]\n",
            "Processing cands gpt-4-0613: 100%|██████████| 5/5 [00:21<00:00,  4.29s/it]\n",
            "Processing cands gpt-3.5-turbo: 100%|██████████| 5/5 [00:05<00:00,  1.07s/it]\n",
            "Processing cands gpt-4-0613: 100%|██████████| 5/5 [00:19<00:00,  3.95s/it]\n",
            "Processing cands gpt-3.5-turbo: 100%|██████████| 5/5 [00:05<00:00,  1.04s/it]\n",
            "Processing cands gpt-4-0613: 100%|██████████| 5/5 [00:20<00:00,  4.15s/it]\n",
            "Processing cands gpt-3.5-turbo: 100%|██████████| 5/5 [00:05<00:00,  1.05s/it]\n",
            "Processing cands gpt-4-0613: 100%|██████████| 4/4 [00:17<00:00,  4.43s/it]\n",
            "Processing cands gpt-3.5-turbo: 100%|██████████| 4/4 [00:04<00:00,  1.11s/it]\n",
            "Processing models: 100%|██████████| 5/5 [02:38<00:00, 31.70s/it]\n"
          ]
        },
        {
          "name": "stdout",
          "output_type": "stream",
          "text": [
            "Processing row 28...\n"
          ]
        },
        {
          "name": "stderr",
          "output_type": "stream",
          "text": [
            "Processing cands gpt-4-0613: 100%|██████████| 5/5 [00:13<00:00,  2.73s/it]\n",
            "Processing cands gpt-3.5-turbo: 100%|██████████| 5/5 [00:04<00:00,  1.21it/s]\n",
            "Processing cands gpt-4-0613: 100%|██████████| 5/5 [00:17<00:00,  3.50s/it]\n",
            "Processing cands gpt-3.5-turbo: 100%|██████████| 5/5 [00:04<00:00,  1.04it/s]\n",
            "Processing cands gpt-4-0613: 100%|██████████| 5/5 [00:14<00:00,  2.88s/it]\n",
            "Processing cands gpt-3.5-turbo: 100%|██████████| 5/5 [00:04<00:00,  1.04it/s]\n",
            "Processing cands gpt-4-0613: 100%|██████████| 1/1 [00:04<00:00,  4.83s/it]\n",
            "Processing cands gpt-3.5-turbo: 100%|██████████| 1/1 [00:01<00:00,  1.51s/it]\n",
            "Processing cands gpt-4-0613: 100%|██████████| 1/1 [00:02<00:00,  2.91s/it]\n",
            "Processing cands gpt-3.5-turbo: 100%|██████████| 1/1 [00:01<00:00,  1.03s/it]\n",
            "Processing models: 100%|██████████| 5/5 [01:35<00:00, 19.20s/it]\n"
          ]
        },
        {
          "name": "stdout",
          "output_type": "stream",
          "text": [
            "Processing row 29...\n"
          ]
        },
        {
          "name": "stderr",
          "output_type": "stream",
          "text": [
            "Processing cands gpt-4-0613: 100%|██████████| 5/5 [00:10<00:00,  2.13s/it]\n",
            "Processing cands gpt-3.5-turbo: 100%|██████████| 5/5 [00:04<00:00,  1.06it/s]\n",
            "Processing cands gpt-4-0613: 100%|██████████| 5/5 [00:13<00:00,  2.66s/it]\n",
            "Processing cands gpt-3.5-turbo: 100%|██████████| 5/5 [00:05<00:00,  1.01s/it]\n",
            "Processing cands gpt-4-0613: 100%|██████████| 5/5 [00:14<00:00,  2.97s/it]\n",
            "Processing cands gpt-3.5-turbo: 100%|██████████| 5/5 [00:05<00:00,  1.02s/it]\n",
            "Processing cands gpt-4-0613: 100%|██████████| 5/5 [00:19<00:00,  3.96s/it]\n",
            "Processing cands gpt-3.5-turbo: 100%|██████████| 5/5 [00:05<00:00,  1.13s/it]\n",
            "Processing cands gpt-4-0613: 100%|██████████| 4/4 [00:16<00:00,  4.01s/it]\n",
            "Processing cands gpt-3.5-turbo: 100%|██████████| 4/4 [00:04<00:00,  1.03s/it]\n",
            "Processing models: 100%|██████████| 5/5 [02:07<00:00, 25.57s/it]\n"
          ]
        }
      ],
      "source": [
        "df4 = df.iloc[20:30]\n",
        "df4 = df4.apply(process_row, axis=1)"
      ]
    },
    {
      "cell_type": "code",
      "execution_count": 12,
      "metadata": {},
      "outputs": [
        {
          "name": "stdout",
          "output_type": "stream",
          "text": [
            "Processing row 30...\n"
          ]
        },
        {
          "name": "stderr",
          "output_type": "stream",
          "text": [
            "Processing cands gpt-4-0613: 100%|██████████| 5/5 [00:23<00:00,  4.71s/it]\n",
            "Processing cands gpt-3.5-turbo: 100%|██████████| 5/5 [00:06<00:00,  1.28s/it]\n",
            "Processing cands gpt-4-0613: 100%|██████████| 5/5 [00:20<00:00,  4.20s/it]\n",
            "Processing cands gpt-3.5-turbo: 100%|██████████| 5/5 [00:05<00:00,  1.02s/it]\n",
            "Processing cands gpt-4-0613: 100%|██████████| 5/5 [00:28<00:00,  5.76s/it]\n",
            "Processing cands gpt-3.5-turbo: 100%|██████████| 5/5 [00:04<00:00,  1.03it/s]\n",
            "Processing cands gpt-4-0613: 100%|██████████| 5/5 [00:18<00:00,  3.66s/it]\n",
            "Processing cands gpt-3.5-turbo: 100%|██████████| 5/5 [00:04<00:00,  1.13it/s]\n",
            "Processing cands gpt-4-0613: 100%|██████████| 7/7 [00:24<00:00,  3.47s/it]\n",
            "Processing cands gpt-3.5-turbo: 100%|██████████| 7/7 [00:07<00:00,  1.05s/it]\n",
            "Processing models: 100%|██████████| 5/5 [02:51<00:00, 34.22s/it]\n"
          ]
        },
        {
          "name": "stdout",
          "output_type": "stream",
          "text": [
            "Processing row 31...\n"
          ]
        },
        {
          "name": "stderr",
          "output_type": "stream",
          "text": [
            "Processing cands gpt-4-0613: 100%|██████████| 5/5 [00:15<00:00,  3.09s/it]\n",
            "Processing cands gpt-3.5-turbo: 100%|██████████| 5/5 [00:04<00:00,  1.01it/s]\n",
            "Processing cands gpt-4-0613: 100%|██████████| 5/5 [00:23<00:00,  4.61s/it]\n",
            "Processing cands gpt-3.5-turbo: 100%|██████████| 5/5 [00:05<00:00,  1.03s/it]\n",
            "Processing cands gpt-4-0613: 100%|██████████| 5/5 [00:26<00:00,  5.20s/it]\n",
            "Processing cands gpt-3.5-turbo: 100%|██████████| 5/5 [00:05<00:00,  1.05s/it]\n",
            "Processing cands gpt-4-0613: 100%|██████████| 5/5 [00:19<00:00,  3.81s/it]\n",
            "Processing cands gpt-3.5-turbo: 100%|██████████| 5/5 [00:05<00:00,  1.07s/it]\n",
            "Processing cands gpt-4-0613: 100%|██████████| 1/1 [00:04<00:00,  4.28s/it]\n",
            "Processing cands gpt-3.5-turbo: 100%|██████████| 1/1 [00:01<00:00,  1.19s/it]\n",
            "Processing models: 100%|██████████| 5/5 [02:20<00:00, 28.01s/it]\n"
          ]
        },
        {
          "name": "stdout",
          "output_type": "stream",
          "text": [
            "Processing row 32...\n"
          ]
        },
        {
          "name": "stderr",
          "output_type": "stream",
          "text": [
            "Processing cands gpt-4-0613: 100%|██████████| 5/5 [00:18<00:00,  3.77s/it]\n",
            "Processing cands gpt-3.5-turbo: 100%|██████████| 5/5 [00:04<00:00,  1.02it/s]\n",
            "Processing cands gpt-4-0613: 100%|██████████| 5/5 [00:20<00:00,  4.06s/it]\n",
            "Processing cands gpt-3.5-turbo: 100%|██████████| 5/5 [00:05<00:00,  1.20s/it]\n",
            "Processing cands gpt-4-0613: 100%|██████████| 5/5 [00:19<00:00,  3.89s/it]\n",
            "Processing cands gpt-3.5-turbo: 100%|██████████| 5/5 [00:05<00:00,  1.14s/it]\n",
            "Processing cands gpt-4-0613: 100%|██████████| 5/5 [00:18<00:00,  3.68s/it]\n",
            "Processing cands gpt-3.5-turbo: 100%|██████████| 5/5 [00:05<00:00,  1.03s/it]\n",
            "Processing cands gpt-4-0613: 100%|██████████| 3/3 [00:12<00:00,  4.33s/it]\n",
            "Processing cands gpt-3.5-turbo: 100%|██████████| 3/3 [00:03<00:00,  1.33s/it]\n",
            "Processing models: 100%|██████████| 5/5 [02:22<00:00, 28.43s/it]\n"
          ]
        },
        {
          "name": "stdout",
          "output_type": "stream",
          "text": [
            "Processing row 33...\n"
          ]
        },
        {
          "name": "stderr",
          "output_type": "stream",
          "text": [
            "Processing cands gpt-4-0613: 100%|██████████| 5/5 [00:16<00:00,  3.31s/it]\n",
            "Processing cands gpt-3.5-turbo: 100%|██████████| 5/5 [00:05<00:00,  1.00s/it]\n",
            "Processing cands gpt-4-0613: 100%|██████████| 5/5 [00:21<00:00,  4.26s/it]\n",
            "Processing cands gpt-3.5-turbo: 100%|██████████| 5/5 [00:05<00:00,  1.12s/it]\n",
            "Processing cands gpt-4-0613: 100%|██████████| 5/5 [00:16<00:00,  3.32s/it]\n",
            "Processing cands gpt-3.5-turbo: 100%|██████████| 5/5 [00:05<00:00,  1.08s/it]\n",
            "Processing cands gpt-4-0613: 100%|██████████| 5/5 [00:19<00:00,  3.86s/it]\n",
            "Processing cands gpt-3.5-turbo: 100%|██████████| 5/5 [00:05<00:00,  1.04s/it]\n",
            "Processing cands gpt-4-0613: 100%|██████████| 3/3 [00:11<00:00,  3.78s/it]\n",
            "Processing cands gpt-3.5-turbo: 100%|██████████| 3/3 [00:03<00:00,  1.13s/it]\n",
            "Processing models: 100%|██████████| 5/5 [02:14<00:00, 26.93s/it]\n"
          ]
        },
        {
          "name": "stdout",
          "output_type": "stream",
          "text": [
            "Processing row 34...\n"
          ]
        },
        {
          "name": "stderr",
          "output_type": "stream",
          "text": [
            "Processing cands gpt-4-0613: 100%|██████████| 6/6 [00:21<00:00,  3.58s/it]\n",
            "Processing cands gpt-3.5-turbo: 100%|██████████| 6/6 [00:06<00:00,  1.02s/it]\n",
            "Processing cands gpt-4-0613: 100%|██████████| 5/5 [00:23<00:00,  4.71s/it]\n",
            "Processing cands gpt-3.5-turbo: 100%|██████████| 5/5 [00:05<00:00,  1.17s/it]\n",
            "Processing cands gpt-4-0613: 100%|██████████| 5/5 [00:21<00:00,  4.39s/it]\n",
            "Processing cands gpt-3.5-turbo: 100%|██████████| 5/5 [00:06<00:00,  1.26s/it]\n",
            "Processing cands gpt-4-0613: 100%|██████████| 5/5 [00:25<00:00,  5.13s/it]\n",
            "Processing cands gpt-3.5-turbo: 100%|██████████| 5/5 [00:05<00:00,  1.04s/it]\n",
            "Processing cands gpt-4-0613: 100%|██████████| 5/5 [00:19<00:00,  3.93s/it]\n",
            "Processing cands gpt-3.5-turbo: 100%|██████████| 5/5 [00:05<00:00,  1.15s/it]\n",
            "Processing models: 100%|██████████| 5/5 [02:55<00:00, 35.17s/it]\n"
          ]
        },
        {
          "name": "stdout",
          "output_type": "stream",
          "text": [
            "Processing row 35...\n"
          ]
        },
        {
          "name": "stderr",
          "output_type": "stream",
          "text": [
            "Processing cands gpt-4-0613: 100%|██████████| 5/5 [00:19<00:00,  3.82s/it]\n",
            "Processing cands gpt-3.5-turbo: 100%|██████████| 5/5 [00:05<00:00,  1.00s/it]\n",
            "Processing cands gpt-4-0613: 100%|██████████| 5/5 [00:18<00:00,  3.78s/it]\n",
            "Processing cands gpt-3.5-turbo: 100%|██████████| 5/5 [00:05<00:00,  1.10s/it]\n",
            "Processing cands gpt-4-0613: 100%|██████████| 5/5 [00:15<00:00,  3.19s/it]\n",
            "Processing cands gpt-3.5-turbo: 100%|██████████| 5/5 [00:04<00:00,  1.01it/s]\n",
            "Processing cands gpt-4-0613: 100%|██████████| 5/5 [00:18<00:00,  3.76s/it]\n",
            "Processing cands gpt-3.5-turbo: 100%|██████████| 5/5 [00:05<00:00,  1.03s/it]\n",
            "Processing cands gpt-4-0613: 100%|██████████| 5/5 [00:19<00:00,  3.93s/it]\n",
            "Processing cands gpt-3.5-turbo: 100%|██████████| 5/5 [00:04<00:00,  1.07it/s]\n",
            "Processing models: 100%|██████████| 5/5 [02:21<00:00, 28.33s/it]\n"
          ]
        },
        {
          "name": "stdout",
          "output_type": "stream",
          "text": [
            "Processing row 36...\n"
          ]
        },
        {
          "name": "stderr",
          "output_type": "stream",
          "text": [
            "Processing cands gpt-4-0613: 100%|██████████| 5/5 [00:22<00:00,  4.49s/it]\n",
            "Processing cands gpt-3.5-turbo: 100%|██████████| 5/5 [00:05<00:00,  1.05s/it]\n",
            "Processing cands gpt-4-0613: 100%|██████████| 5/5 [00:21<00:00,  4.28s/it]\n",
            "Processing cands gpt-3.5-turbo: 100%|██████████| 5/5 [00:05<00:00,  1.12s/it]\n",
            "Processing cands gpt-4-0613: 100%|██████████| 5/5 [00:22<00:00,  4.46s/it]\n",
            "Processing cands gpt-3.5-turbo: 100%|██████████| 5/5 [00:08<00:00,  1.76s/it]\n",
            "Processing cands gpt-4-0613: 100%|██████████| 5/5 [00:21<00:00,  4.28s/it]\n",
            "Processing cands gpt-3.5-turbo: 100%|██████████| 5/5 [00:05<00:00,  1.06s/it]\n",
            "Processing cands gpt-4-0613: 100%|██████████| 2/2 [00:10<00:00,  5.03s/it]\n",
            "Processing cands gpt-3.5-turbo: 100%|██████████| 2/2 [00:02<00:00,  1.31s/it]\n",
            "Processing models: 100%|██████████| 5/5 [02:34<00:00, 30.87s/it]\n"
          ]
        },
        {
          "name": "stdout",
          "output_type": "stream",
          "text": [
            "Processing row 37...\n"
          ]
        },
        {
          "name": "stderr",
          "output_type": "stream",
          "text": [
            "Processing cands gpt-4-0613: 100%|██████████| 5/5 [00:22<00:00,  4.41s/it]\n",
            "Processing cands gpt-3.5-turbo: 100%|██████████| 5/5 [00:04<00:00,  1.08it/s]\n",
            "Processing cands gpt-4-0613: 100%|██████████| 5/5 [00:22<00:00,  4.54s/it]\n",
            "Processing cands gpt-3.5-turbo: 100%|██████████| 5/5 [00:04<00:00,  1.01it/s]\n",
            "Processing cands gpt-4-0613: 100%|██████████| 5/5 [00:23<00:00,  4.71s/it]\n",
            "Processing cands gpt-3.5-turbo: 100%|██████████| 5/5 [00:05<00:00,  1.17s/it]\n",
            "Processing cands gpt-4-0613: 100%|██████████| 5/5 [00:21<00:00,  4.24s/it]\n",
            "Processing cands gpt-3.5-turbo: 100%|██████████| 5/5 [00:05<00:00,  1.04s/it]\n",
            "Processing cands gpt-4-0613: 100%|██████████| 6/6 [00:29<00:00,  4.95s/it]\n",
            "Processing cands gpt-3.5-turbo: 100%|██████████| 6/6 [00:05<00:00,  1.01it/s]\n",
            "Processing models: 100%|██████████| 5/5 [02:52<00:00, 34.45s/it]\n"
          ]
        },
        {
          "name": "stdout",
          "output_type": "stream",
          "text": [
            "Processing row 38...\n"
          ]
        },
        {
          "name": "stderr",
          "output_type": "stream",
          "text": [
            "Processing cands gpt-4-0613: 100%|██████████| 5/5 [00:21<00:00,  4.38s/it]\n",
            "Processing cands gpt-3.5-turbo: 100%|██████████| 5/5 [00:04<00:00,  1.08it/s]\n",
            "Processing cands gpt-4-0613: 100%|██████████| 5/5 [00:18<00:00,  3.65s/it]\n",
            "Processing cands gpt-3.5-turbo: 100%|██████████| 5/5 [00:05<00:00,  1.18s/it]\n",
            "Processing cands gpt-4-0613: 100%|██████████| 5/5 [00:21<00:00,  4.34s/it]\n",
            "Processing cands gpt-3.5-turbo: 100%|██████████| 5/5 [00:05<00:00,  1.08s/it]\n",
            "Processing cands gpt-4-0613: 100%|██████████| 5/5 [00:16<00:00,  3.29s/it]\n",
            "Processing cands gpt-3.5-turbo: 100%|██████████| 5/5 [00:05<00:00,  1.17s/it]\n",
            "Processing cands gpt-4-0613: 100%|██████████| 2/2 [00:06<00:00,  3.32s/it]\n",
            "Processing cands gpt-3.5-turbo: 100%|██████████| 2/2 [00:01<00:00,  1.03it/s]\n",
            "Processing models: 100%|██████████| 5/5 [02:12<00:00, 26.49s/it]\n"
          ]
        },
        {
          "name": "stdout",
          "output_type": "stream",
          "text": [
            "Processing row 39...\n"
          ]
        },
        {
          "name": "stderr",
          "output_type": "stream",
          "text": [
            "Processing cands gpt-4-0613: 100%|██████████| 5/5 [00:17<00:00,  3.59s/it]\n",
            "Processing cands gpt-3.5-turbo: 100%|██████████| 5/5 [00:04<00:00,  1.07it/s]\n",
            "Processing cands gpt-4-0613: 100%|██████████| 5/5 [00:23<00:00,  4.64s/it]\n",
            "Processing cands gpt-3.5-turbo: 100%|██████████| 5/5 [00:05<00:00,  1.05s/it]\n",
            "Processing cands gpt-4-0613: 100%|██████████| 5/5 [00:19<00:00,  3.85s/it]\n",
            "Processing cands gpt-3.5-turbo: 100%|██████████| 5/5 [00:05<00:00,  1.15s/it]\n",
            "Processing cands gpt-4-0613: 100%|██████████| 5/5 [00:17<00:00,  3.56s/it]\n",
            "Processing cands gpt-3.5-turbo: 100%|██████████| 5/5 [00:04<00:00,  1.03it/s]\n",
            "Processing cands gpt-4-0613: 100%|██████████| 7/7 [00:38<00:00,  5.50s/it]\n",
            "Processing cands gpt-3.5-turbo: 100%|██████████| 7/7 [00:07<00:00,  1.04s/it]\n",
            "Processing models: 100%|██████████| 5/5 [02:53<00:00, 34.71s/it]\n"
          ]
        },
        {
          "name": "stdout",
          "output_type": "stream",
          "text": [
            "Processing row 40...\n"
          ]
        },
        {
          "name": "stderr",
          "output_type": "stream",
          "text": [
            "Processing cands gpt-4-0613: 100%|██████████| 5/5 [00:17<00:00,  3.57s/it]\n",
            "Processing cands gpt-3.5-turbo: 100%|██████████| 5/5 [00:06<00:00,  1.23s/it]\n",
            "Processing cands gpt-4-0613: 100%|██████████| 5/5 [00:19<00:00,  3.86s/it]\n",
            "Processing cands gpt-3.5-turbo: 100%|██████████| 5/5 [00:05<00:00,  1.01s/it]\n",
            "Processing cands gpt-4-0613: 100%|██████████| 5/5 [00:21<00:00,  4.23s/it]\n",
            "Processing cands gpt-3.5-turbo: 100%|██████████| 5/5 [00:05<00:00,  1.12s/it]\n",
            "Processing cands gpt-4-0613: 100%|██████████| 5/5 [00:18<00:00,  3.70s/it]\n",
            "Processing cands gpt-3.5-turbo: 100%|██████████| 5/5 [00:05<00:00,  1.18s/it]\n",
            "Processing cands gpt-4-0613: 100%|██████████| 3/3 [00:10<00:00,  3.60s/it]\n",
            "Processing cands gpt-3.5-turbo: 100%|██████████| 3/3 [00:02<00:00,  1.04it/s]\n",
            "Processing models: 100%|██████████| 5/5 [02:18<00:00, 27.67s/it]\n"
          ]
        },
        {
          "name": "stdout",
          "output_type": "stream",
          "text": [
            "Processing row 41...\n"
          ]
        },
        {
          "name": "stderr",
          "output_type": "stream",
          "text": [
            "Processing cands gpt-4-0613: 100%|██████████| 5/5 [00:17<00:00,  3.58s/it]\n",
            "Processing cands gpt-3.5-turbo: 100%|██████████| 5/5 [00:04<00:00,  1.02it/s]\n",
            "Processing cands gpt-4-0613: 100%|██████████| 5/5 [00:18<00:00,  3.78s/it]\n",
            "Processing cands gpt-3.5-turbo: 100%|██████████| 5/5 [00:05<00:00,  1.03s/it]\n",
            "Processing cands gpt-4-0613: 100%|██████████| 5/5 [00:17<00:00,  3.43s/it]\n",
            "Processing cands gpt-3.5-turbo: 100%|██████████| 5/5 [00:05<00:00,  1.13s/it]\n",
            "Processing cands gpt-4-0613: 100%|██████████| 5/5 [00:15<00:00,  3.16s/it]\n",
            "Processing cands gpt-3.5-turbo: 100%|██████████| 5/5 [00:05<00:00,  1.03s/it]\n",
            "Processing cands gpt-4-0613: 100%|██████████| 5/5 [00:17<00:00,  3.47s/it]\n",
            "Processing cands gpt-3.5-turbo: 100%|██████████| 5/5 [00:05<00:00,  1.04s/it]\n",
            "Processing models: 100%|██████████| 5/5 [02:21<00:00, 28.35s/it]\n"
          ]
        },
        {
          "name": "stdout",
          "output_type": "stream",
          "text": [
            "Processing row 42...\n"
          ]
        },
        {
          "name": "stderr",
          "output_type": "stream",
          "text": [
            "Processing cands gpt-4-0613: 100%|██████████| 5/5 [00:18<00:00,  3.64s/it]\n",
            "Processing cands gpt-3.5-turbo: 100%|██████████| 5/5 [00:04<00:00,  1.00it/s]\n",
            "Processing cands gpt-4-0613: 100%|██████████| 5/5 [00:18<00:00,  3.67s/it]\n",
            "Processing cands gpt-3.5-turbo: 100%|██████████| 5/5 [00:04<00:00,  1.10it/s]\n",
            "Processing cands gpt-4-0613: 100%|██████████| 5/5 [00:19<00:00,  3.92s/it]\n",
            "Processing cands gpt-3.5-turbo: 100%|██████████| 5/5 [00:04<00:00,  1.03it/s]\n",
            "Processing cands gpt-4-0613: 100%|██████████| 5/5 [00:18<00:00,  3.76s/it]\n",
            "Processing cands gpt-3.5-turbo: 100%|██████████| 5/5 [00:04<00:00,  1.02it/s]\n",
            "Processing cands gpt-4-0613: 100%|██████████| 7/7 [00:29<00:00,  4.23s/it]\n",
            "Processing cands gpt-3.5-turbo: 100%|██████████| 7/7 [00:06<00:00,  1.04it/s]\n",
            "Processing models: 100%|██████████| 5/5 [02:33<00:00, 30.68s/it]\n"
          ]
        },
        {
          "name": "stdout",
          "output_type": "stream",
          "text": [
            "Processing row 43...\n"
          ]
        },
        {
          "name": "stderr",
          "output_type": "stream",
          "text": [
            "Processing cands gpt-4-0613: 100%|██████████| 6/6 [00:22<00:00,  3.68s/it]\n",
            "Processing cands gpt-3.5-turbo: 100%|██████████| 6/6 [00:05<00:00,  1.00it/s]\n",
            "Processing cands gpt-4-0613: 100%|██████████| 5/5 [00:16<00:00,  3.38s/it]\n",
            "Processing cands gpt-3.5-turbo: 100%|██████████| 5/5 [00:04<00:00,  1.02it/s]\n",
            "Processing cands gpt-4-0613: 100%|██████████| 5/5 [00:21<00:00,  4.37s/it]\n",
            "Processing cands gpt-3.5-turbo: 100%|██████████| 5/5 [00:07<00:00,  1.42s/it]\n",
            "Processing cands gpt-4-0613: 100%|██████████| 5/5 [00:19<00:00,  3.83s/it]\n",
            "Processing cands gpt-3.5-turbo: 100%|██████████| 5/5 [00:05<00:00,  1.03s/it]\n",
            "Processing cands gpt-4-0613: 100%|██████████| 3/3 [00:12<00:00,  4.12s/it]\n",
            "Processing cands gpt-3.5-turbo: 100%|██████████| 3/3 [00:02<00:00,  1.10it/s]\n",
            "Processing models: 100%|██████████| 5/5 [02:26<00:00, 29.29s/it]\n"
          ]
        },
        {
          "name": "stdout",
          "output_type": "stream",
          "text": [
            "Processing row 44...\n"
          ]
        },
        {
          "name": "stderr",
          "output_type": "stream",
          "text": [
            "Processing cands gpt-4-0613: 100%|██████████| 5/5 [00:14<00:00,  2.91s/it]\n",
            "Processing cands gpt-3.5-turbo: 100%|██████████| 5/5 [00:05<00:00,  1.04s/it]\n",
            "Processing cands gpt-4-0613: 100%|██████████| 5/5 [00:21<00:00,  4.37s/it]\n",
            "Processing cands gpt-3.5-turbo: 100%|██████████| 5/5 [00:04<00:00,  1.16it/s]\n",
            "Processing cands gpt-4-0613: 100%|██████████| 5/5 [00:18<00:00,  3.63s/it]\n",
            "Processing cands gpt-3.5-turbo: 100%|██████████| 5/5 [00:04<00:00,  1.05it/s]\n",
            "Processing cands gpt-4-0613: 100%|██████████| 5/5 [00:18<00:00,  3.71s/it]\n",
            "Processing cands gpt-3.5-turbo: 100%|██████████| 5/5 [00:04<00:00,  1.05it/s]\n",
            "Processing cands gpt-4-0613: 100%|██████████| 1/1 [00:03<00:00,  3.20s/it]\n",
            "Processing cands gpt-3.5-turbo: 100%|██████████| 1/1 [00:01<00:00,  1.18s/it]\n",
            "Processing models: 100%|██████████| 5/5 [02:02<00:00, 24.50s/it]\n"
          ]
        }
      ],
      "source": [
        "df5 = df.iloc[30:]\n",
        "df5 = df5.apply(process_row, axis=1)"
      ]
    }
  ],
  "metadata": {
    "kernelspec": {
      "display_name": "test-env",
      "language": "python",
      "name": "python3"
    },
    "language_info": {
      "codemirror_mode": {
        "name": "ipython",
        "version": 3
      },
      "file_extension": ".py",
      "mimetype": "text/x-python",
      "name": "python",
      "nbconvert_exporter": "python",
      "pygments_lexer": "ipython3",
      "version": "3.11.5"
    }
  },
  "nbformat": 4,
  "nbformat_minor": 2
}
