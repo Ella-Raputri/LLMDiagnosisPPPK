{
 "cells": [
  {
   "cell_type": "code",
   "execution_count": 1,
   "id": "32a092c0",
   "metadata": {},
   "outputs": [
    {
     "name": "stderr",
     "output_type": "stream",
     "text": [
      "d:\\Research_Assistant\\evaluation_radiology_gpt\\test-env\\Lib\\site-packages\\tqdm\\auto.py:21: TqdmWarning: IProgress not found. Please update jupyter and ipywidgets. See https://ipywidgets.readthedocs.io/en/stable/user_install.html\n",
      "  from .autonotebook import tqdm as notebook_tqdm\n"
     ]
    },
    {
     "name": "stdout",
     "output_type": "stream",
     "text": [
      "WARNING:tensorflow:From d:\\Research_Assistant\\evaluation_radiology_gpt\\test-env\\Lib\\site-packages\\tf_keras\\src\\losses.py:2976: The name tf.losses.sparse_softmax_cross_entropy is deprecated. Please use tf.compat.v1.losses.sparse_softmax_cross_entropy instead.\n",
      "\n"
     ]
    }
   ],
   "source": [
    "import pandas as pd\n",
    "import numpy as np\n",
    "import os\n",
    "from sentence_transformers import SentenceTransformer, CrossEncoder\n",
    "from sklearn.metrics.pairwise import cosine_similarity\n",
    "import json\n",
    "import warnings\n",
    "warnings.filterwarnings('ignore')\n",
    "import openai\n",
    "from dotenv import load_dotenv\n",
    "import re"
   ]
  },
  {
   "cell_type": "code",
   "execution_count": 2,
   "id": "f22ecf78",
   "metadata": {},
   "outputs": [],
   "source": [
    "model = CrossEncoder('cross-encoder/stsb-roberta-large')\n",
    "scores = model.predict([('Sentence 1', 'Sentence 2'), ('Sentence 3', 'Sentence 4')])"
   ]
  },
  {
   "cell_type": "code",
   "execution_count": 31,
   "id": "01f511ad",
   "metadata": {},
   "outputs": [
    {
     "data": {
      "text/plain": [
       "0.2989317774772644"
      ]
     },
     "execution_count": 31,
     "metadata": {},
     "output_type": "execute_result"
    }
   ],
   "source": [
    "float(scores.mean())"
   ]
  },
  {
   "cell_type": "code",
   "execution_count": 32,
   "id": "2f07810c",
   "metadata": {},
   "outputs": [
    {
     "name": "stdout",
     "output_type": "stream",
     "text": [
      "<class 'pandas.core.frame.DataFrame'>\n",
      "RangeIndex: 45 entries, 0 to 44\n",
      "Data columns (total 13 columns):\n",
      " #   Column                        Non-Null Count  Dtype  \n",
      "---  ------                        --------------  -----  \n",
      " 0   No                            45 non-null     float64\n",
      " 1   Question                      45 non-null     object \n",
      " 2   Dr Answer                     45 non-null     object \n",
      " 3   Claude Answer                 45 non-null     object \n",
      " 4   Qwen Answer                   45 non-null     object \n",
      " 5   GPT Answer                    45 non-null     object \n",
      " 6   Deepseek RAG Answer           45 non-null     object \n",
      " 7   Deepseek non RAG Answer       45 non-null     object \n",
      " 8   Claude Full Answer            45 non-null     object \n",
      " 9   Qwen Full Answer              45 non-null     object \n",
      " 10  GPT Full Answer               45 non-null     object \n",
      " 11  Deepseek RAG Full Answer      45 non-null     object \n",
      " 12  Deepseek non RAG Full Answer  45 non-null     object \n",
      "dtypes: float64(1), object(12)\n",
      "memory usage: 4.7+ KB\n"
     ]
    }
   ],
   "source": [
    "df = pd.read_csv('../cleaning_before_eval/ready_to_eval.csv')\n",
    "df.info()"
   ]
  },
  {
   "cell_type": "code",
   "execution_count": 33,
   "id": "7fff7996",
   "metadata": {},
   "outputs": [
    {
     "data": {
      "text/plain": [
       "array([0.40268138, 0.6366263 , 0.13310033, 0.5421202 , 0.57738245,\n",
       "       0.51936626, 0.45530125, 0.5033681 , 0.61890996, 0.5909227 ,\n",
       "       0.5692893 , 0.6702422 , 0.69856787, 0.5470521 , 0.5225401 ,\n",
       "       0.4835015 , 0.5657898 , 0.54025793, 0.52245015, 0.34361047,\n",
       "       0.5702888 , 0.38537365, 0.52368283, 0.6299555 , 0.65865874,\n",
       "       0.51854783, 0.69758904, 0.7292401 , 0.7960828 , 0.7089312 ,\n",
       "       0.6012783 , 0.5151739 , 0.5331848 , 0.48950094, 0.53025293,\n",
       "       0.57143956, 0.7225585 , 0.6597639 , 0.5142269 , 0.55042654,\n",
       "       0.6901827 , 0.6509341 , 0.58385205, 0.6790853 , 0.5700344 ],\n",
       "      dtype=float32)"
      ]
     },
     "execution_count": 33,
     "metadata": {},
     "output_type": "execute_result"
    }
   ],
   "source": [
    "pairs = list(zip(df[\"Dr Answer\"], df[\"Claude Answer\"]))\n",
    "scores = model.predict(pairs)\n",
    "scores"
   ]
  },
  {
   "cell_type": "code",
   "execution_count": 34,
   "id": "3e2794c8",
   "metadata": {},
   "outputs": [],
   "source": [
    "with open('kamus.json', 'r') as file:\n",
    "    SYNONYM_MAP = json.load(file)\n",
    "    \n",
    "def normalize_text(text):\n",
    "    text = text.lower()\n",
    "    text = re.sub(r'[^a-zA-Z\\s]', '', text)\n",
    "    text = re.sub(r'\\s+', ' ', text).strip()\n",
    "\n",
    "    for abbr, canonical in SYNONYM_MAP.items():\n",
    "        abb = abbr.lower()\n",
    "        canon = canonical.lower()\n",
    "\n",
    "        if (text == canon): break\n",
    "        pattern = rf'\\b{re.escape(abb)}\\b'\n",
    "        if re.search(pattern, text):\n",
    "            text = re.sub(pattern, canon, text)\n",
    "            break\n",
    "        \n",
    "    return text"
   ]
  },
  {
   "cell_type": "code",
   "execution_count": 37,
   "id": "054e4e1a",
   "metadata": {},
   "outputs": [],
   "source": [
    "def process_row(row):\n",
    "    print(f\"Processing row {row.name}...\")\n",
    "    truth_list = [normalize_text(item) for item in row['Dr Answer'].split(',')]\n",
    "    model_cols = {\n",
    "        'Claude Answer': 'SAS_Claude',\n",
    "        'Qwen Answer': 'SAS_Qwen',\n",
    "        'GPT Answer': 'SAS_GPT',\n",
    "        'Deepseek RAG Answer': 'SAS_Deepseek_RAG',\n",
    "        'Deepseek non RAG Answer': 'SAS_Deepseek_nonRAG'\n",
    "    }\n",
    "    \n",
    "    for col_name, result_col in model_cols.items():\n",
    "        model_list = [normalize_text(item) for item in row[col_name].split(',')]\n",
    "        pairs = [(gt, stu) for gt in truth_list for stu in model_list]\n",
    "        scores = model.predict(pairs)\n",
    "\n",
    "        best_scores = []\n",
    "        for gt in truth_list:\n",
    "            matches = [score for (g, s), score in zip(pairs, scores) if g == gt]\n",
    "            best_scores.append(max(matches))  \n",
    "\n",
    "        final_score = sum(best_scores) / len(best_scores)\n",
    "        row[f'{result_col}_cross_score'] = final_score\n",
    "    \n",
    "    return row"
   ]
  },
  {
   "cell_type": "code",
   "execution_count": 38,
   "id": "f696278e",
   "metadata": {},
   "outputs": [
    {
     "name": "stdout",
     "output_type": "stream",
     "text": [
      "Processing row 0...\n",
      "Processing row 1...\n",
      "Processing row 2...\n",
      "Processing row 3...\n",
      "Processing row 4...\n",
      "Processing row 5...\n",
      "Processing row 6...\n",
      "Processing row 7...\n",
      "Processing row 8...\n",
      "Processing row 9...\n",
      "Processing row 10...\n",
      "Processing row 11...\n",
      "Processing row 12...\n",
      "Processing row 13...\n",
      "Processing row 14...\n",
      "Processing row 15...\n",
      "Processing row 16...\n",
      "Processing row 17...\n",
      "Processing row 18...\n",
      "Processing row 19...\n",
      "Processing row 20...\n",
      "Processing row 21...\n",
      "Processing row 22...\n",
      "Processing row 23...\n",
      "Processing row 24...\n",
      "Processing row 25...\n",
      "Processing row 26...\n",
      "Processing row 27...\n",
      "Processing row 28...\n",
      "Processing row 29...\n",
      "Processing row 30...\n",
      "Processing row 31...\n",
      "Processing row 32...\n",
      "Processing row 33...\n",
      "Processing row 34...\n",
      "Processing row 35...\n",
      "Processing row 36...\n",
      "Processing row 37...\n",
      "Processing row 38...\n",
      "Processing row 39...\n",
      "Processing row 40...\n",
      "Processing row 41...\n",
      "Processing row 42...\n",
      "Processing row 43...\n",
      "Processing row 44...\n"
     ]
    }
   ],
   "source": [
    "df = df.apply(process_row, axis=1)"
   ]
  },
  {
   "cell_type": "code",
   "execution_count": 40,
   "id": "e0dc02ce",
   "metadata": {},
   "outputs": [
    {
     "data": {
      "text/html": [
       "<div>\n",
       "<style scoped>\n",
       "    .dataframe tbody tr th:only-of-type {\n",
       "        vertical-align: middle;\n",
       "    }\n",
       "\n",
       "    .dataframe tbody tr th {\n",
       "        vertical-align: top;\n",
       "    }\n",
       "\n",
       "    .dataframe thead th {\n",
       "        text-align: right;\n",
       "    }\n",
       "</style>\n",
       "<table border=\"1\" class=\"dataframe\">\n",
       "  <thead>\n",
       "    <tr style=\"text-align: right;\">\n",
       "      <th></th>\n",
       "      <th>No</th>\n",
       "      <th>SAS_Claude_cross_score</th>\n",
       "      <th>SAS_Qwen_cross_score</th>\n",
       "      <th>SAS_GPT_cross_score</th>\n",
       "      <th>SAS_Deepseek_RAG_cross_score</th>\n",
       "      <th>SAS_Deepseek_nonRAG_cross_score</th>\n",
       "    </tr>\n",
       "  </thead>\n",
       "  <tbody>\n",
       "    <tr>\n",
       "      <th>count</th>\n",
       "      <td>45.000000</td>\n",
       "      <td>45.000000</td>\n",
       "      <td>45.000000</td>\n",
       "      <td>45.000000</td>\n",
       "      <td>45.000000</td>\n",
       "      <td>45.000000</td>\n",
       "    </tr>\n",
       "    <tr>\n",
       "      <th>mean</th>\n",
       "      <td>23.000000</td>\n",
       "      <td>0.962427</td>\n",
       "      <td>0.493652</td>\n",
       "      <td>0.688204</td>\n",
       "      <td>0.653058</td>\n",
       "      <td>0.413882</td>\n",
       "    </tr>\n",
       "    <tr>\n",
       "      <th>std</th>\n",
       "      <td>13.133926</td>\n",
       "      <td>0.019857</td>\n",
       "      <td>0.296511</td>\n",
       "      <td>0.286107</td>\n",
       "      <td>0.255227</td>\n",
       "      <td>0.249453</td>\n",
       "    </tr>\n",
       "    <tr>\n",
       "      <th>min</th>\n",
       "      <td>1.000000</td>\n",
       "      <td>0.888037</td>\n",
       "      <td>0.010240</td>\n",
       "      <td>0.010054</td>\n",
       "      <td>0.009949</td>\n",
       "      <td>0.009609</td>\n",
       "    </tr>\n",
       "    <tr>\n",
       "      <th>25%</th>\n",
       "      <td>12.000000</td>\n",
       "      <td>0.965232</td>\n",
       "      <td>0.271071</td>\n",
       "      <td>0.490747</td>\n",
       "      <td>0.527456</td>\n",
       "      <td>0.222673</td>\n",
       "    </tr>\n",
       "    <tr>\n",
       "      <th>50%</th>\n",
       "      <td>23.000000</td>\n",
       "      <td>0.969010</td>\n",
       "      <td>0.490011</td>\n",
       "      <td>0.766854</td>\n",
       "      <td>0.648549</td>\n",
       "      <td>0.386009</td>\n",
       "    </tr>\n",
       "    <tr>\n",
       "      <th>75%</th>\n",
       "      <td>34.000000</td>\n",
       "      <td>0.970355</td>\n",
       "      <td>0.770407</td>\n",
       "      <td>0.964862</td>\n",
       "      <td>0.836693</td>\n",
       "      <td>0.600740</td>\n",
       "    </tr>\n",
       "    <tr>\n",
       "      <th>max</th>\n",
       "      <td>45.000000</td>\n",
       "      <td>0.971509</td>\n",
       "      <td>0.970979</td>\n",
       "      <td>0.970979</td>\n",
       "      <td>0.969833</td>\n",
       "      <td>0.970073</td>\n",
       "    </tr>\n",
       "  </tbody>\n",
       "</table>\n",
       "</div>"
      ],
      "text/plain": [
       "              No  SAS_Claude_cross_score  SAS_Qwen_cross_score  \\\n",
       "count  45.000000               45.000000             45.000000   \n",
       "mean   23.000000                0.962427              0.493652   \n",
       "std    13.133926                0.019857              0.296511   \n",
       "min     1.000000                0.888037              0.010240   \n",
       "25%    12.000000                0.965232              0.271071   \n",
       "50%    23.000000                0.969010              0.490011   \n",
       "75%    34.000000                0.970355              0.770407   \n",
       "max    45.000000                0.971509              0.970979   \n",
       "\n",
       "       SAS_GPT_cross_score  SAS_Deepseek_RAG_cross_score  \\\n",
       "count            45.000000                     45.000000   \n",
       "mean              0.688204                      0.653058   \n",
       "std               0.286107                      0.255227   \n",
       "min               0.010054                      0.009949   \n",
       "25%               0.490747                      0.527456   \n",
       "50%               0.766854                      0.648549   \n",
       "75%               0.964862                      0.836693   \n",
       "max               0.970979                      0.969833   \n",
       "\n",
       "       SAS_Deepseek_nonRAG_cross_score  \n",
       "count                        45.000000  \n",
       "mean                          0.413882  \n",
       "std                           0.249453  \n",
       "min                           0.009609  \n",
       "25%                           0.222673  \n",
       "50%                           0.386009  \n",
       "75%                           0.600740  \n",
       "max                           0.970073  "
      ]
     },
     "execution_count": 40,
     "metadata": {},
     "output_type": "execute_result"
    }
   ],
   "source": [
    "df.describe()"
   ]
  }
 ],
 "metadata": {
  "kernelspec": {
   "display_name": "test-env",
   "language": "python",
   "name": "python3"
  },
  "language_info": {
   "codemirror_mode": {
    "name": "ipython",
    "version": 3
   },
   "file_extension": ".py",
   "mimetype": "text/x-python",
   "name": "python",
   "nbconvert_exporter": "python",
   "pygments_lexer": "ipython3",
   "version": "3.11.5"
  }
 },
 "nbformat": 4,
 "nbformat_minor": 5
}
