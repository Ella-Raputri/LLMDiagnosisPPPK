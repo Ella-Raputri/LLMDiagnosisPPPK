{
 "cells": [
  {
   "cell_type": "code",
   "execution_count": 1,
   "id": "7b9a5ec2",
   "metadata": {},
   "outputs": [],
   "source": [
    "import os\n",
    "import requests\n",
    "import json\n",
    "import numpy as np\n",
    "from typing import List, Dict, Any, Optional\n",
    "from openai import OpenAI\n",
    "from cassandra.cluster import Cluster\n",
    "from cassandra.auth import PlainTextAuthProvider\n",
    "from dotenv import load_dotenv"
   ]
  },
  {
   "cell_type": "code",
   "execution_count": 2,
   "id": "a3073f44",
   "metadata": {},
   "outputs": [],
   "source": [
    "from astrapy import DataAPIClient"
   ]
  },
  {
   "cell_type": "code",
   "execution_count": 3,
   "id": "263055b2",
   "metadata": {},
   "outputs": [],
   "source": [
    "load_dotenv()\n",
    "openai_client = OpenAI(api_key=os.environ.get(\"OPENAI_API_KEY\"))"
   ]
  },
  {
   "cell_type": "code",
   "execution_count": 4,
   "id": "1afa054e",
   "metadata": {},
   "outputs": [],
   "source": [
    "def connect_to_astradb():\n",
    "    ASTRA_DB_APPLICATION_TOKEN = os.getenv(\"ASTRA_DB_APPLICATION_TOKEN\")\n",
    "    ASTRA_DB_API_ENDPOINT = os.getenv(\"ASTRA_DB_API_ENDPOINT\")\n",
    "\n",
    "    client = DataAPIClient(token=ASTRA_DB_APPLICATION_TOKEN)\n",
    "    database = client.get_database(ASTRA_DB_API_ENDPOINT)\n",
    "\n",
    "    collection = database.get_collection(\"chat_radiology\")\n",
    "    return collection"
   ]
  },
  {
   "cell_type": "code",
   "execution_count": 5,
   "id": "0312bbf1",
   "metadata": {},
   "outputs": [],
   "source": [
    "def generate_embedding(text: str) -> List[float]:\n",
    "    \"\"\"Generate embedding for the given text using OpenAI's embedding model\"\"\"\n",
    "    response = openai_client.embeddings.create(\n",
    "        input=text,\n",
    "        model=\"text-embedding-3-small\"\n",
    "    )\n",
    "    return response.data[0].embedding"
   ]
  },
  {
   "cell_type": "code",
   "execution_count": 6,
   "id": "5f1950e4",
   "metadata": {},
   "outputs": [],
   "source": [
    "def search_documents(query: str, collection) -> List[Dict[str, Any]]:\n",
    "    embedding = generate_embedding(query)\n",
    "    cursor = collection.find(\n",
    "        None,  \n",
    "        sort={\n",
    "            \"$vector\": embedding\n",
    "        },\n",
    "        limit=5\n",
    "    )\n",
    "    documents = list(cursor)\n",
    "    \n",
    "    return documents"
   ]
  },
  {
   "cell_type": "code",
   "execution_count": 7,
   "id": "f5dd73f8",
   "metadata": {},
   "outputs": [],
   "source": [
    "def format_context(documents: List[Dict[str, Any]]) -> str:\n",
    "    \n",
    "    context = \"\"\n",
    "    for doc in documents:\n",
    "        filename = doc.get(\"category\", \"dokumen tidak diketahui\")\n",
    "        context += f\"Sumber: {filename}\\n{doc.get('text', '')}\\n\\n\"\n",
    "    return context"
   ]
  },
  {
   "cell_type": "code",
   "execution_count": 8,
   "id": "1789334d",
   "metadata": {},
   "outputs": [],
   "source": [
    "def create_rag_prompt(context: str, query: str) -> str:\n",
    "    \n",
    "    system_prompt = f\"\"\"\n",
    "    Anda adalah asisten medis yang membantu menjawab pertanyaan berdasarkan informasi berikut:\n",
    "    START CONTEXT\n",
    "    {context}\n",
    "    END CONTEXT\n",
    "\n",
    "    Instruksi:\n",
    "    1. Jawablah pertanyaan secara panjang, terstruktur, dan sangat mendetail.\n",
    "    2. Apabila informasi berupa gejala-gejala yang dialami pasien, berikan lima kemungkinan diagnosis berdasarkan informasi tersebut, dengan penjelasan singkat yang menghubungkan gejala dengan setiap diagnosis. Kemudian, berikan saran kepada dokter untuk investigasi gejala lebih lanjut berdasarkan informasi dari dalam dokumen.\n",
    "    3. Jika gejalanya menyangkut tentang nyeri atau sakit di ulu hati atau perut bagian atas, selalu berikan dispepsia sebagai salah satu diagnosis kemungkinan.\n",
    "    4. Jika gejala yang disampaikan berhubungan dengan demam, seperti demam tinggi atau demam lebih dari 2 hari, selalu berikan demam biasa sebagai salah satu diagnosis kemungkinan, dan sertakan informasi tentang demam sedikit lebih detail seperti cara obat yang diperlukan.\n",
    "    5. Jika gejala yang disampaikan berhubungan dengan nafas sesak atau batuk, kemungkinan besar pasien terkena penyakit asthma. Jadi, selalu berikan asthma sebagai salah satu diagnosis kemungkinan.\n",
    "    6. Jika pertanyaan berkaitan dengan suatu penyakit (misalnya \"Pasien terkena TB Paru. Jelaskan...\"), berikan penjelasan selengkap dan sedetail mungkin tentang penyakit tersebut, mengacu secara langsung pada informasi yang ada dalam konteks (dokumen). Sertakan informasi tentang etiologi, gejala khas, diagnosa, penatalaksanaan, dan referensi dokumen. Jika tersedia, sebutkan nama file asal informasi tersebut.\n",
    "    7. Apabila informasi bukan berupa gejala tetapi pertanyaan umum, jawablah secara lengkap dan rujuk sumber informasi dari dokumen dengan menyebutkan nama file.\n",
    "    8. Jika Anda tidak yakin dengan jawaban (informasi tidak terdapat dalam konteks) atau pertanyaan kurang spesifik, katakan Anda tidak yakin dengan jawaban Anda.\n",
    "    9. Jangan menambahkan informasi di luar konteks yang diberikan.\n",
    "    10. Pastikan jawaban akurat, berdasarkan pedoman klinis resmi atau dokumen yang tersedia.\n",
    "    11. Berikan peringatan bahwa ini bukan pengganti nasihat medis profesional dan pasien harus berkonsultasi dengan dokter untuk diagnosis dan perawatan yang akurat.\n",
    "    12. Di akhir jawaban, sampaikan bahwa jawaban diambil berdasarkan Keputusan Menteri Kesehatan Republik Indonesia Nomor HK.01.07/MENKES/1186/2022 tentang Panduan Praktik Klinis bagi Dokter di Fasilitas Pelayanan Kesehatan Tingkat Pertama.\n",
    "    \"\"\"\n",
    "    \n",
    "    return f\"{system_prompt}\\n\\n{query}\""
   ]
  },
  {
   "cell_type": "code",
   "execution_count": 9,
   "id": "0567667d",
   "metadata": {},
   "outputs": [],
   "source": [
    "def call_deepseek_api(prompt: str, model: str = \"deepseek/deepseek-chat:free\") -> str:\n",
    "    \n",
    "    url = \"https://openrouter.ai/api/v1/chat/completions\"\n",
    "    \n",
    "    headers = {\n",
    "        \"Authorization\": f\"Bearer {os.environ.get('OPENROUTER_API_KEY')}\",\n",
    "        \"HTTP-Referer\": \"https://radiologi.com\",\n",
    "        \"X-Title\": \"Radiology GPT\",\n",
    "        \"Content-Type\": \"application/json\"\n",
    "    }\n",
    "    \n",
    "    data = {\n",
    "        \"model\": model,\n",
    "        \"messages\": [\n",
    "            {\n",
    "                \"role\": \"user\",\n",
    "                \"content\": prompt\n",
    "            }\n",
    "        ]\n",
    "    }\n",
    "    \n",
    "    response = requests.post(url, headers=headers, json=data)\n",
    "    \n",
    "    if response.status_code != 200:\n",
    "        raise Exception(f\"Error calling DeepSeek API: {response.text}\")\n",
    "    \n",
    "    return response.json()[\"choices\"][0][\"message\"][\"content\"]"
   ]
  },
  {
   "cell_type": "code",
   "execution_count": 10,
   "id": "ff9a442c",
   "metadata": {},
   "outputs": [],
   "source": [
    "def process_with_rag(query: str, use_deepseek_r1: bool = False) -> str:\n",
    "    model = \"deepseek/deepseek-r1:free\" if use_deepseek_r1 else \"deepseek/deepseek-chat:free\"\n",
    "    collection = connect_to_astradb()\n",
    "    documents = search_documents(query, collection)\n",
    "    \n",
    "    context = format_context(documents)\n",
    "    prompt = create_rag_prompt(context, query)\n",
    "    response = call_deepseek_api(prompt, model)\n",
    "    \n",
    "    return response"
   ]
  },
  {
   "cell_type": "code",
   "execution_count": 13,
   "id": "d4c2466b",
   "metadata": {},
   "outputs": [
    {
     "name": "stdout",
     "output_type": "stream",
     "text": [
      "**Diagnosis Berdasarkan Gejala Pasien:**\n",
      "\n",
      "1. **Malaria**  \n",
      "   - **Alasan:** Gejala demam yang hilang timbul (terutama pada malam hari), menggigil, mual, muntah, dan riwayat potensial tinggal di daerah endemis malaria sesuai dengan gambaran klinis malaria (Sumber: Penyakit Umum). Parasit *Plasmodium* menyebabkan demam periodik akibat siklus replikasi dalam eritrosit.  \n",
      "   - **Pemeriksaan Penunjang:** Tes darah tepi (mencari parasit malaria), pemeriksaan *rapid diagnostic test* (RDT) malaria, dan hitung darah lengkap (trombositopenia mungkin terdeteksi).\n",
      "\n",
      "2. **Demam Tifoid**  \n",
      "   - **Alasan:** Demam yang mungkin berkepanjangan, disertai gejala gastrointestinal (mual, muntah). Demam tifoid sering disertai anoreksia, nyeri abdomen, dan komplikasi seperti gangguan kesadaran (Sumber: Digestive).  \n",
      "   - **Pemeriksaan Penunjang:** Tes Widal, kultur darah, atau pemeriksaan PCR untuk *Salmonella typhi*.\n",
      "\n",
      "3. **Leptospirosis**  \n",
      "   - **Alasan:** Demam mendadak, menggigil, mialgia (nyeri otot betis), dan gejala gastrointestinal. Leptospirosis juga dapat disertai ikterus, hepatomegali, atau perdarahan (Sumber: Penyakit Umum).  \n",
      "   - **Pemeriksaan Penunjang:** Serologi IgM anti-*Leptospira*, PCR, atau kultur darah.\n",
      "\n",
      "4. **Sepsis**  \n",
      "   - **Alasan:** Demam, menggigil, dan gejala sistemik seperti mual/muntah dapat mengarah ke infeksi sistemik. Sepsis sering disertai tanda gangguan hemodinamik (Sumber: Digestive).  \n",
      "   - **Pemeriksaan Penunjang:** Kultur darah, pemeriksaan prokalsitonin, dan analisis gas darah.\n",
      "\n",
      "5. **Demam Biasa (Non-Spesifik)**  \n",
      "   - **Alasan:** Demam sebagai respons imun terhadap infeksi virus/bakteri ringan. Meski gejala gastrointestinal mungkin menyertai, perlu dipastikan tidak ada tanda bahaya seperti dehidrasi berat atau syok (sesuai instruksi untuk selalu mencantumkan demam biasa jika terkait demam).  \n",
      "   - **Pemeriksaan Penunjang:** Pemeriksaan darah rutin (leukosit, trombosit) dan urinalisis.\n",
      "\n",
      "---\n",
      "\n",
      "**Saran Investigasi Lanjutan untuk Dokter:**  \n",
      "1. **Pemeriksaan Laboratorium:**  \n",
      "   - Darah rutin (leukosit, trombosit, hematokrit).  \n",
      "   - Tes fungsi hati dan ginjal (mendeteksi komplikasi leptospirosis atau sepsis).  \n",
      "   - Pemeriksaan spesifik: Tes malaria, serologi tifoid/leptospirosis, kultur darah.  \n",
      "2. **Pemeriksaan Fisik Mendalam:**  \n",
      "   - Evaluasi tanda meningitis (kaku kuduk, fotofobia).  \n",
      "   - Palpasi hepatosplenomegali atau limfadenopati.  \n",
      "3. **Pemeriksaan Pencitraan:**  \n",
      "   - USG abdomen jika dicurigai hepatosplenomegali atau abses.  \n",
      "\n",
      "---\n",
      "\n",
      "**Peringatan:**  \n",
      "Diagnosis ini bersifat hipotesis berdasarkan informasi terbatas. Pasien harus segera dirujuk ke fasilitas kesehatan untuk evaluasi komprehensif dan penanganan tepat.  \n",
      "\n",
      "*Jawaban ini mengacu pada Keputusan Menteri Kesehatan Republik Indonesia Nomor HK.01.07/MENKES/1186/2022 tentang Panduan Praktik Klinis bagi Dokter di Fasilitas Pelayanan Kesehatan Tingkat Pertama.*\n"
     ]
    }
   ],
   "source": [
    "query = \"\"\"Pasien mengalami demam pada waktu malam. Sebelum masuk rumah sakit, \n",
    "pasien merasa mual, muntah dan menggigil. Pasien didiagnosis penyakit apa?\"\"\"\n",
    "    \n",
    "response = process_with_rag(query, True)\n",
    "print(response)"
   ]
  },
  {
   "cell_type": "code",
   "execution_count": 11,
   "id": "9a765251",
   "metadata": {},
   "outputs": [],
   "source": [
    "import pandas as pd\n",
    "import nltk\n",
    "import numpy as np\n",
    "from sklearn.metrics.pairwise import cosine_similarity\n",
    "from sklearn.feature_extraction.text import TfidfVectorizer\n",
    "from nltk.translate.bleu_score import sentence_bleu\n",
    "from nltk.translate.meteor_score import meteor_score\n",
    "from bert_score import score"
   ]
  },
  {
   "cell_type": "code",
   "execution_count": 22,
   "id": "a4b3c139",
   "metadata": {},
   "outputs": [
    {
     "data": {
      "text/html": [
       "<div>\n",
       "<style scoped>\n",
       "    .dataframe tbody tr th:only-of-type {\n",
       "        vertical-align: middle;\n",
       "    }\n",
       "\n",
       "    .dataframe tbody tr th {\n",
       "        vertical-align: top;\n",
       "    }\n",
       "\n",
       "    .dataframe thead th {\n",
       "        text-align: right;\n",
       "    }\n",
       "</style>\n",
       "<table border=\"1\" class=\"dataframe\">\n",
       "  <thead>\n",
       "    <tr style=\"text-align: right;\">\n",
       "      <th></th>\n",
       "      <th>No</th>\n",
       "      <th>Question</th>\n",
       "      <th>Answer</th>\n",
       "      <th>Full Answer</th>\n",
       "    </tr>\n",
       "  </thead>\n",
       "  <tbody>\n",
       "    <tr>\n",
       "      <th>0</th>\n",
       "      <td>1.0</td>\n",
       "      <td>Pasien mengalami demam pada waktu malam. Sebel...</td>\n",
       "      <td>Demam Tifoid 70%</td>\n",
       "      <td>Berdasarkan gejala yang disampaikan, saya akan...</td>\n",
       "    </tr>\n",
       "    <tr>\n",
       "      <th>1</th>\n",
       "      <td>NaN</td>\n",
       "      <td>NaN</td>\n",
       "      <td>Demam Berdarah Dengue 30%</td>\n",
       "      <td>NaN</td>\n",
       "    </tr>\n",
       "    <tr>\n",
       "      <th>2</th>\n",
       "      <td>2.0</td>\n",
       "      <td>Pasien mengalami buang air besar cair lebih da...</td>\n",
       "      <td>Gastroenteritis (GE) Akut 70%</td>\n",
       "      <td>Berdasarkan informasi klinis yang diberikan, s...</td>\n",
       "    </tr>\n",
       "    <tr>\n",
       "      <th>3</th>\n",
       "      <td>NaN</td>\n",
       "      <td>NaN</td>\n",
       "      <td>Intoleransi Laktosa 30%</td>\n",
       "      <td>NaN</td>\n",
       "    </tr>\n",
       "    <tr>\n",
       "      <th>4</th>\n",
       "      <td>3.0</td>\n",
       "      <td>Pasien datang dengan keluhan demam selama 6 ha...</td>\n",
       "      <td>DBD 80%</td>\n",
       "      <td>Berdasarkan informasi yang diberikan, saya aka...</td>\n",
       "    </tr>\n",
       "    <tr>\n",
       "      <th>...</th>\n",
       "      <td>...</td>\n",
       "      <td>...</td>\n",
       "      <td>...</td>\n",
       "      <td>...</td>\n",
       "    </tr>\n",
       "    <tr>\n",
       "      <th>93</th>\n",
       "      <td>44.0</td>\n",
       "      <td>Pasien sesak nafas sejak 4 jam sebelum masuk r...</td>\n",
       "      <td>Bronkitis Akut 50%</td>\n",
       "      <td>Berdasarkan gejala yang disampaikan, berikut l...</td>\n",
       "    </tr>\n",
       "    <tr>\n",
       "      <th>94</th>\n",
       "      <td>NaN</td>\n",
       "      <td>NaN</td>\n",
       "      <td>Infeksi saluran pernapasan 70%</td>\n",
       "      <td>NaN</td>\n",
       "    </tr>\n",
       "    <tr>\n",
       "      <th>95</th>\n",
       "      <td>NaN</td>\n",
       "      <td>NaN</td>\n",
       "      <td>Gangguan kardiovaskular 50%</td>\n",
       "      <td>NaN</td>\n",
       "    </tr>\n",
       "    <tr>\n",
       "      <th>96</th>\n",
       "      <td>45.0</td>\n",
       "      <td>Pasien sesak sejak 4 jam sebelum masuk rs dan ...</td>\n",
       "      <td>Asma Bronkial  70%</td>\n",
       "      <td>Berdasarkan informasi yang diberikan, saya aka...</td>\n",
       "    </tr>\n",
       "    <tr>\n",
       "      <th>97</th>\n",
       "      <td>NaN</td>\n",
       "      <td>NaN</td>\n",
       "      <td>Bronkitis Akut 50%</td>\n",
       "      <td>NaN</td>\n",
       "    </tr>\n",
       "  </tbody>\n",
       "</table>\n",
       "<p>98 rows × 4 columns</p>\n",
       "</div>"
      ],
      "text/plain": [
       "      No                                           Question  \\\n",
       "0    1.0  Pasien mengalami demam pada waktu malam. Sebel...   \n",
       "1    NaN                                                NaN   \n",
       "2    2.0  Pasien mengalami buang air besar cair lebih da...   \n",
       "3    NaN                                                NaN   \n",
       "4    3.0  Pasien datang dengan keluhan demam selama 6 ha...   \n",
       "..   ...                                                ...   \n",
       "93  44.0  Pasien sesak nafas sejak 4 jam sebelum masuk r...   \n",
       "94   NaN                                                NaN   \n",
       "95   NaN                                                NaN   \n",
       "96  45.0  Pasien sesak sejak 4 jam sebelum masuk rs dan ...   \n",
       "97   NaN                                                NaN   \n",
       "\n",
       "                            Answer  \\\n",
       "0                 Demam Tifoid 70%   \n",
       "1        Demam Berdarah Dengue 30%   \n",
       "2    Gastroenteritis (GE) Akut 70%   \n",
       "3          Intoleransi Laktosa 30%   \n",
       "4                          DBD 80%   \n",
       "..                             ...   \n",
       "93              Bronkitis Akut 50%   \n",
       "94  Infeksi saluran pernapasan 70%   \n",
       "95     Gangguan kardiovaskular 50%   \n",
       "96              Asma Bronkial  70%   \n",
       "97              Bronkitis Akut 50%   \n",
       "\n",
       "                                          Full Answer  \n",
       "0   Berdasarkan gejala yang disampaikan, saya akan...  \n",
       "1                                                 NaN  \n",
       "2   Berdasarkan informasi klinis yang diberikan, s...  \n",
       "3                                                 NaN  \n",
       "4   Berdasarkan informasi yang diberikan, saya aka...  \n",
       "..                                                ...  \n",
       "93  Berdasarkan gejala yang disampaikan, berikut l...  \n",
       "94                                                NaN  \n",
       "95                                                NaN  \n",
       "96  Berdasarkan informasi yang diberikan, saya aka...  \n",
       "97                                                NaN  \n",
       "\n",
       "[98 rows x 4 columns]"
      ]
     },
     "execution_count": 22,
     "metadata": {},
     "output_type": "execute_result"
    }
   ],
   "source": [
    "df = pd.read_excel('dr_ground_truth.xlsx')\n",
    "# df = df.head(5)\n",
    "df = df[['No','Question','Answer','Full Answer']]\n",
    "df"
   ]
  },
  {
   "cell_type": "code",
   "execution_count": null,
   "id": "0966090c",
   "metadata": {},
   "outputs": [
    {
     "name": "stderr",
     "output_type": "stream",
     "text": [
      "C:\\Users\\Asus\\AppData\\Local\\Temp\\ipykernel_13512\\3979606845.py:1: FutureWarning: Series.fillna with 'method' is deprecated and will raise in a future version. Use obj.ffill() or obj.bfill() instead.\n",
      "  df['No'] = df['No'].fillna(method='ffill')\n",
      "C:\\Users\\Asus\\AppData\\Local\\Temp\\ipykernel_13512\\3979606845.py:2: FutureWarning: Series.fillna with 'method' is deprecated and will raise in a future version. Use obj.ffill() or obj.bfill() instead.\n",
      "  df['Question'] = df['Question'].fillna(method='ffill')\n"
     ]
    },
    {
     "data": {
      "text/html": [
       "<div>\n",
       "<style scoped>\n",
       "    .dataframe tbody tr th:only-of-type {\n",
       "        vertical-align: middle;\n",
       "    }\n",
       "\n",
       "    .dataframe tbody tr th {\n",
       "        vertical-align: top;\n",
       "    }\n",
       "\n",
       "    .dataframe thead th {\n",
       "        text-align: right;\n",
       "    }\n",
       "</style>\n",
       "<table border=\"1\" class=\"dataframe\">\n",
       "  <thead>\n",
       "    <tr style=\"text-align: right;\">\n",
       "      <th></th>\n",
       "      <th>No</th>\n",
       "      <th>Question</th>\n",
       "      <th>Answer</th>\n",
       "      <th>Full Answer</th>\n",
       "    </tr>\n",
       "  </thead>\n",
       "  <tbody>\n",
       "    <tr>\n",
       "      <th>0</th>\n",
       "      <td>1.0</td>\n",
       "      <td>Pasien mengalami demam pada waktu malam. Sebel...</td>\n",
       "      <td>Demam Tifoid 70%, Demam Berdarah Dengue 30%</td>\n",
       "      <td>Berdasarkan gejala yang disampaikan, saya akan...</td>\n",
       "    </tr>\n",
       "    <tr>\n",
       "      <th>1</th>\n",
       "      <td>2.0</td>\n",
       "      <td>Pasien mengalami buang air besar cair lebih da...</td>\n",
       "      <td>Gastroenteritis (GE) Akut 70%, Intoleransi Lak...</td>\n",
       "      <td>Berdasarkan informasi klinis yang diberikan, s...</td>\n",
       "    </tr>\n",
       "    <tr>\n",
       "      <th>2</th>\n",
       "      <td>3.0</td>\n",
       "      <td>Pasien datang dengan keluhan demam selama 6 ha...</td>\n",
       "      <td>DBD 80%</td>\n",
       "      <td>Berdasarkan informasi yang diberikan, saya aka...</td>\n",
       "    </tr>\n",
       "    <tr>\n",
       "      <th>3</th>\n",
       "      <td>4.0</td>\n",
       "      <td>Pasien menderita demam disertai munculnya brun...</td>\n",
       "      <td>Infeksi Bakteri/Virus (Sistemik) 50%, Infeksi ...</td>\n",
       "      <td>Berdasarkan informasi klinis yang diberikan, s...</td>\n",
       "    </tr>\n",
       "    <tr>\n",
       "      <th>4</th>\n",
       "      <td>5.0</td>\n",
       "      <td>Pasien nyeri dada sejak 4 jam lalu seperti ter...</td>\n",
       "      <td>Angina Pekrotis 80%, Infark Miokard Akut (Sera...</td>\n",
       "      <td>Berdasarkan informasi yang diberikan dalam kon...</td>\n",
       "    </tr>\n",
       "    <tr>\n",
       "      <th>5</th>\n",
       "      <td>6.0</td>\n",
       "      <td>Pasien mengalami sesak nafas sejak siang. #Has...</td>\n",
       "      <td>Asma 100%, Bronkitis Akut 70%, Penyakit Paru O...</td>\n",
       "      <td>Berdasarkan informasi klinis yang diberikan da...</td>\n",
       "    </tr>\n",
       "    <tr>\n",
       "      <th>6</th>\n",
       "      <td>7.0</td>\n",
       "      <td>Pasien mengalami sesak napas sejak sehari lalu...</td>\n",
       "      <td>Bronkitis Akut 100%</td>\n",
       "      <td>Berdasarkan informasi gejala dan pemeriksaan f...</td>\n",
       "    </tr>\n",
       "    <tr>\n",
       "      <th>7</th>\n",
       "      <td>8.0</td>\n",
       "      <td>Pasien mengalami sesak nafas sekitar 3 hari, t...</td>\n",
       "      <td>Bronkitis Akut 80%, Asma Bronkial 50%</td>\n",
       "      <td>Berdasarkan informasi yang tersedia dalam kont...</td>\n",
       "    </tr>\n",
       "    <tr>\n",
       "      <th>8</th>\n",
       "      <td>9.0</td>\n",
       "      <td>Pasien nyeri ulu hati/perut bagian atas sejak ...</td>\n",
       "      <td>Dispepsia 100%, Pneumonia 50%, Infeksi Saluran...</td>\n",
       "      <td>Berdasarkan informasi gejala yang disampaikan,...</td>\n",
       "    </tr>\n",
       "    <tr>\n",
       "      <th>9</th>\n",
       "      <td>10.0</td>\n",
       "      <td>Pasien merasa nyeri di ulu hati sampai terasa ...</td>\n",
       "      <td>Dispepsia 80%, refluk Gastroesofagus (GERD) 90%</td>\n",
       "      <td>Berdasarkan gejala yang Anda sebutkan, berikut...</td>\n",
       "    </tr>\n",
       "    <tr>\n",
       "      <th>10</th>\n",
       "      <td>11.0</td>\n",
       "      <td>Pasien mengalami buang air besar cair 5 kali l...</td>\n",
       "      <td>Gastroenteritis Akut 70%, Infeksi saluran penc...</td>\n",
       "      <td>Berdasarkan gejala yang disampaikan, berikut l...</td>\n",
       "    </tr>\n",
       "    <tr>\n",
       "      <th>11</th>\n",
       "      <td>12.0</td>\n",
       "      <td>Pasien nyeri pinggang kanan sejak 6 jam lalu, ...</td>\n",
       "      <td>Batu Ginjal 70%, Kolik Renal 80%, Ganguan Salu...</td>\n",
       "      <td>Berdasarkan informasi gejala yang disampaikan,...</td>\n",
       "    </tr>\n",
       "    <tr>\n",
       "      <th>12</th>\n",
       "      <td>13.0</td>\n",
       "      <td>Pasien mengalami nyeri perut sejak sehari lalu...</td>\n",
       "      <td>Peritonitis 50%, Infeksi Saluran Pencernaan Ak...</td>\n",
       "      <td>Berdasarkan gejala yang disampaikan, saya akan...</td>\n",
       "    </tr>\n",
       "    <tr>\n",
       "      <th>13</th>\n",
       "      <td>14.0</td>\n",
       "      <td>Pasien mengalami nyeri perut, mulas, mual, mun...</td>\n",
       "      <td>Kolesistitis Akut 70%, Dispepsia 70%</td>\n",
       "      <td>Berdasarkan gejala dan pemeriksaan fisik yang ...</td>\n",
       "    </tr>\n",
       "    <tr>\n",
       "      <th>14</th>\n",
       "      <td>15.0</td>\n",
       "      <td>Pasien mengalami nyeri hebat di perut bawah (b...</td>\n",
       "      <td>Appendisitis Akut 70%, Kolika Abdominalis 80%</td>\n",
       "      <td>Berdasarkan informasi klinis yang diberikan da...</td>\n",
       "    </tr>\n",
       "    <tr>\n",
       "      <th>15</th>\n",
       "      <td>16.0</td>\n",
       "      <td>Pasien muntah-muntah sejak 3 hari lalu setiap ...</td>\n",
       "      <td>Dispepsia 80%, Infeksi Saluran Pernapasan Atas...</td>\n",
       "      <td>Berdasarkan informasi klinis yang diberikan, s...</td>\n",
       "    </tr>\n",
       "    <tr>\n",
       "      <th>16</th>\n",
       "      <td>17.0</td>\n",
       "      <td>Pasien mengalami demam, menggigil, sulit tidur...</td>\n",
       "      <td>Infeksi Saluran pernapasan atas 70%, Influenza...</td>\n",
       "      <td>Berdasarkan informasi gejala yang diberikan, s...</td>\n",
       "    </tr>\n",
       "    <tr>\n",
       "      <th>17</th>\n",
       "      <td>18.0</td>\n",
       "      <td>Pasien demam tinggi hari ke 3, batuk berdahak,...</td>\n",
       "      <td>Infeksi Saluran Pernapasan atas 80%, Bronkitis...</td>\n",
       "      <td>Berdasarkan gejala yang disampaikan, berikut l...</td>\n",
       "    </tr>\n",
       "    <tr>\n",
       "      <th>18</th>\n",
       "      <td>19.0</td>\n",
       "      <td>Pasien mengalami demam tinggi, batuk dan pilek...</td>\n",
       "      <td>Influenza 80%, Infeksi Saluran Pernapasan atas...</td>\n",
       "      <td>Berdasarkan informasi yang tersedia dalam doku...</td>\n",
       "    </tr>\n",
       "    <tr>\n",
       "      <th>19</th>\n",
       "      <td>20.0</td>\n",
       "      <td>Pasien mengalami demam tinggi sejak sehari lal...</td>\n",
       "      <td>Infeksi Saluran Pernapasan 80%</td>\n",
       "      <td>Berdasarkan gejala yang Anda sampaikan, saya a...</td>\n",
       "    </tr>\n",
       "    <tr>\n",
       "      <th>20</th>\n",
       "      <td>21.0</td>\n",
       "      <td>Pasien mengalami demam dan sudah berobat. #Has...</td>\n",
       "      <td>Demam Dengue 50%, DBD 30%, Demam Umum/Infeksi ...</td>\n",
       "      <td>Berdasarkan informasi klinis yang diberikan, s...</td>\n",
       "    </tr>\n",
       "    <tr>\n",
       "      <th>21</th>\n",
       "      <td>22.0</td>\n",
       "      <td>Pasien demam tinggi sejak 2 hari lalu, badan l...</td>\n",
       "      <td>Dengue Fever 70%</td>\n",
       "      <td>Berdasarkan gejala yang disampaikan, berikut l...</td>\n",
       "    </tr>\n",
       "    <tr>\n",
       "      <th>22</th>\n",
       "      <td>23.0</td>\n",
       "      <td>Pasien demam, lemas dan pusing. Sudah mengkons...</td>\n",
       "      <td>Awal Infeksi Virus 70%</td>\n",
       "      <td>Berdasarkan informasi yang diberikan dan konte...</td>\n",
       "    </tr>\n",
       "    <tr>\n",
       "      <th>23</th>\n",
       "      <td>24.0</td>\n",
       "      <td>Klien pingsan kemudian sadar tapi mengalami pu...</td>\n",
       "      <td>Hipertensi stage 1 100%, Post Syncope Kelainan...</td>\n",
       "      <td>Berdasarkan informasi yang diberikan, saya aka...</td>\n",
       "    </tr>\n",
       "    <tr>\n",
       "      <th>24</th>\n",
       "      <td>25.0</td>\n",
       "      <td>Pasien terjatuh saat memperbaiki atap rumah da...</td>\n",
       "      <td>Trauma kepala ringan = Cedera Kepala Ringan (C...</td>\n",
       "      <td>Berdasarkan informasi dari konteks dokumen yan...</td>\n",
       "    </tr>\n",
       "    <tr>\n",
       "      <th>25</th>\n",
       "      <td>26.0</td>\n",
       "      <td>Pasien mengalami luka robek di siku tangan kan...</td>\n",
       "      <td>Luka Terbuka/Robek (Vulnus Laceratum) 100%</td>\n",
       "      <td>Berdasarkan informasi yang diberikan, saya aka...</td>\n",
       "    </tr>\n",
       "    <tr>\n",
       "      <th>26</th>\n",
       "      <td>27.0</td>\n",
       "      <td>Pasien jatuh di halaman rumah waktu men-starte...</td>\n",
       "      <td>Post Trauma 100%</td>\n",
       "      <td>Berdasarkan informasi dalam konteks yang diber...</td>\n",
       "    </tr>\n",
       "    <tr>\n",
       "      <th>27</th>\n",
       "      <td>28.0</td>\n",
       "      <td>Pasien jatuh dari kasur waktu bangun tidur di ...</td>\n",
       "      <td>CKR disebabkan oleh Vertigo 90%, Luka Terbuka/...</td>\n",
       "      <td>Berdasarkan gejala yang Anda sampaikan, saya a...</td>\n",
       "    </tr>\n",
       "    <tr>\n",
       "      <th>28</th>\n",
       "      <td>29.0</td>\n",
       "      <td>Pasien mengalami luka lecet karena terjatuh. P...</td>\n",
       "      <td>Luka Lecet (Vulnus Excoriatum) 100%</td>\n",
       "      <td>Berdasarkan konteks dokumen yang diberikan, kh...</td>\n",
       "    </tr>\n",
       "    <tr>\n",
       "      <th>29</th>\n",
       "      <td>30.0</td>\n",
       "      <td>Pasien terkena petasan di tangan kiri (bisa di...</td>\n",
       "      <td>Luka Bakar /Burn Injury (Derajat III) 70%, Luk...</td>\n",
       "      <td>Berdasarkan konteks yang diberikan, tidak ada ...</td>\n",
       "    </tr>\n",
       "    <tr>\n",
       "      <th>30</th>\n",
       "      <td>31.0</td>\n",
       "      <td>Pasien demam naik turun sejak 2 hari sebelum m...</td>\n",
       "      <td>Demam Biasa (Common Fever) 70%, Demam Dengue 30%</td>\n",
       "      <td>Berdasarkan informasi gejala pasien yang menga...</td>\n",
       "    </tr>\n",
       "    <tr>\n",
       "      <th>31</th>\n",
       "      <td>32.0</td>\n",
       "      <td>Pasien demam sejak 2 hari lalu dan dirasakan t...</td>\n",
       "      <td>Influenza 70%, Infeksi saluran pernapasan atas...</td>\n",
       "      <td>Berdasarkan informasi gejala yang diberikan, b...</td>\n",
       "    </tr>\n",
       "    <tr>\n",
       "      <th>32</th>\n",
       "      <td>33.0</td>\n",
       "      <td>Pasien demam sejak 2 hari lalu, batuk berdahak...</td>\n",
       "      <td>Gastroenteritis(GE) 80%, Influenza 70%</td>\n",
       "      <td>Berdasarkan gejala yang disampaikan, berikut l...</td>\n",
       "    </tr>\n",
       "    <tr>\n",
       "      <th>33</th>\n",
       "      <td>34.0</td>\n",
       "      <td>Pasien demam sejak 2 hari lalu, batuk kering d...</td>\n",
       "      <td>Infeksi saluran pernapasan atas 50%, Influenza...</td>\n",
       "      <td>Berdasarkan informasi gejala yang diberikan, b...</td>\n",
       "    </tr>\n",
       "    <tr>\n",
       "      <th>34</th>\n",
       "      <td>35.0</td>\n",
       "      <td>Pasien demam sejak 2 hari lalu, disertai batuk...</td>\n",
       "      <td>Influenza 50%, Tonsilitis  70%, Faringitis 100%</td>\n",
       "      <td>Berdasarkan gejala yang disampaikan, berikut l...</td>\n",
       "    </tr>\n",
       "    <tr>\n",
       "      <th>35</th>\n",
       "      <td>36.0</td>\n",
       "      <td>Pasien demam tinggi sejak 3 hari lalu, batuk b...</td>\n",
       "      <td>Infeksi saluran pernapasan atas 70%, Pneumonia...</td>\n",
       "      <td>Berdasarkan gejala yang disampaikan, berikut l...</td>\n",
       "    </tr>\n",
       "    <tr>\n",
       "      <th>36</th>\n",
       "      <td>37.0</td>\n",
       "      <td>Pasien mengalami nyeri di bagian perut atas at...</td>\n",
       "      <td>Gastritis 70%, Refluks Asam Lambung (GERD) 90%...</td>\n",
       "      <td>Berdasarkan gejala yang Anda sampaikan, saya a...</td>\n",
       "    </tr>\n",
       "    <tr>\n",
       "      <th>37</th>\n",
       "      <td>38.0</td>\n",
       "      <td>Pasien mengalami nyeri di bagian ulu hati atau...</td>\n",
       "      <td>Dispepsia 70%, Gastritis akut 70%, Reflux Gast...</td>\n",
       "      <td>Berdasarkan gejala yang Anda sampaikan, beriku...</td>\n",
       "    </tr>\n",
       "    <tr>\n",
       "      <th>38</th>\n",
       "      <td>39.0</td>\n",
       "      <td>Pasien mengalami nyeri di bagian ulu hati atau...</td>\n",
       "      <td>Dispepsia 70%, Gastritis 70%, Gastroesofageal ...</td>\n",
       "      <td>Berdasarkan informasi yang diberikan, saya aka...</td>\n",
       "    </tr>\n",
       "    <tr>\n",
       "      <th>39</th>\n",
       "      <td>40.0</td>\n",
       "      <td>Pasien mengalami nyeri hebat di perut bagian a...</td>\n",
       "      <td>Dispepsia 70%, Gastritis akut 70%</td>\n",
       "      <td>Berdasarkan gejala yang Anda sampaikan, beriku...</td>\n",
       "    </tr>\n",
       "    <tr>\n",
       "      <th>40</th>\n",
       "      <td>41.0</td>\n",
       "      <td>Pasien mengalami sesak nafas sejak 3 jam lalu,...</td>\n",
       "      <td>Asma Bronkial  70%, Bronkitis Akut 50%, Infeks...</td>\n",
       "      <td>Berdasarkan informasi yang diberikan, pasien k...</td>\n",
       "    </tr>\n",
       "    <tr>\n",
       "      <th>41</th>\n",
       "      <td>42.0</td>\n",
       "      <td>Pasien nyeri di ulu hati sampai terasa panas k...</td>\n",
       "      <td>Dispepsia 70%, Gastritis Akut 70%, Refleks Asa...</td>\n",
       "      <td>Berdasarkan informasi yang diberikan, saya aka...</td>\n",
       "    </tr>\n",
       "    <tr>\n",
       "      <th>42</th>\n",
       "      <td>43.0</td>\n",
       "      <td>Pasien nyeri ulu hati, sesak 2 hari sebelum ma...</td>\n",
       "      <td>Gangguan Saluran Pencernaan 50%, Dispepsia 70%</td>\n",
       "      <td>Berdasarkan gejala yang dialami pasien, beriku...</td>\n",
       "    </tr>\n",
       "    <tr>\n",
       "      <th>43</th>\n",
       "      <td>44.0</td>\n",
       "      <td>Pasien sesak nafas sejak 4 jam sebelum masuk r...</td>\n",
       "      <td>Bronkitis Akut 50%, Infeksi saluran pernapasan...</td>\n",
       "      <td>Berdasarkan gejala yang disampaikan, berikut l...</td>\n",
       "    </tr>\n",
       "    <tr>\n",
       "      <th>44</th>\n",
       "      <td>45.0</td>\n",
       "      <td>Pasien sesak sejak 4 jam sebelum masuk rs dan ...</td>\n",
       "      <td>Asma Bronkial  70%, Bronkitis Akut 50%</td>\n",
       "      <td>Berdasarkan informasi yang diberikan, saya aka...</td>\n",
       "    </tr>\n",
       "  </tbody>\n",
       "</table>\n",
       "</div>"
      ],
      "text/plain": [
       "      No                                           Question  \\\n",
       "0    1.0  Pasien mengalami demam pada waktu malam. Sebel...   \n",
       "1    2.0  Pasien mengalami buang air besar cair lebih da...   \n",
       "2    3.0  Pasien datang dengan keluhan demam selama 6 ha...   \n",
       "3    4.0  Pasien menderita demam disertai munculnya brun...   \n",
       "4    5.0  Pasien nyeri dada sejak 4 jam lalu seperti ter...   \n",
       "5    6.0  Pasien mengalami sesak nafas sejak siang. #Has...   \n",
       "6    7.0  Pasien mengalami sesak napas sejak sehari lalu...   \n",
       "7    8.0  Pasien mengalami sesak nafas sekitar 3 hari, t...   \n",
       "8    9.0  Pasien nyeri ulu hati/perut bagian atas sejak ...   \n",
       "9   10.0  Pasien merasa nyeri di ulu hati sampai terasa ...   \n",
       "10  11.0  Pasien mengalami buang air besar cair 5 kali l...   \n",
       "11  12.0  Pasien nyeri pinggang kanan sejak 6 jam lalu, ...   \n",
       "12  13.0  Pasien mengalami nyeri perut sejak sehari lalu...   \n",
       "13  14.0  Pasien mengalami nyeri perut, mulas, mual, mun...   \n",
       "14  15.0  Pasien mengalami nyeri hebat di perut bawah (b...   \n",
       "15  16.0  Pasien muntah-muntah sejak 3 hari lalu setiap ...   \n",
       "16  17.0  Pasien mengalami demam, menggigil, sulit tidur...   \n",
       "17  18.0  Pasien demam tinggi hari ke 3, batuk berdahak,...   \n",
       "18  19.0  Pasien mengalami demam tinggi, batuk dan pilek...   \n",
       "19  20.0  Pasien mengalami demam tinggi sejak sehari lal...   \n",
       "20  21.0  Pasien mengalami demam dan sudah berobat. #Has...   \n",
       "21  22.0  Pasien demam tinggi sejak 2 hari lalu, badan l...   \n",
       "22  23.0  Pasien demam, lemas dan pusing. Sudah mengkons...   \n",
       "23  24.0  Klien pingsan kemudian sadar tapi mengalami pu...   \n",
       "24  25.0  Pasien terjatuh saat memperbaiki atap rumah da...   \n",
       "25  26.0  Pasien mengalami luka robek di siku tangan kan...   \n",
       "26  27.0  Pasien jatuh di halaman rumah waktu men-starte...   \n",
       "27  28.0  Pasien jatuh dari kasur waktu bangun tidur di ...   \n",
       "28  29.0  Pasien mengalami luka lecet karena terjatuh. P...   \n",
       "29  30.0  Pasien terkena petasan di tangan kiri (bisa di...   \n",
       "30  31.0  Pasien demam naik turun sejak 2 hari sebelum m...   \n",
       "31  32.0  Pasien demam sejak 2 hari lalu dan dirasakan t...   \n",
       "32  33.0  Pasien demam sejak 2 hari lalu, batuk berdahak...   \n",
       "33  34.0  Pasien demam sejak 2 hari lalu, batuk kering d...   \n",
       "34  35.0  Pasien demam sejak 2 hari lalu, disertai batuk...   \n",
       "35  36.0  Pasien demam tinggi sejak 3 hari lalu, batuk b...   \n",
       "36  37.0  Pasien mengalami nyeri di bagian perut atas at...   \n",
       "37  38.0  Pasien mengalami nyeri di bagian ulu hati atau...   \n",
       "38  39.0  Pasien mengalami nyeri di bagian ulu hati atau...   \n",
       "39  40.0  Pasien mengalami nyeri hebat di perut bagian a...   \n",
       "40  41.0  Pasien mengalami sesak nafas sejak 3 jam lalu,...   \n",
       "41  42.0  Pasien nyeri di ulu hati sampai terasa panas k...   \n",
       "42  43.0  Pasien nyeri ulu hati, sesak 2 hari sebelum ma...   \n",
       "43  44.0  Pasien sesak nafas sejak 4 jam sebelum masuk r...   \n",
       "44  45.0  Pasien sesak sejak 4 jam sebelum masuk rs dan ...   \n",
       "\n",
       "                                               Answer  \\\n",
       "0         Demam Tifoid 70%, Demam Berdarah Dengue 30%   \n",
       "1   Gastroenteritis (GE) Akut 70%, Intoleransi Lak...   \n",
       "2                                             DBD 80%   \n",
       "3   Infeksi Bakteri/Virus (Sistemik) 50%, Infeksi ...   \n",
       "4   Angina Pekrotis 80%, Infark Miokard Akut (Sera...   \n",
       "5   Asma 100%, Bronkitis Akut 70%, Penyakit Paru O...   \n",
       "6                                 Bronkitis Akut 100%   \n",
       "7               Bronkitis Akut 80%, Asma Bronkial 50%   \n",
       "8   Dispepsia 100%, Pneumonia 50%, Infeksi Saluran...   \n",
       "9     Dispepsia 80%, refluk Gastroesofagus (GERD) 90%   \n",
       "10  Gastroenteritis Akut 70%, Infeksi saluran penc...   \n",
       "11  Batu Ginjal 70%, Kolik Renal 80%, Ganguan Salu...   \n",
       "12  Peritonitis 50%, Infeksi Saluran Pencernaan Ak...   \n",
       "13               Kolesistitis Akut 70%, Dispepsia 70%   \n",
       "14      Appendisitis Akut 70%, Kolika Abdominalis 80%   \n",
       "15  Dispepsia 80%, Infeksi Saluran Pernapasan Atas...   \n",
       "16  Infeksi Saluran pernapasan atas 70%, Influenza...   \n",
       "17  Infeksi Saluran Pernapasan atas 80%, Bronkitis...   \n",
       "18  Influenza 80%, Infeksi Saluran Pernapasan atas...   \n",
       "19                     Infeksi Saluran Pernapasan 80%   \n",
       "20  Demam Dengue 50%, DBD 30%, Demam Umum/Infeksi ...   \n",
       "21                                   Dengue Fever 70%   \n",
       "22                             Awal Infeksi Virus 70%   \n",
       "23  Hipertensi stage 1 100%, Post Syncope Kelainan...   \n",
       "24  Trauma kepala ringan = Cedera Kepala Ringan (C...   \n",
       "25         Luka Terbuka/Robek (Vulnus Laceratum) 100%   \n",
       "26                                   Post Trauma 100%   \n",
       "27  CKR disebabkan oleh Vertigo 90%, Luka Terbuka/...   \n",
       "28                Luka Lecet (Vulnus Excoriatum) 100%   \n",
       "29  Luka Bakar /Burn Injury (Derajat III) 70%, Luk...   \n",
       "30   Demam Biasa (Common Fever) 70%, Demam Dengue 30%   \n",
       "31  Influenza 70%, Infeksi saluran pernapasan atas...   \n",
       "32             Gastroenteritis(GE) 80%, Influenza 70%   \n",
       "33  Infeksi saluran pernapasan atas 50%, Influenza...   \n",
       "34    Influenza 50%, Tonsilitis  70%, Faringitis 100%   \n",
       "35  Infeksi saluran pernapasan atas 70%, Pneumonia...   \n",
       "36  Gastritis 70%, Refluks Asam Lambung (GERD) 90%...   \n",
       "37  Dispepsia 70%, Gastritis akut 70%, Reflux Gast...   \n",
       "38  Dispepsia 70%, Gastritis 70%, Gastroesofageal ...   \n",
       "39                  Dispepsia 70%, Gastritis akut 70%   \n",
       "40  Asma Bronkial  70%, Bronkitis Akut 50%, Infeks...   \n",
       "41  Dispepsia 70%, Gastritis Akut 70%, Refleks Asa...   \n",
       "42     Gangguan Saluran Pencernaan 50%, Dispepsia 70%   \n",
       "43  Bronkitis Akut 50%, Infeksi saluran pernapasan...   \n",
       "44             Asma Bronkial  70%, Bronkitis Akut 50%   \n",
       "\n",
       "                                          Full Answer  \n",
       "0   Berdasarkan gejala yang disampaikan, saya akan...  \n",
       "1   Berdasarkan informasi klinis yang diberikan, s...  \n",
       "2   Berdasarkan informasi yang diberikan, saya aka...  \n",
       "3   Berdasarkan informasi klinis yang diberikan, s...  \n",
       "4   Berdasarkan informasi yang diberikan dalam kon...  \n",
       "5   Berdasarkan informasi klinis yang diberikan da...  \n",
       "6   Berdasarkan informasi gejala dan pemeriksaan f...  \n",
       "7   Berdasarkan informasi yang tersedia dalam kont...  \n",
       "8   Berdasarkan informasi gejala yang disampaikan,...  \n",
       "9   Berdasarkan gejala yang Anda sebutkan, berikut...  \n",
       "10  Berdasarkan gejala yang disampaikan, berikut l...  \n",
       "11  Berdasarkan informasi gejala yang disampaikan,...  \n",
       "12  Berdasarkan gejala yang disampaikan, saya akan...  \n",
       "13  Berdasarkan gejala dan pemeriksaan fisik yang ...  \n",
       "14  Berdasarkan informasi klinis yang diberikan da...  \n",
       "15  Berdasarkan informasi klinis yang diberikan, s...  \n",
       "16  Berdasarkan informasi gejala yang diberikan, s...  \n",
       "17  Berdasarkan gejala yang disampaikan, berikut l...  \n",
       "18  Berdasarkan informasi yang tersedia dalam doku...  \n",
       "19  Berdasarkan gejala yang Anda sampaikan, saya a...  \n",
       "20  Berdasarkan informasi klinis yang diberikan, s...  \n",
       "21  Berdasarkan gejala yang disampaikan, berikut l...  \n",
       "22  Berdasarkan informasi yang diberikan dan konte...  \n",
       "23  Berdasarkan informasi yang diberikan, saya aka...  \n",
       "24  Berdasarkan informasi dari konteks dokumen yan...  \n",
       "25  Berdasarkan informasi yang diberikan, saya aka...  \n",
       "26  Berdasarkan informasi dalam konteks yang diber...  \n",
       "27  Berdasarkan gejala yang Anda sampaikan, saya a...  \n",
       "28  Berdasarkan konteks dokumen yang diberikan, kh...  \n",
       "29  Berdasarkan konteks yang diberikan, tidak ada ...  \n",
       "30  Berdasarkan informasi gejala pasien yang menga...  \n",
       "31  Berdasarkan informasi gejala yang diberikan, b...  \n",
       "32  Berdasarkan gejala yang disampaikan, berikut l...  \n",
       "33  Berdasarkan informasi gejala yang diberikan, b...  \n",
       "34  Berdasarkan gejala yang disampaikan, berikut l...  \n",
       "35  Berdasarkan gejala yang disampaikan, berikut l...  \n",
       "36  Berdasarkan gejala yang Anda sampaikan, saya a...  \n",
       "37  Berdasarkan gejala yang Anda sampaikan, beriku...  \n",
       "38  Berdasarkan informasi yang diberikan, saya aka...  \n",
       "39  Berdasarkan gejala yang Anda sampaikan, beriku...  \n",
       "40  Berdasarkan informasi yang diberikan, pasien k...  \n",
       "41  Berdasarkan informasi yang diberikan, saya aka...  \n",
       "42  Berdasarkan gejala yang dialami pasien, beriku...  \n",
       "43  Berdasarkan gejala yang disampaikan, berikut l...  \n",
       "44  Berdasarkan informasi yang diberikan, saya aka...  "
      ]
     },
     "execution_count": 24,
     "metadata": {},
     "output_type": "execute_result"
    }
   ],
   "source": [
    "df['No'] = df['No'].fillna(method='ffill')\n",
    "df['Question'] = df['Question'].fillna(method='ffill')\n",
    "\n",
    "grouped_df = df.groupby(['No', 'Question'], as_index=False).agg({\n",
    "    'Answer': lambda x: ', '.join(x.dropna()),  # or list(x.dropna()) if you prefer a list\n",
    "    'Full Answer': 'first'  # Only keep one LLM response per question\n",
    "})\n",
    "grouped_df\n"
   ]
  },
  {
   "cell_type": "code",
   "execution_count": 21,
   "id": "f8e33d2b",
   "metadata": {},
   "outputs": [],
   "source": [
    "df[\"llm_response\"] = df[\"PARAPHRASE KELUHAN UTAMA\"].apply(process_with_rag)"
   ]
  },
  {
   "cell_type": "code",
   "execution_count": 31,
   "id": "d848d998",
   "metadata": {},
   "outputs": [],
   "source": [
    "cosine_similarities = []\n",
    "bleu_scores = []\n",
    "meteor_scores = []\n",
    "bertP_scores = []\n",
    "bertR_scores = []\n",
    "bertF1_scores = []"
   ]
  },
  {
   "cell_type": "code",
   "execution_count": 32,
   "id": "f098c184",
   "metadata": {},
   "outputs": [
    {
     "name": "stdout",
     "output_type": "stream",
     "text": [
      "index  0\n"
     ]
    },
    {
     "name": "stderr",
     "output_type": "stream",
     "text": [
      "c:\\Users\\Asus\\AppData\\Local\\Programs\\Python\\Python311\\Lib\\site-packages\\nltk\\translate\\bleu_score.py:577: UserWarning: \n",
      "The hypothesis contains 0 counts of 4-gram overlaps.\n",
      "Therefore the BLEU score evaluates to 0, independently of\n",
      "how many N-gram overlaps of lower order it contains.\n",
      "Consider using lower n-gram order or use SmoothingFunction()\n",
      "  warnings.warn(_msg)\n",
      "Some weights of RobertaModel were not initialized from the model checkpoint at roberta-large and are newly initialized: ['roberta.pooler.dense.bias', 'roberta.pooler.dense.weight']\n",
      "You should probably TRAIN this model on a down-stream task to be able to use it for predictions and inference.\n"
     ]
    },
    {
     "name": "stdout",
     "output_type": "stream",
     "text": [
      "index  1\n"
     ]
    },
    {
     "name": "stderr",
     "output_type": "stream",
     "text": [
      "Some weights of RobertaModel were not initialized from the model checkpoint at roberta-large and are newly initialized: ['roberta.pooler.dense.bias', 'roberta.pooler.dense.weight']\n",
      "You should probably TRAIN this model on a down-stream task to be able to use it for predictions and inference.\n"
     ]
    },
    {
     "name": "stdout",
     "output_type": "stream",
     "text": [
      "index  2\n"
     ]
    },
    {
     "name": "stderr",
     "output_type": "stream",
     "text": [
      "Some weights of RobertaModel were not initialized from the model checkpoint at roberta-large and are newly initialized: ['roberta.pooler.dense.bias', 'roberta.pooler.dense.weight']\n",
      "You should probably TRAIN this model on a down-stream task to be able to use it for predictions and inference.\n"
     ]
    },
    {
     "name": "stdout",
     "output_type": "stream",
     "text": [
      "index  3\n"
     ]
    },
    {
     "name": "stderr",
     "output_type": "stream",
     "text": [
      "Some weights of RobertaModel were not initialized from the model checkpoint at roberta-large and are newly initialized: ['roberta.pooler.dense.bias', 'roberta.pooler.dense.weight']\n",
      "You should probably TRAIN this model on a down-stream task to be able to use it for predictions and inference.\n"
     ]
    },
    {
     "name": "stdout",
     "output_type": "stream",
     "text": [
      "index  4\n"
     ]
    },
    {
     "name": "stderr",
     "output_type": "stream",
     "text": [
      "Some weights of RobertaModel were not initialized from the model checkpoint at roberta-large and are newly initialized: ['roberta.pooler.dense.bias', 'roberta.pooler.dense.weight']\n",
      "You should probably TRAIN this model on a down-stream task to be able to use it for predictions and inference.\n"
     ]
    },
    {
     "name": "stdout",
     "output_type": "stream",
     "text": [
      "index  5\n"
     ]
    },
    {
     "name": "stderr",
     "output_type": "stream",
     "text": [
      "c:\\Users\\Asus\\AppData\\Local\\Programs\\Python\\Python311\\Lib\\site-packages\\nltk\\translate\\bleu_score.py:577: UserWarning: \n",
      "The hypothesis contains 0 counts of 3-gram overlaps.\n",
      "Therefore the BLEU score evaluates to 0, independently of\n",
      "how many N-gram overlaps of lower order it contains.\n",
      "Consider using lower n-gram order or use SmoothingFunction()\n",
      "  warnings.warn(_msg)\n",
      "Some weights of RobertaModel were not initialized from the model checkpoint at roberta-large and are newly initialized: ['roberta.pooler.dense.bias', 'roberta.pooler.dense.weight']\n",
      "You should probably TRAIN this model on a down-stream task to be able to use it for predictions and inference.\n"
     ]
    },
    {
     "name": "stdout",
     "output_type": "stream",
     "text": [
      "index  6\n"
     ]
    },
    {
     "name": "stderr",
     "output_type": "stream",
     "text": [
      "Some weights of RobertaModel were not initialized from the model checkpoint at roberta-large and are newly initialized: ['roberta.pooler.dense.bias', 'roberta.pooler.dense.weight']\n",
      "You should probably TRAIN this model on a down-stream task to be able to use it for predictions and inference.\n"
     ]
    },
    {
     "name": "stdout",
     "output_type": "stream",
     "text": [
      "index  7\n"
     ]
    },
    {
     "name": "stderr",
     "output_type": "stream",
     "text": [
      "Some weights of RobertaModel were not initialized from the model checkpoint at roberta-large and are newly initialized: ['roberta.pooler.dense.bias', 'roberta.pooler.dense.weight']\n",
      "You should probably TRAIN this model on a down-stream task to be able to use it for predictions and inference.\n"
     ]
    },
    {
     "name": "stdout",
     "output_type": "stream",
     "text": [
      "index  8\n"
     ]
    },
    {
     "name": "stderr",
     "output_type": "stream",
     "text": [
      "Some weights of RobertaModel were not initialized from the model checkpoint at roberta-large and are newly initialized: ['roberta.pooler.dense.bias', 'roberta.pooler.dense.weight']\n",
      "You should probably TRAIN this model on a down-stream task to be able to use it for predictions and inference.\n"
     ]
    },
    {
     "name": "stdout",
     "output_type": "stream",
     "text": [
      "index  9\n"
     ]
    },
    {
     "name": "stderr",
     "output_type": "stream",
     "text": [
      "c:\\Users\\Asus\\AppData\\Local\\Programs\\Python\\Python311\\Lib\\site-packages\\nltk\\translate\\bleu_score.py:577: UserWarning: \n",
      "The hypothesis contains 0 counts of 2-gram overlaps.\n",
      "Therefore the BLEU score evaluates to 0, independently of\n",
      "how many N-gram overlaps of lower order it contains.\n",
      "Consider using lower n-gram order or use SmoothingFunction()\n",
      "  warnings.warn(_msg)\n",
      "Some weights of RobertaModel were not initialized from the model checkpoint at roberta-large and are newly initialized: ['roberta.pooler.dense.bias', 'roberta.pooler.dense.weight']\n",
      "You should probably TRAIN this model on a down-stream task to be able to use it for predictions and inference.\n"
     ]
    },
    {
     "name": "stdout",
     "output_type": "stream",
     "text": [
      "index  10\n"
     ]
    },
    {
     "name": "stderr",
     "output_type": "stream",
     "text": [
      "Some weights of RobertaModel were not initialized from the model checkpoint at roberta-large and are newly initialized: ['roberta.pooler.dense.bias', 'roberta.pooler.dense.weight']\n",
      "You should probably TRAIN this model on a down-stream task to be able to use it for predictions and inference.\n"
     ]
    },
    {
     "name": "stdout",
     "output_type": "stream",
     "text": [
      "index  11\n"
     ]
    },
    {
     "name": "stderr",
     "output_type": "stream",
     "text": [
      "Some weights of RobertaModel were not initialized from the model checkpoint at roberta-large and are newly initialized: ['roberta.pooler.dense.bias', 'roberta.pooler.dense.weight']\n",
      "You should probably TRAIN this model on a down-stream task to be able to use it for predictions and inference.\n"
     ]
    },
    {
     "name": "stdout",
     "output_type": "stream",
     "text": [
      "index  12\n"
     ]
    },
    {
     "name": "stderr",
     "output_type": "stream",
     "text": [
      "Some weights of RobertaModel were not initialized from the model checkpoint at roberta-large and are newly initialized: ['roberta.pooler.dense.bias', 'roberta.pooler.dense.weight']\n",
      "You should probably TRAIN this model on a down-stream task to be able to use it for predictions and inference.\n"
     ]
    },
    {
     "name": "stdout",
     "output_type": "stream",
     "text": [
      "index  13\n"
     ]
    },
    {
     "name": "stderr",
     "output_type": "stream",
     "text": [
      "Some weights of RobertaModel were not initialized from the model checkpoint at roberta-large and are newly initialized: ['roberta.pooler.dense.bias', 'roberta.pooler.dense.weight']\n",
      "You should probably TRAIN this model on a down-stream task to be able to use it for predictions and inference.\n"
     ]
    },
    {
     "name": "stdout",
     "output_type": "stream",
     "text": [
      "index  14\n"
     ]
    },
    {
     "name": "stderr",
     "output_type": "stream",
     "text": [
      "Some weights of RobertaModel were not initialized from the model checkpoint at roberta-large and are newly initialized: ['roberta.pooler.dense.bias', 'roberta.pooler.dense.weight']\n",
      "You should probably TRAIN this model on a down-stream task to be able to use it for predictions and inference.\n"
     ]
    },
    {
     "name": "stdout",
     "output_type": "stream",
     "text": [
      "index  15\n"
     ]
    },
    {
     "name": "stderr",
     "output_type": "stream",
     "text": [
      "Some weights of RobertaModel were not initialized from the model checkpoint at roberta-large and are newly initialized: ['roberta.pooler.dense.bias', 'roberta.pooler.dense.weight']\n",
      "You should probably TRAIN this model on a down-stream task to be able to use it for predictions and inference.\n"
     ]
    },
    {
     "name": "stdout",
     "output_type": "stream",
     "text": [
      "index  16\n"
     ]
    },
    {
     "name": "stderr",
     "output_type": "stream",
     "text": [
      "Some weights of RobertaModel were not initialized from the model checkpoint at roberta-large and are newly initialized: ['roberta.pooler.dense.bias', 'roberta.pooler.dense.weight']\n",
      "You should probably TRAIN this model on a down-stream task to be able to use it for predictions and inference.\n"
     ]
    },
    {
     "name": "stdout",
     "output_type": "stream",
     "text": [
      "index  17\n"
     ]
    },
    {
     "name": "stderr",
     "output_type": "stream",
     "text": [
      "Some weights of RobertaModel were not initialized from the model checkpoint at roberta-large and are newly initialized: ['roberta.pooler.dense.bias', 'roberta.pooler.dense.weight']\n",
      "You should probably TRAIN this model on a down-stream task to be able to use it for predictions and inference.\n"
     ]
    },
    {
     "name": "stdout",
     "output_type": "stream",
     "text": [
      "index  18\n"
     ]
    },
    {
     "name": "stderr",
     "output_type": "stream",
     "text": [
      "Some weights of RobertaModel were not initialized from the model checkpoint at roberta-large and are newly initialized: ['roberta.pooler.dense.bias', 'roberta.pooler.dense.weight']\n",
      "You should probably TRAIN this model on a down-stream task to be able to use it for predictions and inference.\n"
     ]
    },
    {
     "name": "stdout",
     "output_type": "stream",
     "text": [
      "index  19\n"
     ]
    },
    {
     "name": "stderr",
     "output_type": "stream",
     "text": [
      "Some weights of RobertaModel were not initialized from the model checkpoint at roberta-large and are newly initialized: ['roberta.pooler.dense.bias', 'roberta.pooler.dense.weight']\n",
      "You should probably TRAIN this model on a down-stream task to be able to use it for predictions and inference.\n"
     ]
    },
    {
     "name": "stdout",
     "output_type": "stream",
     "text": [
      "index  20\n"
     ]
    },
    {
     "name": "stderr",
     "output_type": "stream",
     "text": [
      "Some weights of RobertaModel were not initialized from the model checkpoint at roberta-large and are newly initialized: ['roberta.pooler.dense.bias', 'roberta.pooler.dense.weight']\n",
      "You should probably TRAIN this model on a down-stream task to be able to use it for predictions and inference.\n"
     ]
    },
    {
     "name": "stdout",
     "output_type": "stream",
     "text": [
      "index  21\n"
     ]
    },
    {
     "name": "stderr",
     "output_type": "stream",
     "text": [
      "Some weights of RobertaModel were not initialized from the model checkpoint at roberta-large and are newly initialized: ['roberta.pooler.dense.bias', 'roberta.pooler.dense.weight']\n",
      "You should probably TRAIN this model on a down-stream task to be able to use it for predictions and inference.\n"
     ]
    },
    {
     "name": "stdout",
     "output_type": "stream",
     "text": [
      "index  22\n"
     ]
    },
    {
     "name": "stderr",
     "output_type": "stream",
     "text": [
      "Some weights of RobertaModel were not initialized from the model checkpoint at roberta-large and are newly initialized: ['roberta.pooler.dense.bias', 'roberta.pooler.dense.weight']\n",
      "You should probably TRAIN this model on a down-stream task to be able to use it for predictions and inference.\n"
     ]
    },
    {
     "name": "stdout",
     "output_type": "stream",
     "text": [
      "index  23\n"
     ]
    },
    {
     "name": "stderr",
     "output_type": "stream",
     "text": [
      "Some weights of RobertaModel were not initialized from the model checkpoint at roberta-large and are newly initialized: ['roberta.pooler.dense.bias', 'roberta.pooler.dense.weight']\n",
      "You should probably TRAIN this model on a down-stream task to be able to use it for predictions and inference.\n"
     ]
    },
    {
     "name": "stdout",
     "output_type": "stream",
     "text": [
      "index  24\n"
     ]
    },
    {
     "name": "stderr",
     "output_type": "stream",
     "text": [
      "Some weights of RobertaModel were not initialized from the model checkpoint at roberta-large and are newly initialized: ['roberta.pooler.dense.bias', 'roberta.pooler.dense.weight']\n",
      "You should probably TRAIN this model on a down-stream task to be able to use it for predictions and inference.\n"
     ]
    },
    {
     "name": "stdout",
     "output_type": "stream",
     "text": [
      "index  25\n"
     ]
    },
    {
     "name": "stderr",
     "output_type": "stream",
     "text": [
      "Some weights of RobertaModel were not initialized from the model checkpoint at roberta-large and are newly initialized: ['roberta.pooler.dense.bias', 'roberta.pooler.dense.weight']\n",
      "You should probably TRAIN this model on a down-stream task to be able to use it for predictions and inference.\n"
     ]
    },
    {
     "name": "stdout",
     "output_type": "stream",
     "text": [
      "index  26\n"
     ]
    },
    {
     "name": "stderr",
     "output_type": "stream",
     "text": [
      "Some weights of RobertaModel were not initialized from the model checkpoint at roberta-large and are newly initialized: ['roberta.pooler.dense.bias', 'roberta.pooler.dense.weight']\n",
      "You should probably TRAIN this model on a down-stream task to be able to use it for predictions and inference.\n"
     ]
    },
    {
     "name": "stdout",
     "output_type": "stream",
     "text": [
      "index  27\n"
     ]
    },
    {
     "name": "stderr",
     "output_type": "stream",
     "text": [
      "Some weights of RobertaModel were not initialized from the model checkpoint at roberta-large and are newly initialized: ['roberta.pooler.dense.bias', 'roberta.pooler.dense.weight']\n",
      "You should probably TRAIN this model on a down-stream task to be able to use it for predictions and inference.\n"
     ]
    },
    {
     "name": "stdout",
     "output_type": "stream",
     "text": [
      "index  28\n"
     ]
    },
    {
     "name": "stderr",
     "output_type": "stream",
     "text": [
      "Some weights of RobertaModel were not initialized from the model checkpoint at roberta-large and are newly initialized: ['roberta.pooler.dense.bias', 'roberta.pooler.dense.weight']\n",
      "You should probably TRAIN this model on a down-stream task to be able to use it for predictions and inference.\n"
     ]
    },
    {
     "name": "stdout",
     "output_type": "stream",
     "text": [
      "index  29\n"
     ]
    },
    {
     "name": "stderr",
     "output_type": "stream",
     "text": [
      "Some weights of RobertaModel were not initialized from the model checkpoint at roberta-large and are newly initialized: ['roberta.pooler.dense.bias', 'roberta.pooler.dense.weight']\n",
      "You should probably TRAIN this model on a down-stream task to be able to use it for predictions and inference.\n"
     ]
    },
    {
     "name": "stdout",
     "output_type": "stream",
     "text": [
      "index  30\n"
     ]
    },
    {
     "name": "stderr",
     "output_type": "stream",
     "text": [
      "Some weights of RobertaModel were not initialized from the model checkpoint at roberta-large and are newly initialized: ['roberta.pooler.dense.bias', 'roberta.pooler.dense.weight']\n",
      "You should probably TRAIN this model on a down-stream task to be able to use it for predictions and inference.\n"
     ]
    },
    {
     "name": "stdout",
     "output_type": "stream",
     "text": [
      "index  31\n"
     ]
    },
    {
     "name": "stderr",
     "output_type": "stream",
     "text": [
      "Some weights of RobertaModel were not initialized from the model checkpoint at roberta-large and are newly initialized: ['roberta.pooler.dense.bias', 'roberta.pooler.dense.weight']\n",
      "You should probably TRAIN this model on a down-stream task to be able to use it for predictions and inference.\n"
     ]
    },
    {
     "name": "stdout",
     "output_type": "stream",
     "text": [
      "index  32\n"
     ]
    },
    {
     "name": "stderr",
     "output_type": "stream",
     "text": [
      "Some weights of RobertaModel were not initialized from the model checkpoint at roberta-large and are newly initialized: ['roberta.pooler.dense.bias', 'roberta.pooler.dense.weight']\n",
      "You should probably TRAIN this model on a down-stream task to be able to use it for predictions and inference.\n"
     ]
    },
    {
     "name": "stdout",
     "output_type": "stream",
     "text": [
      "index  33\n"
     ]
    },
    {
     "name": "stderr",
     "output_type": "stream",
     "text": [
      "Some weights of RobertaModel were not initialized from the model checkpoint at roberta-large and are newly initialized: ['roberta.pooler.dense.bias', 'roberta.pooler.dense.weight']\n",
      "You should probably TRAIN this model on a down-stream task to be able to use it for predictions and inference.\n"
     ]
    },
    {
     "name": "stdout",
     "output_type": "stream",
     "text": [
      "index  34\n"
     ]
    },
    {
     "name": "stderr",
     "output_type": "stream",
     "text": [
      "Some weights of RobertaModel were not initialized from the model checkpoint at roberta-large and are newly initialized: ['roberta.pooler.dense.bias', 'roberta.pooler.dense.weight']\n",
      "You should probably TRAIN this model on a down-stream task to be able to use it for predictions and inference.\n"
     ]
    },
    {
     "name": "stdout",
     "output_type": "stream",
     "text": [
      "index  35\n"
     ]
    },
    {
     "name": "stderr",
     "output_type": "stream",
     "text": [
      "Some weights of RobertaModel were not initialized from the model checkpoint at roberta-large and are newly initialized: ['roberta.pooler.dense.bias', 'roberta.pooler.dense.weight']\n",
      "You should probably TRAIN this model on a down-stream task to be able to use it for predictions and inference.\n"
     ]
    },
    {
     "name": "stdout",
     "output_type": "stream",
     "text": [
      "index  36\n"
     ]
    },
    {
     "name": "stderr",
     "output_type": "stream",
     "text": [
      "Some weights of RobertaModel were not initialized from the model checkpoint at roberta-large and are newly initialized: ['roberta.pooler.dense.bias', 'roberta.pooler.dense.weight']\n",
      "You should probably TRAIN this model on a down-stream task to be able to use it for predictions and inference.\n"
     ]
    },
    {
     "name": "stdout",
     "output_type": "stream",
     "text": [
      "index  37\n"
     ]
    },
    {
     "name": "stderr",
     "output_type": "stream",
     "text": [
      "Some weights of RobertaModel were not initialized from the model checkpoint at roberta-large and are newly initialized: ['roberta.pooler.dense.bias', 'roberta.pooler.dense.weight']\n",
      "You should probably TRAIN this model on a down-stream task to be able to use it for predictions and inference.\n"
     ]
    },
    {
     "name": "stdout",
     "output_type": "stream",
     "text": [
      "index  38\n"
     ]
    },
    {
     "name": "stderr",
     "output_type": "stream",
     "text": [
      "Some weights of RobertaModel were not initialized from the model checkpoint at roberta-large and are newly initialized: ['roberta.pooler.dense.bias', 'roberta.pooler.dense.weight']\n",
      "You should probably TRAIN this model on a down-stream task to be able to use it for predictions and inference.\n"
     ]
    },
    {
     "name": "stdout",
     "output_type": "stream",
     "text": [
      "index  39\n"
     ]
    },
    {
     "name": "stderr",
     "output_type": "stream",
     "text": [
      "Some weights of RobertaModel were not initialized from the model checkpoint at roberta-large and are newly initialized: ['roberta.pooler.dense.bias', 'roberta.pooler.dense.weight']\n",
      "You should probably TRAIN this model on a down-stream task to be able to use it for predictions and inference.\n"
     ]
    },
    {
     "name": "stdout",
     "output_type": "stream",
     "text": [
      "index  40\n"
     ]
    },
    {
     "name": "stderr",
     "output_type": "stream",
     "text": [
      "Some weights of RobertaModel were not initialized from the model checkpoint at roberta-large and are newly initialized: ['roberta.pooler.dense.bias', 'roberta.pooler.dense.weight']\n",
      "You should probably TRAIN this model on a down-stream task to be able to use it for predictions and inference.\n"
     ]
    },
    {
     "name": "stdout",
     "output_type": "stream",
     "text": [
      "index  41\n"
     ]
    },
    {
     "name": "stderr",
     "output_type": "stream",
     "text": [
      "Some weights of RobertaModel were not initialized from the model checkpoint at roberta-large and are newly initialized: ['roberta.pooler.dense.bias', 'roberta.pooler.dense.weight']\n",
      "You should probably TRAIN this model on a down-stream task to be able to use it for predictions and inference.\n"
     ]
    },
    {
     "name": "stdout",
     "output_type": "stream",
     "text": [
      "index  42\n"
     ]
    },
    {
     "name": "stderr",
     "output_type": "stream",
     "text": [
      "Some weights of RobertaModel were not initialized from the model checkpoint at roberta-large and are newly initialized: ['roberta.pooler.dense.bias', 'roberta.pooler.dense.weight']\n",
      "You should probably TRAIN this model on a down-stream task to be able to use it for predictions and inference.\n"
     ]
    },
    {
     "name": "stdout",
     "output_type": "stream",
     "text": [
      "index  43\n"
     ]
    },
    {
     "name": "stderr",
     "output_type": "stream",
     "text": [
      "Some weights of RobertaModel were not initialized from the model checkpoint at roberta-large and are newly initialized: ['roberta.pooler.dense.bias', 'roberta.pooler.dense.weight']\n",
      "You should probably TRAIN this model on a down-stream task to be able to use it for predictions and inference.\n"
     ]
    },
    {
     "name": "stdout",
     "output_type": "stream",
     "text": [
      "index  44\n"
     ]
    },
    {
     "name": "stderr",
     "output_type": "stream",
     "text": [
      "Some weights of RobertaModel were not initialized from the model checkpoint at roberta-large and are newly initialized: ['roberta.pooler.dense.bias', 'roberta.pooler.dense.weight']\n",
      "You should probably TRAIN this model on a down-stream task to be able to use it for predictions and inference.\n"
     ]
    }
   ],
   "source": [
    "for index, row in grouped_df.iterrows():\n",
    "    print(\"index \", index)\n",
    "    ground_truth = str(row[\"Answer\"]).lower()  \n",
    "    llm_output = str(row[\"Full Answer\"]).lower()  \n",
    "\n",
    "    if not ground_truth or not llm_output:  \n",
    "        cosine_similarities.append(-1)\n",
    "        bertP_scores.append(-1)\n",
    "        bertR_scores.append(-1)\n",
    "        bertF1_scores.append(-1)\n",
    "        bleu_scores.append(-1)\n",
    "        meteor_scores.append(-1)\n",
    "        continue\n",
    "\n",
    "    vectorizer = TfidfVectorizer()\n",
    "    tfidf_matrix = vectorizer.fit_transform([ground_truth, llm_output])\n",
    "    cosine_sim = cosine_similarity(tfidf_matrix[0], tfidf_matrix[1])[0][0]\n",
    "    cosine_similarities.append(cosine_sim)\n",
    "\n",
    "    bleu = sentence_bleu([ground_truth.split()], llm_output.split())\n",
    "    bleu_scores.append(bleu)\n",
    "\n",
    "    meteor = meteor_score([ground_truth.split()], llm_output.split())\n",
    "    meteor_scores.append(meteor)\n",
    "\n",
    "    P, R, F1 = score([llm_output], [ground_truth], lang=\"en\", verbose=False)\n",
    "    bertP_scores.append(P[0].item())\n",
    "    bertR_scores.append(R[0].item())\n",
    "    bertF1_scores.append(F1[0].item())"
   ]
  },
  {
   "cell_type": "code",
   "execution_count": 34,
   "id": "a1c2fa20",
   "metadata": {},
   "outputs": [
    {
     "data": {
      "text/html": [
       "<div>\n",
       "<style scoped>\n",
       "    .dataframe tbody tr th:only-of-type {\n",
       "        vertical-align: middle;\n",
       "    }\n",
       "\n",
       "    .dataframe tbody tr th {\n",
       "        vertical-align: top;\n",
       "    }\n",
       "\n",
       "    .dataframe thead th {\n",
       "        text-align: right;\n",
       "    }\n",
       "</style>\n",
       "<table border=\"1\" class=\"dataframe\">\n",
       "  <thead>\n",
       "    <tr style=\"text-align: right;\">\n",
       "      <th></th>\n",
       "      <th>Question</th>\n",
       "      <th>Answer</th>\n",
       "      <th>Full Answer</th>\n",
       "      <th>bleu_score</th>\n",
       "      <th>cosine_similarity</th>\n",
       "      <th>meteor_score</th>\n",
       "      <th>bert P</th>\n",
       "      <th>bert R</th>\n",
       "      <th>bert F1</th>\n",
       "    </tr>\n",
       "  </thead>\n",
       "  <tbody>\n",
       "    <tr>\n",
       "      <th>0</th>\n",
       "      <td>Pasien mengalami demam pada waktu malam. Sebel...</td>\n",
       "      <td>Demam Tifoid 70%, Demam Berdarah Dengue 30%</td>\n",
       "      <td>Berdasarkan gejala yang disampaikan, saya akan...</td>\n",
       "      <td>5.664578e-79</td>\n",
       "      <td>0.252498</td>\n",
       "      <td>0.210377</td>\n",
       "      <td>0.723584</td>\n",
       "      <td>0.816050</td>\n",
       "      <td>0.767040</td>\n",
       "    </tr>\n",
       "    <tr>\n",
       "      <th>1</th>\n",
       "      <td>Pasien mengalami buang air besar cair lebih da...</td>\n",
       "      <td>Gastroenteritis (GE) Akut 70%, Intoleransi Lak...</td>\n",
       "      <td>Berdasarkan informasi klinis yang diberikan, s...</td>\n",
       "      <td>4.791630e-79</td>\n",
       "      <td>0.062888</td>\n",
       "      <td>0.194378</td>\n",
       "      <td>0.727156</td>\n",
       "      <td>0.832998</td>\n",
       "      <td>0.776487</td>\n",
       "    </tr>\n",
       "    <tr>\n",
       "      <th>2</th>\n",
       "      <td>Pasien datang dengan keluhan demam selama 6 ha...</td>\n",
       "      <td>DBD 80%</td>\n",
       "      <td>Berdasarkan informasi yang diberikan, saya aka...</td>\n",
       "      <td>0.000000e+00</td>\n",
       "      <td>0.041613</td>\n",
       "      <td>0.000000</td>\n",
       "      <td>0.665408</td>\n",
       "      <td>0.805334</td>\n",
       "      <td>0.728715</td>\n",
       "    </tr>\n",
       "    <tr>\n",
       "      <th>3</th>\n",
       "      <td>Pasien menderita demam disertai munculnya brun...</td>\n",
       "      <td>Infeksi Bakteri/Virus (Sistemik) 50%, Infeksi ...</td>\n",
       "      <td>Berdasarkan informasi klinis yang diberikan, s...</td>\n",
       "      <td>4.351407e-79</td>\n",
       "      <td>0.066632</td>\n",
       "      <td>0.107829</td>\n",
       "      <td>0.747812</td>\n",
       "      <td>0.853032</td>\n",
       "      <td>0.796964</td>\n",
       "    </tr>\n",
       "    <tr>\n",
       "      <th>4</th>\n",
       "      <td>Pasien nyeri dada sejak 4 jam lalu seperti ter...</td>\n",
       "      <td>Angina Pekrotis 80%, Infark Miokard Akut (Sera...</td>\n",
       "      <td>Berdasarkan informasi yang diberikan dalam kon...</td>\n",
       "      <td>2.019927e-02</td>\n",
       "      <td>0.140566</td>\n",
       "      <td>0.231846</td>\n",
       "      <td>0.744370</td>\n",
       "      <td>0.849195</td>\n",
       "      <td>0.793335</td>\n",
       "    </tr>\n",
       "  </tbody>\n",
       "</table>\n",
       "</div>"
      ],
      "text/plain": [
       "                                            Question  \\\n",
       "0  Pasien mengalami demam pada waktu malam. Sebel...   \n",
       "1  Pasien mengalami buang air besar cair lebih da...   \n",
       "2  Pasien datang dengan keluhan demam selama 6 ha...   \n",
       "3  Pasien menderita demam disertai munculnya brun...   \n",
       "4  Pasien nyeri dada sejak 4 jam lalu seperti ter...   \n",
       "\n",
       "                                              Answer  \\\n",
       "0        Demam Tifoid 70%, Demam Berdarah Dengue 30%   \n",
       "1  Gastroenteritis (GE) Akut 70%, Intoleransi Lak...   \n",
       "2                                            DBD 80%   \n",
       "3  Infeksi Bakteri/Virus (Sistemik) 50%, Infeksi ...   \n",
       "4  Angina Pekrotis 80%, Infark Miokard Akut (Sera...   \n",
       "\n",
       "                                         Full Answer    bleu_score  \\\n",
       "0  Berdasarkan gejala yang disampaikan, saya akan...  5.664578e-79   \n",
       "1  Berdasarkan informasi klinis yang diberikan, s...  4.791630e-79   \n",
       "2  Berdasarkan informasi yang diberikan, saya aka...  0.000000e+00   \n",
       "3  Berdasarkan informasi klinis yang diberikan, s...  4.351407e-79   \n",
       "4  Berdasarkan informasi yang diberikan dalam kon...  2.019927e-02   \n",
       "\n",
       "   cosine_similarity  meteor_score    bert P    bert R   bert F1  \n",
       "0           0.252498      0.210377  0.723584  0.816050  0.767040  \n",
       "1           0.062888      0.194378  0.727156  0.832998  0.776487  \n",
       "2           0.041613      0.000000  0.665408  0.805334  0.728715  \n",
       "3           0.066632      0.107829  0.747812  0.853032  0.796964  \n",
       "4           0.140566      0.231846  0.744370  0.849195  0.793335  "
      ]
     },
     "execution_count": 34,
     "metadata": {},
     "output_type": "execute_result"
    }
   ],
   "source": [
    "grouped_df[\"cosine_similarity\"] = cosine_similarities[:len(grouped_df)]\n",
    "grouped_df[\"bleu_score\"] = bleu_scores[:len(grouped_df)]\n",
    "grouped_df[\"meteor_score\"] = meteor_scores[:len(grouped_df)]\n",
    "grouped_df[\"bert P\"] = bertP_scores[:len(grouped_df)]\n",
    "grouped_df[\"bert R\"] = bertR_scores[:len(grouped_df)]\n",
    "grouped_df[\"bert F1\"] = bertF1_scores[:len(grouped_df)]\n",
    "\n",
    "grouped_df[[\"Question\", \"Answer\", \"Full Answer\", \n",
    "    \"bleu_score\", \"cosine_similarity\", \"meteor_score\", \"bert P\", \"bert R\", \"bert F1\"]].head()"
   ]
  },
  {
   "cell_type": "code",
   "execution_count": 36,
   "id": "5159fa69",
   "metadata": {},
   "outputs": [
    {
     "data": {
      "text/html": [
       "<div>\n",
       "<style scoped>\n",
       "    .dataframe tbody tr th:only-of-type {\n",
       "        vertical-align: middle;\n",
       "    }\n",
       "\n",
       "    .dataframe tbody tr th {\n",
       "        vertical-align: top;\n",
       "    }\n",
       "\n",
       "    .dataframe thead th {\n",
       "        text-align: right;\n",
       "    }\n",
       "</style>\n",
       "<table border=\"1\" class=\"dataframe\">\n",
       "  <thead>\n",
       "    <tr style=\"text-align: right;\">\n",
       "      <th></th>\n",
       "      <th>No</th>\n",
       "      <th>cosine_similarity</th>\n",
       "      <th>bleu_score</th>\n",
       "      <th>meteor_score</th>\n",
       "      <th>bert P</th>\n",
       "      <th>bert R</th>\n",
       "      <th>bert F1</th>\n",
       "    </tr>\n",
       "  </thead>\n",
       "  <tbody>\n",
       "    <tr>\n",
       "      <th>count</th>\n",
       "      <td>45.000000</td>\n",
       "      <td>45.000000</td>\n",
       "      <td>4.500000e+01</td>\n",
       "      <td>45.000000</td>\n",
       "      <td>45.000000</td>\n",
       "      <td>45.000000</td>\n",
       "      <td>45.000000</td>\n",
       "    </tr>\n",
       "    <tr>\n",
       "      <th>mean</th>\n",
       "      <td>23.000000</td>\n",
       "      <td>0.093949</td>\n",
       "      <td>4.044874e-03</td>\n",
       "      <td>0.127392</td>\n",
       "      <td>0.718930</td>\n",
       "      <td>0.826422</td>\n",
       "      <td>0.768706</td>\n",
       "    </tr>\n",
       "    <tr>\n",
       "      <th>std</th>\n",
       "      <td>13.133926</td>\n",
       "      <td>0.062840</td>\n",
       "      <td>6.912677e-03</td>\n",
       "      <td>0.069796</td>\n",
       "      <td>0.026998</td>\n",
       "      <td>0.017621</td>\n",
       "      <td>0.019841</td>\n",
       "    </tr>\n",
       "    <tr>\n",
       "      <th>min</th>\n",
       "      <td>1.000000</td>\n",
       "      <td>0.000000</td>\n",
       "      <td>0.000000e+00</td>\n",
       "      <td>0.000000</td>\n",
       "      <td>0.655939</td>\n",
       "      <td>0.778179</td>\n",
       "      <td>0.723521</td>\n",
       "    </tr>\n",
       "    <tr>\n",
       "      <th>25%</th>\n",
       "      <td>12.000000</td>\n",
       "      <td>0.047159</td>\n",
       "      <td>1.473514e-155</td>\n",
       "      <td>0.067265</td>\n",
       "      <td>0.701510</td>\n",
       "      <td>0.818860</td>\n",
       "      <td>0.755828</td>\n",
       "    </tr>\n",
       "    <tr>\n",
       "      <th>50%</th>\n",
       "      <td>23.000000</td>\n",
       "      <td>0.074534</td>\n",
       "      <td>4.419622e-79</td>\n",
       "      <td>0.116162</td>\n",
       "      <td>0.723584</td>\n",
       "      <td>0.827084</td>\n",
       "      <td>0.774335</td>\n",
       "    </tr>\n",
       "    <tr>\n",
       "      <th>75%</th>\n",
       "      <td>34.000000</td>\n",
       "      <td>0.131133</td>\n",
       "      <td>1.146919e-02</td>\n",
       "      <td>0.190769</td>\n",
       "      <td>0.741282</td>\n",
       "      <td>0.835486</td>\n",
       "      <td>0.783400</td>\n",
       "    </tr>\n",
       "    <tr>\n",
       "      <th>max</th>\n",
       "      <td>45.000000</td>\n",
       "      <td>0.252498</td>\n",
       "      <td>2.019927e-02</td>\n",
       "      <td>0.256085</td>\n",
       "      <td>0.763659</td>\n",
       "      <td>0.860640</td>\n",
       "      <td>0.796964</td>\n",
       "    </tr>\n",
       "  </tbody>\n",
       "</table>\n",
       "</div>"
      ],
      "text/plain": [
       "              No  cosine_similarity     bleu_score  meteor_score     bert P  \\\n",
       "count  45.000000          45.000000   4.500000e+01     45.000000  45.000000   \n",
       "mean   23.000000           0.093949   4.044874e-03      0.127392   0.718930   \n",
       "std    13.133926           0.062840   6.912677e-03      0.069796   0.026998   \n",
       "min     1.000000           0.000000   0.000000e+00      0.000000   0.655939   \n",
       "25%    12.000000           0.047159  1.473514e-155      0.067265   0.701510   \n",
       "50%    23.000000           0.074534   4.419622e-79      0.116162   0.723584   \n",
       "75%    34.000000           0.131133   1.146919e-02      0.190769   0.741282   \n",
       "max    45.000000           0.252498   2.019927e-02      0.256085   0.763659   \n",
       "\n",
       "          bert R    bert F1  \n",
       "count  45.000000  45.000000  \n",
       "mean    0.826422   0.768706  \n",
       "std     0.017621   0.019841  \n",
       "min     0.778179   0.723521  \n",
       "25%     0.818860   0.755828  \n",
       "50%     0.827084   0.774335  \n",
       "75%     0.835486   0.783400  \n",
       "max     0.860640   0.796964  "
      ]
     },
     "execution_count": 36,
     "metadata": {},
     "output_type": "execute_result"
    }
   ],
   "source": [
    "grouped_df.describe()"
   ]
  }
 ],
 "metadata": {
  "kernelspec": {
   "display_name": "Python 3",
   "language": "python",
   "name": "python3"
  },
  "language_info": {
   "codemirror_mode": {
    "name": "ipython",
    "version": 3
   },
   "file_extension": ".py",
   "mimetype": "text/x-python",
   "name": "python",
   "nbconvert_exporter": "python",
   "pygments_lexer": "ipython3",
   "version": "3.11.5"
  }
 },
 "nbformat": 4,
 "nbformat_minor": 5
}
